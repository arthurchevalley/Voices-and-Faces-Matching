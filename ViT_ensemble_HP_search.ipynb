{
  "nbformat": 4,
  "nbformat_minor": 0,
  "metadata": {
    "colab": {
      "name": "Week 3: ViT_Fuse_ensemble tune.ipynb",
      "provenance": [],
      "collapsed_sections": [
        "DNUOy-oqTVJa",
        "bWtr9dPVTu75",
        "qVsaQ0VyYSRZ"
      ],
      "machine_shape": "hm"
    },
    "kernelspec": {
      "name": "python3",
      "display_name": "Python 3"
    },
    "accelerator": "GPU"
  },
  "cells": [
    {
      "cell_type": "markdown",
      "source": [
        "# Single ViT hyperparam  tuning\n"
      ],
      "metadata": {
        "id": "aoQtCATGVwmW"
      }
    },
    {
      "cell_type": "code",
      "source": [
        "import glob\n",
        "import imageio\n",
        "import matplotlib.pyplot as plt\n",
        "import numpy as np\n",
        "import os\n",
        "import PIL\n",
        "from tensorflow import keras\n",
        "from tensorflow.keras import layers\n",
        "import time\n",
        "import tensorflow as tf\n",
        "import librosa, librosa.display\n",
        "\n",
        "\n",
        "from tensorflow.keras.models import Model\n",
        "from tensorflow.keras.layers import Input, Activation, Reshape, Conv2DTranspose, Dropout\n",
        "from tensorflow.keras.layers import Reshape, MaxPooling2D, Softmax\n",
        "from tensorflow.keras.layers import Dense, Dropout, Flatten, Conv2D, BatchNormalization, LeakyReLU\n",
        "from tensorflow.keras.optimizers import SGD\n",
        "\n",
        "from IPython import display\n",
        "import random\n",
        "from google.colab import drive\n",
        "\n",
        "\n",
        "drive.mount('/content/drive/')\n",
        "%cd 'drive/MyDrive/Colab Notebooks/DLOI/Project'"
      ],
      "metadata": {
        "colab": {
          "base_uri": "https://localhost:8080/"
        },
        "id": "ovK3NgDfVyfl",
        "outputId": "8158ef35-6210-4c94-9098-9894246c9bc4"
      },
      "execution_count": 1,
      "outputs": [
        {
          "output_type": "stream",
          "name": "stdout",
          "text": [
            "Mounted at /content/drive/\n",
            "/content/drive/MyDrive/Colab Notebooks/DLOI/Project\n"
          ]
        }
      ]
    },
    {
      "cell_type": "markdown",
      "source": [
        "## Keras tuner \n"
      ],
      "metadata": {
        "id": "LYKW-oEYGT7K"
      }
    },
    {
      "cell_type": "code",
      "source": [
        "!pip install -q -U keras-tuner\n",
        "import kerastuner as kt\n",
        "from kerastuner.tuners import RandomSearch, Hyperband, BayesianOptimization\n",
        "\n",
        "# random search: randomly samples hyperplane \n",
        "# BayesianOptimization : less comp. expensive than random search and better "
      ],
      "metadata": {
        "id": "c2xZgcZEGS4g",
        "colab": {
          "base_uri": "https://localhost:8080/"
        },
        "outputId": "82af9382-6bf0-4d05-dac5-944b75af3f0f"
      },
      "execution_count": 2,
      "outputs": [
        {
          "output_type": "stream",
          "name": "stdout",
          "text": [
            "\u001b[?25l\r\u001b[K     |██▌                             | 10 kB 29.1 MB/s eta 0:00:01\r\u001b[K     |█████                           | 20 kB 33.6 MB/s eta 0:00:01\r\u001b[K     |███████▍                        | 30 kB 37.3 MB/s eta 0:00:01\r\u001b[K     |█████████▉                      | 40 kB 34.3 MB/s eta 0:00:01\r\u001b[K     |████████████▎                   | 51 kB 26.1 MB/s eta 0:00:01\r\u001b[K     |██████████████▊                 | 61 kB 29.4 MB/s eta 0:00:01\r\u001b[K     |█████████████████▏              | 71 kB 27.8 MB/s eta 0:00:01\r\u001b[K     |███████████████████▋            | 81 kB 28.5 MB/s eta 0:00:01\r\u001b[K     |██████████████████████          | 92 kB 29.5 MB/s eta 0:00:01\r\u001b[K     |████████████████████████▌       | 102 kB 30.9 MB/s eta 0:00:01\r\u001b[K     |███████████████████████████     | 112 kB 30.9 MB/s eta 0:00:01\r\u001b[K     |█████████████████████████████▍  | 122 kB 30.9 MB/s eta 0:00:01\r\u001b[K     |███████████████████████████████▉| 133 kB 30.9 MB/s eta 0:00:01\r\u001b[K     |████████████████████████████████| 133 kB 30.9 MB/s \n",
            "\u001b[?25h"
          ]
        },
        {
          "output_type": "stream",
          "name": "stderr",
          "text": [
            "/usr/local/lib/python3.7/dist-packages/ipykernel_launcher.py:2: DeprecationWarning: `import kerastuner` is deprecated, please use `import keras_tuner`.\n",
            "  \n"
          ]
        }
      ]
    },
    {
      "cell_type": "markdown",
      "source": [
        "Fixed hyperparameters "
      ],
      "metadata": {
        "id": "68Ek5MS90B5v"
      }
    },
    {
      "cell_type": "code",
      "source": [
        "# DATA\n",
        "BATCH_SIZE = 16                                                                      \n",
        "\n",
        "# AUGMENTATION\n",
        "IMAGE_SIZE = 72                                                                 \n",
        "                             \n",
        "# OPTIMIZER\n",
        "LEARNING_RATE = 0.001                                                                \n",
        "WEIGHT_DECAY = 0.0001                                                                 \n",
        "\n",
        "# ARCHITECTURE\n",
        "LAYER_NORM_EPS = 1e-6                                                                 "
      ],
      "metadata": {
        "id": "Vkpnq4emQugi"
      },
      "execution_count": 3,
      "outputs": []
    },
    {
      "cell_type": "markdown",
      "source": [
        "## Dataset"
      ],
      "metadata": {
        "id": "ahudAL4ZQzAb"
      }
    },
    {
      "cell_type": "code",
      "source": [
        "# Download dataset\n",
        "# !gdown 1-2_584NonvhhTgTEO0VBZrfooKxQujnT"
      ],
      "metadata": {
        "id": "r4S5B6uaV2Em"
      },
      "execution_count": null,
      "outputs": []
    },
    {
      "cell_type": "code",
      "source": [
        "# from scipy.sparse import load_npz\n",
        "# data = load_npz('/content/drive/MyDrive/DLOI_Project/audVisIdn.npz')\n",
        "\n",
        "path_person_test='dataset/person_test.npy'\n",
        "path_person_train='dataset/person_train.npy'\n",
        "path_person_val='dataset/person_val.npy'\n",
        "\n",
        "path_imgFrames_test='dataset/imgFrames_test.npy'\n",
        "path_imgFrames_train='dataset/imgFrames_train.npy'\n",
        "path_imgFrames_val='dataset/imgFrames_val.npy'\n",
        "\n",
        "person_test = np.load(path_person_test, mmap_mode='r')\n",
        "person_train = np.load(path_person_train, mmap_mode='r')\n",
        "person_val = np.load(path_person_val, mmap_mode='r')\n",
        "\n",
        "imgFrames_test = np.load(path_imgFrames_test, mmap_mode='r')\n",
        "imgFrames_train = np.load(path_imgFrames_train, mmap_mode='r')\n",
        "imgFrames_val = np.load(path_imgFrames_val, mmap_mode='r')\n",
        "\n",
        "print('Labels:')\n",
        "print(np.shape(person_test)) \n",
        "print(np.shape(person_train)) \n",
        "print(np.shape(person_val)) \n",
        "\n",
        "print('Faces images :')\n",
        "print(np.shape(imgFrames_test)) \n",
        "print(np.shape(imgFrames_train)) \n",
        "print(np.shape(imgFrames_val)) \n",
        "\n",
        "nb_img_train, input_size, input_size, nb_channel = np.shape(imgFrames_train)\n",
        "\n",
        "download_audio_images = True # Set to false to do the Mel spectogram again\n",
        "\n",
        "if download_audio_images: # Load Mel spectogram directly\n",
        "  S_DB_val_path='audio/AudioImages_Val.npy'\n",
        "  S_DB_path='audio/AudioImages_Train.npy'\n",
        "  S_DB_test_path='audio/AudioImages_Test.npy'\n",
        "\n",
        "  S_DB_val = abs(np.load(S_DB_val_path, mmap_mode='r'))\n",
        "  S_DB_test = abs(np.load(S_DB_test_path, mmap_mode='r'))\n",
        "  S_DB = abs(np.load(S_DB_path, mmap_mode='r'))\n",
        "\n",
        "  print('Audio images')\n",
        "  print(np.shape(S_DB_val)) \n",
        "  print(np.shape(S_DB_test)) \n",
        "  print(np.shape(S_DB)) \n",
        "\n",
        "else: # Load Raw speeches\n",
        "\n",
        "  path_audioTrs_test='dataset/audioTrs_test.npy'\n",
        "  path_audioTrs_train='dataset/audioTrs_train.npy'\n",
        "  path_audioTrs_val='dataset/audioTrs_val.npy'\n",
        "\n",
        "  audioTrs_test = np.load(path_audioTrs_test, mmap_mode='r')\n",
        "  audioTrs_train = np.load(path_audioTrs_train, mmap_mode='r')\n",
        "  audioTrs_val = np.load(path_audioTrs_val, mmap_mode='r')  \n",
        "\n",
        "  print('Audio speech')\n",
        "  print(np.shape(audioTrs_test)) \n",
        "  print(np.shape(audioTrs_train)) \n",
        "  print(np.shape(audioTrs_val)) \n"
      ],
      "metadata": {
        "colab": {
          "base_uri": "https://localhost:8080/"
        },
        "id": "Na30llz-WJwk",
        "outputId": "e8c45618-5cfc-44a9-c005-76feee94d603"
      },
      "execution_count": 4,
      "outputs": [
        {
          "output_type": "stream",
          "name": "stdout",
          "text": [
            "Labels:\n",
            "(950,)\n",
            "(2850,)\n",
            "(950,)\n",
            "Faces images :\n",
            "(950, 224, 224, 3)\n",
            "(2850, 224, 224, 3)\n",
            "(950, 224, 224, 3)\n",
            "Audio images\n",
            "(950, 128, 110, 3)\n",
            "(950, 128, 110, 3)\n",
            "(8550, 128, 110, 3)\n"
          ]
        }
      ]
    },
    {
      "cell_type": "markdown",
      "source": [
        "Rescale the labels between 0 and 49"
      ],
      "metadata": {
        "id": "_FblpBtMpIip"
      }
    },
    {
      "cell_type": "code",
      "source": [
        "GT = list(np.unique(person_train))\n",
        "new_id = [i for i in range(49)]\n",
        "id_dict = {}\n",
        "for k in range(len(GT)):\n",
        "  id_dict[GT[k]] = new_id[k]\n",
        "\n",
        "nb_class=49\n",
        "\n",
        "person_train_GT = []\n",
        "for i in range(person_train.shape[0]):\n",
        "  person_train_GT.append(id_dict[person_train[i]]) \n",
        "person_train_GT = np.stack(person_train_GT)\n",
        "output_train_class_onehot = tf.keras.utils.to_categorical(person_train_GT, nb_class)  # create one-hot encoded class\n",
        "\n",
        "person_val_GT = []\n",
        "for i in range(person_val.shape[0]):\n",
        "  person_val_GT.append(id_dict[person_val[i]]) \n",
        "person_val_GT = np.stack(person_val_GT)\n",
        "output_val_class_onehot = tf.keras.utils.to_categorical(person_val_GT, nb_class)  # create one-hot encoded class\n",
        "\n",
        "person_test_GT = []\n",
        "for i in range(person_test.shape[0]):\n",
        "  person_test_GT.append(id_dict[person_test[i]]) \n",
        "person_test_GT = np.stack(person_test_GT)\n",
        "output_test_class_onehot = tf.keras.utils.to_categorical(person_test_GT, nb_class)  # create one-hot encoded class\n",
        "   \n",
        "print('Labels GT:')\n",
        "print(np.shape(person_test_GT)) \n",
        "print(np.shape(person_train_GT)) \n",
        "print(np.shape(person_val_GT)) "
      ],
      "metadata": {
        "id": "d_T8OqClbU-z",
        "colab": {
          "base_uri": "https://localhost:8080/"
        },
        "outputId": "090937e5-863f-4865-8f9a-bd49bccdd93f"
      },
      "execution_count": 5,
      "outputs": [
        {
          "output_type": "stream",
          "name": "stdout",
          "text": [
            "Labels GT:\n",
            "(950,)\n",
            "(2850,)\n",
            "(950,)\n"
          ]
        }
      ]
    },
    {
      "cell_type": "code",
      "source": [
        "# Scale audio mel spectrogram values to match cv image range (0 - 255)\n",
        "max_val = np.max([np.max(S_DB), np.max(S_DB_val), np.max(S_DB_test)])\n",
        "\n",
        "S_DB = 255/max_val*S_DB # range 0 to 255\n",
        "S_DB_val = 255/max_val*S_DB_val\n",
        "S_DB_test = 255/max_val*S_DB_test"
      ],
      "metadata": {
        "id": "yr1zuBWb7w9j"
      },
      "execution_count": 6,
      "outputs": []
    },
    {
      "cell_type": "markdown",
      "source": [
        "Data adaptation for transformers"
      ],
      "metadata": {
        "id": "gqCWnB-q-FMa"
      }
    },
    {
      "cell_type": "code",
      "source": [
        "# Downsampling\n",
        "import cv2\n",
        "def downsample_image(dataset, chosen_input_size):\n",
        "  # INTER_LINEAR or INTER_AREA\n",
        "  return [cv2.resize(image, (chosen_input_size, chosen_input_size), interpolation=cv2.INTER_AREA) for image in dataset]\n",
        "\n",
        "down_sample=True  # True to downsample dataset\n",
        "down_sampled=False\n",
        "fuse = True\n",
        "\n",
        "if down_sample and not down_sampled:\n",
        "  if not fuse:\n",
        "    chosen_input_size=S_DB[0].shape[1]\n",
        "\n",
        "    imgFrames_train=np.array(downsample_image(S_DB, chosen_input_size))\n",
        "    imgFrames_val=np.array(downsample_image(S_DB_val, chosen_input_size))\n",
        "    INPUT_SHAPE = (chosen_input_size, chosen_input_size, nb_channel)\n",
        "\n",
        "  else:\n",
        "    fuse_id = []\n",
        "    for i in range(S_DB.shape[0]):\n",
        "      fuse_id.append(i%3 == 0)\n",
        "    S_DB_fuse = S_DB[fuse_id]\n",
        "\n",
        "    chosen_input_size=32\n",
        "    INPUT_SHAPE_IMG = (chosen_input_size, chosen_input_size, nb_channel)\n",
        "    imgFrames_train_img=np.array(downsample_image(imgFrames_train, chosen_input_size))\n",
        "    imgFrames_val_img=np.array(downsample_image(imgFrames_val, chosen_input_size))\n",
        "    imgFrames_test_img=np.array(downsample_image(imgFrames_test, chosen_input_size))\n",
        "\n",
        "    chosen_input_size=S_DB[0].shape[1]\n",
        "    INPUT_SHAPE_AUDIO = (chosen_input_size, chosen_input_size, nb_channel)\n",
        "\n",
        "    imgFrames_train_audio=np.array(downsample_image(S_DB_fuse, chosen_input_size))\n",
        "    imgFrames_val_audio=np.array(downsample_image(S_DB_val, chosen_input_size))\n",
        "    imgFrames_test_audio=np.array(downsample_image(S_DB_test, chosen_input_size))\n",
        "\n",
        "  down_sampled=True\n",
        "\n",
        "elif not down_sample and not down_sampled:\n",
        "  if not fuse:\n",
        "    INPUT_SHAPE = (input_size, input_size, nb_channel)\n",
        "  else:\n",
        "    chosen_input_size = S_DB[0].shape[1]\n",
        "    INPUT_SHAPE_AUDIO = (chosen_input_size, chosen_input_size, nb_channel)\n",
        "    chosen_input_size = 32\n",
        "    INPUT_SHAPE_IMG = (chosen_input_size, chosen_input_size, nb_channel)\n",
        "else :\n",
        "  print(\"Already downsampled\")\n",
        "\n",
        "NUM_CLASSES = nb_class\n",
        "\n",
        "\n",
        "# Normalization and shuffle\n",
        "norm = 1 # already performed in data-augmentation\n",
        "\n",
        "if fuse:\n",
        "  x_train_img=imgFrames_train_img/norm\n",
        "  r=random.sample(range(len(x_train_img)), len(x_train_img)) # shuffle data\n",
        "  x_train_img=x_train_img[r]\n",
        "  y_train_fuse=person_train_GT[r]\n",
        "\n",
        "  x_train_audio=imgFrames_train_audio/norm\n",
        "  x_train_audio=x_train_audio[r]\n",
        "  #y_train_audio=train_aug_GT[r]\n",
        "\n",
        "  x_test_audio = imgFrames_test_audio/norm\n",
        "  x_test_img = imgFrames_test_img/norm\n",
        "  r=random.sample(range(len(x_test_audio)), len(x_test_audio)) # shuffle data\n",
        "  x_test_audio=x_test_audio[r]\n",
        "  x_test_img=x_test_img[r]\n",
        "\n",
        "  y_test_fuse=person_test_GT[r]\n",
        "\n",
        "\n",
        "  x_val_img=imgFrames_val_img/norm\n",
        "  r=random.sample(range(len(x_val_img)), len(x_val_img))\n",
        "  x_val_img=x_val_img[r]\n",
        "  y_val_fuse=person_val_GT[r]\n",
        "\n",
        "  x_val_audio=imgFrames_val_audio/norm\n",
        "  x_val_audio=x_val_audio[r]\n",
        "  #y_val_audio=person_val_GT[r]\n",
        "\n",
        "\n",
        "else:\n",
        "  x_train=imgFrames_train/norm\n",
        "  r=random.sample(range(len(x_train)), len(x_train)) # shuffle data\n",
        "  x_train=x_train[r]\n",
        "  y_train=train_aug_GT[r]\n",
        "\n",
        "  x_val=imgFrames_val/norm\n",
        "  r=random.sample(range(len(x_val)), len(x_val))\n",
        "  x_val=x_val[r]\n",
        "  y_val=person_val_GT[r]\n",
        "\n",
        "\n",
        "print('Images')\n",
        "print(np.shape(x_train_img)) \n",
        "print(np.shape(x_val_img)) \n",
        "print(np.shape(x_test_img)) \n",
        "\n",
        "print('Audios ')\n",
        "print(np.shape(x_train_audio)) \n",
        "print(np.shape(x_val_audio)) \n",
        "print(np.shape(x_test_audio)) \n",
        "\n",
        "print('Labels')\n",
        "print(np.shape(y_train_fuse)) \n",
        "print(np.shape(y_val_fuse)) \n",
        "print(np.shape(y_test_fuse)) "
      ],
      "metadata": {
        "id": "RyaABq0QVPe3",
        "colab": {
          "base_uri": "https://localhost:8080/"
        },
        "outputId": "3bec5687-6c5f-4b9c-fc19-59bfea0b102e"
      },
      "execution_count": 7,
      "outputs": [
        {
          "output_type": "stream",
          "name": "stdout",
          "text": [
            "Images\n",
            "(2850, 32, 32, 3)\n",
            "(950, 32, 32, 3)\n",
            "(950, 32, 32, 3)\n",
            "Audios \n",
            "(2850, 110, 110, 3)\n",
            "(950, 110, 110, 3)\n",
            "(950, 110, 110, 3)\n",
            "Labels\n",
            "(2850,)\n",
            "(950,)\n",
            "(950,)\n"
          ]
        }
      ]
    },
    {
      "cell_type": "markdown",
      "source": [
        "## Visual transformer definition\n"
      ],
      "metadata": {
        "id": "PwBU7WTfQrZV"
      }
    },
    {
      "cell_type": "code",
      "source": [
        "# ViT\n",
        "!pip install -qq -U tensorflow-addons\n",
        "\n",
        "import tensorflow_addons as tfa\n",
        "import math\n",
        "\n",
        "# Setting seed for reproducibiltiy\n",
        "SEED = 42\n",
        "keras.utils.set_random_seed(SEED)"
      ],
      "metadata": {
        "id": "A5FowG1iQNwP",
        "colab": {
          "base_uri": "https://localhost:8080/"
        },
        "outputId": "5bf76960-ed81-4592-9ac6-b3bb1b5faa3c"
      },
      "execution_count": 8,
      "outputs": [
        {
          "output_type": "stream",
          "name": "stdout",
          "text": [
            "\u001b[?25l\r\u001b[K     |▎                               | 10 kB 23.5 MB/s eta 0:00:01\r\u001b[K     |▋                               | 20 kB 21.1 MB/s eta 0:00:01\r\u001b[K     |▉                               | 30 kB 12.6 MB/s eta 0:00:01\r\u001b[K     |█▏                              | 40 kB 10.4 MB/s eta 0:00:01\r\u001b[K     |█▌                              | 51 kB 7.6 MB/s eta 0:00:01\r\u001b[K     |█▊                              | 61 kB 8.9 MB/s eta 0:00:01\r\u001b[K     |██                              | 71 kB 8.5 MB/s eta 0:00:01\r\u001b[K     |██▍                             | 81 kB 8.2 MB/s eta 0:00:01\r\u001b[K     |██▋                             | 92 kB 9.0 MB/s eta 0:00:01\r\u001b[K     |███                             | 102 kB 9.5 MB/s eta 0:00:01\r\u001b[K     |███▎                            | 112 kB 9.5 MB/s eta 0:00:01\r\u001b[K     |███▌                            | 122 kB 9.5 MB/s eta 0:00:01\r\u001b[K     |███▉                            | 133 kB 9.5 MB/s eta 0:00:01\r\u001b[K     |████▏                           | 143 kB 9.5 MB/s eta 0:00:01\r\u001b[K     |████▍                           | 153 kB 9.5 MB/s eta 0:00:01\r\u001b[K     |████▊                           | 163 kB 9.5 MB/s eta 0:00:01\r\u001b[K     |█████                           | 174 kB 9.5 MB/s eta 0:00:01\r\u001b[K     |█████▎                          | 184 kB 9.5 MB/s eta 0:00:01\r\u001b[K     |█████▋                          | 194 kB 9.5 MB/s eta 0:00:01\r\u001b[K     |██████                          | 204 kB 9.5 MB/s eta 0:00:01\r\u001b[K     |██████▏                         | 215 kB 9.5 MB/s eta 0:00:01\r\u001b[K     |██████▌                         | 225 kB 9.5 MB/s eta 0:00:01\r\u001b[K     |██████▉                         | 235 kB 9.5 MB/s eta 0:00:01\r\u001b[K     |███████                         | 245 kB 9.5 MB/s eta 0:00:01\r\u001b[K     |███████▍                        | 256 kB 9.5 MB/s eta 0:00:01\r\u001b[K     |███████▋                        | 266 kB 9.5 MB/s eta 0:00:01\r\u001b[K     |████████                        | 276 kB 9.5 MB/s eta 0:00:01\r\u001b[K     |████████▎                       | 286 kB 9.5 MB/s eta 0:00:01\r\u001b[K     |████████▌                       | 296 kB 9.5 MB/s eta 0:00:01\r\u001b[K     |████████▉                       | 307 kB 9.5 MB/s eta 0:00:01\r\u001b[K     |█████████▏                      | 317 kB 9.5 MB/s eta 0:00:01\r\u001b[K     |█████████▍                      | 327 kB 9.5 MB/s eta 0:00:01\r\u001b[K     |█████████▊                      | 337 kB 9.5 MB/s eta 0:00:01\r\u001b[K     |██████████                      | 348 kB 9.5 MB/s eta 0:00:01\r\u001b[K     |██████████▎                     | 358 kB 9.5 MB/s eta 0:00:01\r\u001b[K     |██████████▋                     | 368 kB 9.5 MB/s eta 0:00:01\r\u001b[K     |███████████                     | 378 kB 9.5 MB/s eta 0:00:01\r\u001b[K     |███████████▏                    | 389 kB 9.5 MB/s eta 0:00:01\r\u001b[K     |███████████▌                    | 399 kB 9.5 MB/s eta 0:00:01\r\u001b[K     |███████████▉                    | 409 kB 9.5 MB/s eta 0:00:01\r\u001b[K     |████████████                    | 419 kB 9.5 MB/s eta 0:00:01\r\u001b[K     |████████████▍                   | 430 kB 9.5 MB/s eta 0:00:01\r\u001b[K     |████████████▊                   | 440 kB 9.5 MB/s eta 0:00:01\r\u001b[K     |█████████████                   | 450 kB 9.5 MB/s eta 0:00:01\r\u001b[K     |█████████████▎                  | 460 kB 9.5 MB/s eta 0:00:01\r\u001b[K     |█████████████▋                  | 471 kB 9.5 MB/s eta 0:00:01\r\u001b[K     |█████████████▉                  | 481 kB 9.5 MB/s eta 0:00:01\r\u001b[K     |██████████████▏                 | 491 kB 9.5 MB/s eta 0:00:01\r\u001b[K     |██████████████▍                 | 501 kB 9.5 MB/s eta 0:00:01\r\u001b[K     |██████████████▊                 | 512 kB 9.5 MB/s eta 0:00:01\r\u001b[K     |███████████████                 | 522 kB 9.5 MB/s eta 0:00:01\r\u001b[K     |███████████████▎                | 532 kB 9.5 MB/s eta 0:00:01\r\u001b[K     |███████████████▋                | 542 kB 9.5 MB/s eta 0:00:01\r\u001b[K     |████████████████                | 552 kB 9.5 MB/s eta 0:00:01\r\u001b[K     |████████████████▏               | 563 kB 9.5 MB/s eta 0:00:01\r\u001b[K     |████████████████▌               | 573 kB 9.5 MB/s eta 0:00:01\r\u001b[K     |████████████████▉               | 583 kB 9.5 MB/s eta 0:00:01\r\u001b[K     |█████████████████               | 593 kB 9.5 MB/s eta 0:00:01\r\u001b[K     |█████████████████▍              | 604 kB 9.5 MB/s eta 0:00:01\r\u001b[K     |█████████████████▊              | 614 kB 9.5 MB/s eta 0:00:01\r\u001b[K     |██████████████████              | 624 kB 9.5 MB/s eta 0:00:01\r\u001b[K     |██████████████████▎             | 634 kB 9.5 MB/s eta 0:00:01\r\u001b[K     |██████████████████▋             | 645 kB 9.5 MB/s eta 0:00:01\r\u001b[K     |██████████████████▉             | 655 kB 9.5 MB/s eta 0:00:01\r\u001b[K     |███████████████████▏            | 665 kB 9.5 MB/s eta 0:00:01\r\u001b[K     |███████████████████▌            | 675 kB 9.5 MB/s eta 0:00:01\r\u001b[K     |███████████████████▊            | 686 kB 9.5 MB/s eta 0:00:01\r\u001b[K     |████████████████████            | 696 kB 9.5 MB/s eta 0:00:01\r\u001b[K     |████████████████████▍           | 706 kB 9.5 MB/s eta 0:00:01\r\u001b[K     |████████████████████▋           | 716 kB 9.5 MB/s eta 0:00:01\r\u001b[K     |█████████████████████           | 727 kB 9.5 MB/s eta 0:00:01\r\u001b[K     |█████████████████████▏          | 737 kB 9.5 MB/s eta 0:00:01\r\u001b[K     |█████████████████████▌          | 747 kB 9.5 MB/s eta 0:00:01\r\u001b[K     |█████████████████████▉          | 757 kB 9.5 MB/s eta 0:00:01\r\u001b[K     |██████████████████████          | 768 kB 9.5 MB/s eta 0:00:01\r\u001b[K     |██████████████████████▍         | 778 kB 9.5 MB/s eta 0:00:01\r\u001b[K     |██████████████████████▊         | 788 kB 9.5 MB/s eta 0:00:01\r\u001b[K     |███████████████████████         | 798 kB 9.5 MB/s eta 0:00:01\r\u001b[K     |███████████████████████▎        | 808 kB 9.5 MB/s eta 0:00:01\r\u001b[K     |███████████████████████▋        | 819 kB 9.5 MB/s eta 0:00:01\r\u001b[K     |███████████████████████▉        | 829 kB 9.5 MB/s eta 0:00:01\r\u001b[K     |████████████████████████▏       | 839 kB 9.5 MB/s eta 0:00:01\r\u001b[K     |████████████████████████▌       | 849 kB 9.5 MB/s eta 0:00:01\r\u001b[K     |████████████████████████▊       | 860 kB 9.5 MB/s eta 0:00:01\r\u001b[K     |█████████████████████████       | 870 kB 9.5 MB/s eta 0:00:01\r\u001b[K     |█████████████████████████▍      | 880 kB 9.5 MB/s eta 0:00:01\r\u001b[K     |█████████████████████████▋      | 890 kB 9.5 MB/s eta 0:00:01\r\u001b[K     |██████████████████████████      | 901 kB 9.5 MB/s eta 0:00:01\r\u001b[K     |██████████████████████████▎     | 911 kB 9.5 MB/s eta 0:00:01\r\u001b[K     |██████████████████████████▌     | 921 kB 9.5 MB/s eta 0:00:01\r\u001b[K     |██████████████████████████▉     | 931 kB 9.5 MB/s eta 0:00:01\r\u001b[K     |███████████████████████████▏    | 942 kB 9.5 MB/s eta 0:00:01\r\u001b[K     |███████████████████████████▍    | 952 kB 9.5 MB/s eta 0:00:01\r\u001b[K     |███████████████████████████▊    | 962 kB 9.5 MB/s eta 0:00:01\r\u001b[K     |████████████████████████████    | 972 kB 9.5 MB/s eta 0:00:01\r\u001b[K     |████████████████████████████▎   | 983 kB 9.5 MB/s eta 0:00:01\r\u001b[K     |████████████████████████████▋   | 993 kB 9.5 MB/s eta 0:00:01\r\u001b[K     |████████████████████████████▉   | 1.0 MB 9.5 MB/s eta 0:00:01\r\u001b[K     |█████████████████████████████▏  | 1.0 MB 9.5 MB/s eta 0:00:01\r\u001b[K     |█████████████████████████████▌  | 1.0 MB 9.5 MB/s eta 0:00:01\r\u001b[K     |█████████████████████████████▊  | 1.0 MB 9.5 MB/s eta 0:00:01\r\u001b[K     |██████████████████████████████  | 1.0 MB 9.5 MB/s eta 0:00:01\r\u001b[K     |██████████████████████████████▍ | 1.1 MB 9.5 MB/s eta 0:00:01\r\u001b[K     |██████████████████████████████▋ | 1.1 MB 9.5 MB/s eta 0:00:01\r\u001b[K     |███████████████████████████████ | 1.1 MB 9.5 MB/s eta 0:00:01\r\u001b[K     |███████████████████████████████▎| 1.1 MB 9.5 MB/s eta 0:00:01\r\u001b[K     |███████████████████████████████▌| 1.1 MB 9.5 MB/s eta 0:00:01\r\u001b[K     |███████████████████████████████▉| 1.1 MB 9.5 MB/s eta 0:00:01\r\u001b[K     |████████████████████████████████| 1.1 MB 9.5 MB/s \n",
            "\u001b[?25h"
          ]
        }
      ]
    },
    {
      "cell_type": "markdown",
      "source": [
        "Image data augmentation"
      ],
      "metadata": {
        "id": "7oQxVDZYh7Pk"
      }
    },
    {
      "cell_type": "code",
      "source": [
        "# Data augmentation\n",
        "data_augmentation = keras.Sequential(\n",
        "    [\n",
        "        layers.Normalization(),\n",
        "        layers.Resizing(IMAGE_SIZE, IMAGE_SIZE),\n",
        "        layers.RandomFlip(\"horizontal\"),\n",
        "        layers.RandomRotation(factor=0.02),\n",
        "        layers.RandomZoom(height_factor=0.2, width_factor=0.2),\n",
        "    ],\n",
        "    name=\"data_augmentation\",\n",
        ")\n",
        "# Compute the mean and the variance of the training data for normalization.\n",
        "if fuse:\n",
        "  data_augmentation.layers[0].adapt(x_train_img)\n",
        "else:\n",
        "  data_augmentation.layers[0].adapt(x_train)"
      ],
      "metadata": {
        "id": "p8Kdpq_vQ9P9"
      },
      "execution_count": 9,
      "outputs": []
    },
    {
      "cell_type": "markdown",
      "source": [
        "**Shifted Patch Tokenization (SPT)**\n",
        "\n",
        "- Effectively solve the lack of locality inductive bias in a datset and enables to learn from scratch even on small-size datasets. \n",
        "- Implement SPT as a layer"
      ],
      "metadata": {
        "id": "17XLGUtPidiH"
      }
    },
    {
      "cell_type": "code",
      "source": [
        "class ShiftedPatchTokenization(layers.Layer, kt.HyperModel):\n",
        "    def __init__(\n",
        "        self, hp,\n",
        "        image_size=IMAGE_SIZE,\n",
        "        vanilla=False,\n",
        "        **kwargs,\n",
        "    ):\n",
        "        super().__init__(**kwargs)\n",
        "        self.vanilla = vanilla  # Flag to switch to vanilla patch extractor\n",
        "        self.image_size = image_size\n",
        "        self.patch_size = hp.Choice('patch_size',values=[4, 6, 12, 18, 24]) \n",
        "        self.half_patch = self.patch_size // 2\n",
        "        self.flatten_patches = layers.Reshape(((self.image_size // hp.Choice('patch_size',values=[4, 6, 12, 18, 24])) ** 2 , -1))\n",
        "        self.projection = layers.Dense(units=hp.Choice('projection_dim',values=[32, 64, 128]))\n",
        "        self.layer_norm = layers.LayerNormalization(epsilon=LAYER_NORM_EPS)\n",
        "\n",
        "    def crop_shift_pad(self, images, mode):\n",
        "        # Build the diagonally shifted images\n",
        "        if mode == \"left-up\":\n",
        "            crop_height = self.half_patch\n",
        "            crop_width = self.half_patch\n",
        "            shift_height = 0\n",
        "            shift_width = 0\n",
        "        elif mode == \"left-down\":\n",
        "            crop_height = 0\n",
        "            crop_width = self.half_patch\n",
        "            shift_height = self.half_patch\n",
        "            shift_width = 0\n",
        "        elif mode == \"right-up\":\n",
        "            crop_height = self.half_patch\n",
        "            crop_width = 0\n",
        "            shift_height = 0\n",
        "            shift_width = self.half_patch\n",
        "        else:\n",
        "            crop_height = 0\n",
        "            crop_width = 0\n",
        "            shift_height = self.half_patch\n",
        "            shift_width = self.half_patch\n",
        "\n",
        "        # Crop the shifted images and pad them\n",
        "        crop = tf.image.crop_to_bounding_box(\n",
        "            images,\n",
        "            offset_height=crop_height,\n",
        "            offset_width=crop_width,\n",
        "            target_height=self.image_size - self.half_patch,\n",
        "            target_width=self.image_size - self.half_patch,\n",
        "        )\n",
        "        shift_pad = tf.image.pad_to_bounding_box(\n",
        "            crop,\n",
        "            offset_height=shift_height,\n",
        "            offset_width=shift_width,\n",
        "            target_height=self.image_size,\n",
        "            target_width=self.image_size,\n",
        "        )\n",
        "        return shift_pad\n",
        "\n",
        "    def call(self, images):\n",
        "        if not self.vanilla:\n",
        "            # Concat the shifted images with the original image\n",
        "            images = tf.concat(\n",
        "                [\n",
        "                    images,\n",
        "                    self.crop_shift_pad(images, mode=\"left-up\"),\n",
        "                    self.crop_shift_pad(images, mode=\"left-down\"),\n",
        "                    self.crop_shift_pad(images, mode=\"right-up\"),\n",
        "                    self.crop_shift_pad(images, mode=\"right-down\"),\n",
        "                ],\n",
        "                axis=-1,\n",
        "            )\n",
        "        # Patchify the images and flatten it\n",
        "        patches = tf.image.extract_patches(\n",
        "            images=images,\n",
        "            sizes=[1, self.patch_size, self.patch_size, 1],\n",
        "            strides=[1, self.patch_size, self.patch_size, 1],\n",
        "            rates=[1, 1, 1, 1],\n",
        "            padding=\"VALID\",\n",
        "        )\n",
        "        flat_patches = self.flatten_patches(patches)\n",
        "        if not self.vanilla:\n",
        "            # Layer normalize the flat patches and linearly project it\n",
        "            tokens = self.layer_norm(flat_patches)\n",
        "            tokens = self.projection(tokens)\n",
        "        else:\n",
        "            # Linearly project the flat patches\n",
        "            tokens = self.projection(flat_patches)\n",
        "        return (tokens, patches)"
      ],
      "metadata": {
        "id": "0kvCao0yRbkl"
      },
      "execution_count": 10,
      "outputs": []
    },
    {
      "cell_type": "markdown",
      "source": [
        "**Patch encoding layer**\n",
        "- Linearly transforms a patch by projecting it into a vector of size PROJECTION_DIM\n",
        "- Adds a learnable position embedding to the projected vector"
      ],
      "metadata": {
        "id": "DFRpcf7Lpzn3"
      }
    },
    {
      "cell_type": "code",
      "source": [
        "class PatchEncoder(layers.Layer, kt.HyperModel):\n",
        "    def __init__(\n",
        "        self, hp,  images_size=IMAGE_SIZE, **kwargs\n",
        "    ):\n",
        "        super().__init__(**kwargs)\n",
        "        self.num_patches = (images_size // hp.Choice('patch_size',values=[4, 6, 12, 18, 24])) ** 2\n",
        "        self.position_embedding = layers.Embedding(\n",
        "            input_dim=self.num_patches, output_dim=hp.Choice('projection_dim',values=[32, 64, 128]) \n",
        "        )\n",
        "        self.positions = tf.range(start=0, limit=self.num_patches, delta=1)\n",
        "\n",
        "    def call(self, encoded_patches):\n",
        "        encoded_positions = self.position_embedding(self.positions)\n",
        "        encoded_patches = encoded_patches + encoded_positions\n",
        "        return encoded_patches"
      ],
      "metadata": {
        "id": "63_GwsDCSDHY"
      },
      "execution_count": 11,
      "outputs": []
    },
    {
      "cell_type": "markdown",
      "source": [
        "**Locality Self-Attention (LSA)**\n",
        "- Mitigates the smoothing phenomenon of attention score distribution by excluding self-tokens and by applying learnable temperature to the softmax function\n",
        "- Primarily sharpens the distribution of attention scores by learning the temperature parameters of the softmax function. \n",
        "- Then, removes the self-token relation by forcibly suppressing the diagonal components of the similarity matrix computed by Query and Key. This masking relatively increases the attention scores between different tokens, making the distribution of attention scores sharper. \n",
        "- As a result, LSA increases the locality inductive bias by making ViT’s attention locally focused. "
      ],
      "metadata": {
        "id": "ENxf1WLCq2UB"
      }
    },
    {
      "cell_type": "code",
      "source": [
        "class MultiHeadAttentionLSA(tf.keras.layers.MultiHeadAttention):\n",
        "    def __init__(self, **kwargs):\n",
        "        super().__init__(**kwargs)\n",
        "        # The trainable temperature term. The initial value is\n",
        "        # the square root of the key dimension.\n",
        "        self.tau = tf.Variable(math.sqrt(float(self._key_dim)), trainable=True)\n",
        "\n",
        "    def _compute_attention(self, query, key, value, attention_mask=None, training=None):\n",
        "        query = tf.multiply(query, 1.0 / self.tau)\n",
        "        attention_scores = tf.einsum(self._dot_product_equation, key, query)\n",
        "        attention_scores = self._masked_softmax(attention_scores, attention_mask)\n",
        "        attention_scores_dropout = self._dropout_layer(\n",
        "            attention_scores, training=training\n",
        "        )\n",
        "        attention_output = tf.einsum(\n",
        "            self._combine_equation, attention_scores_dropout, value\n",
        "        )\n",
        "        return attention_output, attention_scores"
      ],
      "metadata": {
        "id": "agtmiAZ6SF93"
      },
      "execution_count": 12,
      "outputs": []
    },
    {
      "cell_type": "markdown",
      "source": [
        "**MLP head**\n"
      ],
      "metadata": {
        "id": "Q8sIXlbksLlt"
      }
    },
    {
      "cell_type": "code",
      "source": [
        "def mlp(x, hidden_units, dropout_rate):\n",
        "    for units in hidden_units:\n",
        "        x = layers.Dense(units, activation=tf.nn.gelu)(x)\n",
        "        x = layers.Dropout(dropout_rate)(x)\n",
        "    return x"
      ],
      "metadata": {
        "id": "e07CxIKUSJrs"
      },
      "execution_count": 13,
      "outputs": []
    },
    {
      "cell_type": "code",
      "source": [
        "class Single_ViT_HyperModel(kt.HyperModel):\n",
        "\n",
        "  def __init__(self,input_shape = INPUT_SHAPE_IMG):\n",
        "    self.input_shape = input_shape\n",
        "\n",
        "  def build(self, hp, vanilla=False, image_size=IMAGE_SIZE):\n",
        "      # Build the diagonal attention mask\n",
        "      diag_attn_mask = 1 - tf.eye((image_size // hp.Choice('patch_size',values=[4, 6, 12, 18, 24])) ** 2)\n",
        "      diag_attn_mask = tf.cast([diag_attn_mask], dtype=tf.int8)\n",
        "      \n",
        "      inputs_img = layers.Input(shape=self.input_shape)\n",
        "      # Augment data.\n",
        "      augmented_img = data_augmentation(inputs_img)\n",
        "      # Create patches.\n",
        "      (tokens_img, _) = ShiftedPatchTokenization(hp, vanilla=vanilla)(augmented_img)\n",
        "      # Encode patches.\n",
        "      encoded_img_patches = PatchEncoder(hp)(tokens_img)\n",
        "\n",
        "      # Create multiple layers of the Transformer block.\n",
        "      for _ in range(hp.Choice('transformer_layers',values=[2, 4, 6, 8])):\n",
        "          # Layer normalization 1.\n",
        "          x1_img = layers.LayerNormalization(epsilon=1e-6)(encoded_img_patches)\n",
        "          # Create a multi-head attention layer.\n",
        "          if not vanilla:\n",
        "              attention_output_img = MultiHeadAttentionLSA(\n",
        "                  num_heads=hp.Choice('num_heads',values=[2,3,4,5,6,7,8]), key_dim=hp.Choice('projection_dim',values=[32, 64, 128]), dropout=0.1\n",
        "              )(x1_img, x1_img, attention_mask=diag_attn_mask)\n",
        "          else:\n",
        "              attention_output_img = layers.MultiHeadAttention(\n",
        "                  num_heads=hp.Choice('num_heads',values=[2,3,4,5,6,7,8]), key_dim=hp.Choice('projection_dim',values=[32, 64, 128]), dropout=0.1\n",
        "              )(x1_img, x1_img)\n",
        "          # Skip connection 1.\n",
        "          x2_img = layers.Add()([attention_output_img, encoded_img_patches])\n",
        "          # Layer normalization 2.\n",
        "          x3_img = layers.LayerNormalization(epsilon=1e-6)(x2_img)\n",
        "          # MLP.\n",
        "          x3_img = mlp(x3_img, hidden_units=[hp.Choice('projection_dim',values=[32, 64, 128]) * 2, hp.Choice('projection_dim',values=[32, 64, 128]),] , dropout_rate=0.1)\n",
        "          # Skip connection 2.\n",
        "          encoded_img_patches = layers.Add()([x3_img, x2_img])\n",
        "          # Create a [batch_size, projection_dim] tensor.\n",
        "      representation_img = layers.LayerNormalization(epsilon=1e-6)(encoded_img_patches)\n",
        "      representation_img = layers.Flatten()(representation_img)\n",
        "      representation_img = layers.Dropout(0.5)(representation_img)\n",
        "      representation_img = mlp(representation_img, hidden_units=[2*hp.Choice('mlp_head_units',values=[512, 256, 128]), hp.Choice('mlp_head_units',values=[512, 256, 128])], dropout_rate=0.5)\n",
        "\n",
        "      # Add MLP\n",
        "      features = mlp(representation_img, hidden_units=[2*hp.Choice('mlp_head_units',values=[512, 256, 128]), hp.Choice('mlp_head_units',values=[512, 256, 128])], dropout_rate=0.5)\n",
        "      # Classify outputs.\n",
        "      logits = layers.Dense(NUM_CLASSES)(features)\n",
        "      # Create the Keras model\n",
        "    \n",
        "      model = keras.Model(inputs=inputs_img, outputs=logits)\n",
        "      optimizer = tfa.optimizers.AdamW(\n",
        "          learning_rate=LEARNING_RATE, weight_decay=WEIGHT_DECAY\n",
        "      )\n",
        "\n",
        "      model.compile(\n",
        "          optimizer=optimizer,\n",
        "          loss=keras.losses.SparseCategoricalCrossentropy(from_logits=True),\n",
        "          metrics=[\n",
        "              keras.metrics.SparseCategoricalAccuracy(name=\"accuracy\"),\n",
        "              keras.metrics.SparseTopKCategoricalAccuracy(5, name=\"top-5-accuracy\"),\n",
        "          ],\n",
        "      )\n",
        "\n",
        "      return model\n",
        "    \n",
        "  #def fit(self, hp, model, batch_size=BATCH_SIZE, *args, **kwargs):\n",
        "\n",
        "  #    return model.fit(batch_size=batch_size,*args,**kwargs,)"
      ],
      "metadata": {
        "id": "VjyRk2h6lq9O"
      },
      "execution_count": 14,
      "outputs": []
    },
    {
      "cell_type": "code",
      "source": [
        "def plot_loss_and_accuracy(history_sl):\n",
        "  # model loss\n",
        "  loss='categorical_crossentropy'\n",
        "  metrics=['accuracy']\n",
        "\n",
        "  plt.plot(history_sl.history['loss'])\n",
        "  plt.plot(history_sl.history['val_loss'])\n",
        "  plt.title('Model loss : ' + loss)\n",
        "  plt.ylabel('Loss')\n",
        "  plt.xlabel('Epoch')\n",
        "  plt.legend(['Training', 'Validation'], loc='best')\n",
        "  plt.show()\n",
        "  plt.close()\n",
        "\n",
        "  # model accuracy metric\n",
        "  plt.plot(np.array(history_sl.history[metrics[0]]))\n",
        "  plt.plot(np.array(history_sl.history['val_' + metrics[0]]))\n",
        "  plt.title('Model accuracy metric : ' + metrics[0])\n",
        "  plt.ylabel('Accuracy metric')\n",
        "  plt.xlabel('Epoch')\n",
        "  plt.legend(['Training', 'Validation'], loc='best')\n",
        "  plt.show()\n",
        "  plt.close()"
      ],
      "metadata": {
        "id": "uV1ZCF16phXz"
      },
      "execution_count": 15,
      "outputs": []
    },
    {
      "cell_type": "markdown",
      "source": [
        "## Face Images ViT tuning"
      ],
      "metadata": {
        "id": "xzxQlpfXnOsl"
      }
    },
    {
      "cell_type": "markdown",
      "source": [
        "### 1. Random tuner: objective = validation accuracy "
      ],
      "metadata": {
        "id": "L28BDqdWMBa9"
      }
    },
    {
      "cell_type": "markdown",
      "source": [
        "- max_trials: Integer, the total number of trials (model configurations) to test at most. Note that the oracle may interrupt the search before max_trial models have been tested if the search space has been exhausted."
      ],
      "metadata": {
        "id": "8JY64Q71karm"
      }
    },
    {
      "cell_type": "code",
      "source": [
        "tuner_random_img = RandomSearch(Single_ViT_HyperModel(input_shape = INPUT_SHAPE_IMG), objective='val_accuracy', max_trials=50, executions_per_trial=1, project_name='Hyperparameters_random', overwrite=True)"
      ],
      "metadata": {
        "id": "RYIPWDwMMAiW"
      },
      "execution_count": null,
      "outputs": []
    },
    {
      "cell_type": "code",
      "source": [
        "tuner_random_img.search_space_summary()"
      ],
      "metadata": {
        "colab": {
          "base_uri": "https://localhost:8080/"
        },
        "id": "QxLFSBSBRdLn",
        "outputId": "9d9680ed-5f3e-481d-a075-ef69d425eef8"
      },
      "execution_count": null,
      "outputs": [
        {
          "output_type": "stream",
          "name": "stdout",
          "text": [
            "Search space summary\n",
            "Default search space size: 5\n",
            "patch_size (Choice)\n",
            "{'default': 4, 'conditions': [], 'values': [4, 6, 12, 18, 24], 'ordered': True}\n",
            "projection_dim (Choice)\n",
            "{'default': 32, 'conditions': [], 'values': [32, 64, 128], 'ordered': True}\n",
            "transformer_layers (Choice)\n",
            "{'default': 2, 'conditions': [], 'values': [2, 4, 6, 8], 'ordered': True}\n",
            "num_heads (Choice)\n",
            "{'default': 2, 'conditions': [], 'values': [2, 3, 4, 5, 6, 7, 8], 'ordered': True}\n",
            "mlp_head_units (Choice)\n",
            "{'default': 512, 'conditions': [], 'values': [512, 256, 128], 'ordered': True}\n"
          ]
        }
      ]
    },
    {
      "cell_type": "code",
      "source": [
        "tuner_random_img.search(x_train_img, y_train_fuse, epochs=30,  validation_data=(x_val_img, y_val_fuse))"
      ],
      "metadata": {
        "colab": {
          "base_uri": "https://localhost:8080/"
        },
        "id": "5-1t7xmRRu2H",
        "outputId": "aa06e875-c72b-4e1f-9436-f1010be1efb8"
      },
      "execution_count": null,
      "outputs": [
        {
          "output_type": "stream",
          "name": "stdout",
          "text": [
            "Trial 50 Complete [00h 01m 03s]\n",
            "val_accuracy: 0.6578947305679321\n",
            "\n",
            "Best val_accuracy So Far: 0.7273684144020081\n",
            "Total elapsed time: 02h 40m 49s\n",
            "INFO:tensorflow:Oracle triggered exit\n"
          ]
        }
      ]
    },
    {
      "cell_type": "markdown",
      "source": [
        "For the Face images ViT, the best validation accuracy is 0.73"
      ],
      "metadata": {
        "id": "3ILIGyQUojCy"
      }
    },
    {
      "cell_type": "code",
      "source": [
        "best_hps_hyper_img = tuner_random_img.get_best_hyperparameters()[0]\n",
        "print('For the Face images ViT, the best parameters are: ')\n",
        "print(' - Patch size:            {}'.format(best_hps_hyper_img.get('patch_size')))\n",
        "print(' - Projection dimension:  {}'.format(best_hps_hyper_img.get('projection_dim')))\n",
        "print(' - Transformer layers:    {}'.format(best_hps_hyper_img.get('transformer_layers')))\n",
        "print(' - Number of heads:       {}'.format(best_hps_hyper_img.get('num_heads')))\n",
        "print(' - MLP head units:        [{}, {}]'.format(2*best_hps_hyper_img.get('mlp_head_units'), best_hps_hyper_img.get('mlp_head_units')))"
      ],
      "metadata": {
        "colab": {
          "base_uri": "https://localhost:8080/"
        },
        "id": "jYJfYMvPnOZo",
        "outputId": "2567db2f-89e7-466f-cace-1dbcd9458fe6"
      },
      "execution_count": null,
      "outputs": [
        {
          "output_type": "stream",
          "name": "stdout",
          "text": [
            "For the Face images ViT, the best parameters are: \n",
            " - Patch size:            18\n",
            " - Projection dimension:  32\n",
            " - Transformer layers:    6\n",
            " - Number of heads:       6\n",
            " - MLP head units:        [1024, 512]\n"
          ]
        }
      ]
    },
    {
      "cell_type": "code",
      "source": [
        "model = tuner_random_img.hypermodel.build(best_hps_hyper_img)\n",
        "model.save('model_save')"
      ],
      "metadata": {
        "colab": {
          "base_uri": "https://localhost:8080/"
        },
        "id": "ZJxm8jlfNhCX",
        "outputId": "8f587cf3-1c30-4669-e5b8-6c270ee44a7d"
      },
      "execution_count": null,
      "outputs": [
        {
          "output_type": "stream",
          "name": "stderr",
          "text": [
            "WARNING:absl:Found untraced functions such as reshape_4_layer_call_fn, reshape_4_layer_call_and_return_conditional_losses, dense_56_layer_call_fn, dense_56_layer_call_and_return_conditional_losses, layer_normalization_40_layer_call_fn while saving (showing 5 of 80). These functions will not be directly callable after loading.\n"
          ]
        },
        {
          "output_type": "stream",
          "name": "stdout",
          "text": [
            "INFO:tensorflow:Assets written to: model_save/assets\n"
          ]
        },
        {
          "output_type": "stream",
          "name": "stderr",
          "text": [
            "INFO:tensorflow:Assets written to: model_save/assets\n"
          ]
        }
      ]
    },
    {
      "cell_type": "markdown",
      "source": [
        "Best model further training "
      ],
      "metadata": {
        "id": "Bm8owuSOXOSb"
      }
    },
    {
      "cell_type": "code",
      "source": [
        "best_model_img = keras.models.load_model('model_save')"
      ],
      "metadata": {
        "id": "R7luLVUvWnnQ"
      },
      "execution_count": 16,
      "outputs": []
    },
    {
      "cell_type": "code",
      "source": [
        "max_epochs = 150\n",
        "history_img = best_model_img.fit(x_train_img, y_train_fuse, batch_size = BATCH_SIZE,\n",
        "                    epochs = max_epochs,\n",
        "                    validation_data=(x_val_img, y_val_fuse),\n",
        "                    shuffle = True)"
      ],
      "metadata": {
        "colab": {
          "base_uri": "https://localhost:8080/"
        },
        "id": "dTGBN1pZXRGU",
        "outputId": "df2a15dd-ffa8-4b67-ceca-4df42b6202c5"
      },
      "execution_count": null,
      "outputs": [
        {
          "output_type": "stream",
          "name": "stdout",
          "text": [
            "Epoch 1/150\n",
            "179/179 [==============================] - 21s 46ms/step - loss: 3.8051 - accuracy: 0.0916 - top-5-accuracy: 0.2446 - val_loss: 3.1941 - val_accuracy: 0.2400 - val_top-5-accuracy: 0.4632\n",
            "Epoch 2/150\n",
            "179/179 [==============================] - 7s 37ms/step - loss: 3.3660 - accuracy: 0.1516 - top-5-accuracy: 0.3891 - val_loss: 2.9030 - val_accuracy: 0.2684 - val_top-5-accuracy: 0.5337\n",
            "Epoch 3/150\n",
            "179/179 [==============================] - 8s 46ms/step - loss: 3.1268 - accuracy: 0.1912 - top-5-accuracy: 0.4688 - val_loss: 2.5191 - val_accuracy: 0.3305 - val_top-5-accuracy: 0.6189\n",
            "Epoch 4/150\n",
            "179/179 [==============================] - 12s 66ms/step - loss: 2.9511 - accuracy: 0.2414 - top-5-accuracy: 0.5140 - val_loss: 2.3755 - val_accuracy: 0.3642 - val_top-5-accuracy: 0.6516\n",
            "Epoch 5/150\n",
            "179/179 [==============================] - 8s 43ms/step - loss: 2.7997 - accuracy: 0.2670 - top-5-accuracy: 0.5509 - val_loss: 2.2504 - val_accuracy: 0.3779 - val_top-5-accuracy: 0.6884\n",
            "Epoch 6/150\n",
            "179/179 [==============================] - 11s 61ms/step - loss: 2.6843 - accuracy: 0.2891 - top-5-accuracy: 0.5989 - val_loss: 2.1071 - val_accuracy: 0.4316 - val_top-5-accuracy: 0.7421\n",
            "Epoch 7/150\n",
            "179/179 [==============================] - 11s 60ms/step - loss: 2.5071 - accuracy: 0.3291 - top-5-accuracy: 0.6365 - val_loss: 1.9758 - val_accuracy: 0.4674 - val_top-5-accuracy: 0.7347\n",
            "Epoch 8/150\n",
            "179/179 [==============================] - 10s 57ms/step - loss: 2.4474 - accuracy: 0.3512 - top-5-accuracy: 0.6596 - val_loss: 1.9113 - val_accuracy: 0.4684 - val_top-5-accuracy: 0.7600\n",
            "Epoch 9/150\n",
            "179/179 [==============================] - 7s 38ms/step - loss: 2.3568 - accuracy: 0.3649 - top-5-accuracy: 0.6782 - val_loss: 1.8124 - val_accuracy: 0.5021 - val_top-5-accuracy: 0.7832\n",
            "Epoch 10/150\n",
            "179/179 [==============================] - 10s 58ms/step - loss: 2.2679 - accuracy: 0.3895 - top-5-accuracy: 0.7039 - val_loss: 1.6619 - val_accuracy: 0.5642 - val_top-5-accuracy: 0.8211\n",
            "Epoch 11/150\n",
            "179/179 [==============================] - 7s 39ms/step - loss: 2.1963 - accuracy: 0.4123 - top-5-accuracy: 0.7246 - val_loss: 1.6518 - val_accuracy: 0.5442 - val_top-5-accuracy: 0.8200\n",
            "Epoch 12/150\n",
            "179/179 [==============================] - 7s 37ms/step - loss: 2.0889 - accuracy: 0.4340 - top-5-accuracy: 0.7449 - val_loss: 1.5665 - val_accuracy: 0.5768 - val_top-5-accuracy: 0.8284\n",
            "Epoch 13/150\n",
            "179/179 [==============================] - 7s 38ms/step - loss: 2.0897 - accuracy: 0.4418 - top-5-accuracy: 0.7512 - val_loss: 1.5372 - val_accuracy: 0.5789 - val_top-5-accuracy: 0.8284\n",
            "Epoch 14/150\n",
            "179/179 [==============================] - 7s 38ms/step - loss: 1.9997 - accuracy: 0.4646 - top-5-accuracy: 0.7558 - val_loss: 1.6177 - val_accuracy: 0.5484 - val_top-5-accuracy: 0.8200\n",
            "Epoch 15/150\n",
            "179/179 [==============================] - 7s 37ms/step - loss: 1.9605 - accuracy: 0.4618 - top-5-accuracy: 0.7775 - val_loss: 1.4870 - val_accuracy: 0.6021 - val_top-5-accuracy: 0.8400\n",
            "Epoch 16/150\n",
            "179/179 [==============================] - 7s 37ms/step - loss: 1.9040 - accuracy: 0.4733 - top-5-accuracy: 0.7853 - val_loss: 1.4197 - val_accuracy: 0.6242 - val_top-5-accuracy: 0.8547\n",
            "Epoch 17/150\n",
            "179/179 [==============================] - 7s 37ms/step - loss: 1.8324 - accuracy: 0.4979 - top-5-accuracy: 0.8028 - val_loss: 1.4297 - val_accuracy: 0.6221 - val_top-5-accuracy: 0.8558\n",
            "Epoch 18/150\n",
            "179/179 [==============================] - 9s 49ms/step - loss: 1.8182 - accuracy: 0.5007 - top-5-accuracy: 0.7954 - val_loss: 1.4159 - val_accuracy: 0.6179 - val_top-5-accuracy: 0.8526\n",
            "Epoch 19/150\n",
            "179/179 [==============================] - 8s 45ms/step - loss: 1.8296 - accuracy: 0.4937 - top-5-accuracy: 0.7951 - val_loss: 1.3714 - val_accuracy: 0.6095 - val_top-5-accuracy: 0.8621\n",
            "Epoch 20/150\n",
            "179/179 [==============================] - 7s 37ms/step - loss: 1.7637 - accuracy: 0.5186 - top-5-accuracy: 0.8102 - val_loss: 1.3136 - val_accuracy: 0.6547 - val_top-5-accuracy: 0.8684\n",
            "Epoch 21/150\n",
            "179/179 [==============================] - 7s 38ms/step - loss: 1.7231 - accuracy: 0.5368 - top-5-accuracy: 0.8218 - val_loss: 1.2419 - val_accuracy: 0.6516 - val_top-5-accuracy: 0.8884\n",
            "Epoch 22/150\n",
            "179/179 [==============================] - 7s 39ms/step - loss: 1.6868 - accuracy: 0.5305 - top-5-accuracy: 0.8365 - val_loss: 1.3019 - val_accuracy: 0.6295 - val_top-5-accuracy: 0.8726\n",
            "Epoch 23/150\n",
            "179/179 [==============================] - 7s 38ms/step - loss: 1.6877 - accuracy: 0.5319 - top-5-accuracy: 0.8249 - val_loss: 1.1955 - val_accuracy: 0.6653 - val_top-5-accuracy: 0.8947\n",
            "Epoch 24/150\n",
            "179/179 [==============================] - 7s 37ms/step - loss: 1.6097 - accuracy: 0.5561 - top-5-accuracy: 0.8375 - val_loss: 1.2014 - val_accuracy: 0.6621 - val_top-5-accuracy: 0.8832\n",
            "Epoch 25/150\n",
            "179/179 [==============================] - 7s 37ms/step - loss: 1.6064 - accuracy: 0.5554 - top-5-accuracy: 0.8435 - val_loss: 1.1709 - val_accuracy: 0.6863 - val_top-5-accuracy: 0.8842\n",
            "Epoch 26/150\n",
            "179/179 [==============================] - 7s 39ms/step - loss: 1.5682 - accuracy: 0.5572 - top-5-accuracy: 0.8516 - val_loss: 1.1891 - val_accuracy: 0.6737 - val_top-5-accuracy: 0.8842\n",
            "Epoch 27/150\n",
            "179/179 [==============================] - 7s 37ms/step - loss: 1.5372 - accuracy: 0.5723 - top-5-accuracy: 0.8632 - val_loss: 1.2011 - val_accuracy: 0.6821 - val_top-5-accuracy: 0.8874\n",
            "Epoch 28/150\n",
            "179/179 [==============================] - 7s 38ms/step - loss: 1.5279 - accuracy: 0.5775 - top-5-accuracy: 0.8509 - val_loss: 1.2128 - val_accuracy: 0.6779 - val_top-5-accuracy: 0.8832\n",
            "Epoch 29/150\n",
            "179/179 [==============================] - 7s 38ms/step - loss: 1.5500 - accuracy: 0.5796 - top-5-accuracy: 0.8568 - val_loss: 1.0949 - val_accuracy: 0.6947 - val_top-5-accuracy: 0.8968\n",
            "Epoch 30/150\n",
            "179/179 [==============================] - 7s 38ms/step - loss: 1.5251 - accuracy: 0.5726 - top-5-accuracy: 0.8639 - val_loss: 1.0557 - val_accuracy: 0.6895 - val_top-5-accuracy: 0.8989\n",
            "Epoch 31/150\n",
            "179/179 [==============================] - 7s 38ms/step - loss: 1.4789 - accuracy: 0.5733 - top-5-accuracy: 0.8625 - val_loss: 1.1337 - val_accuracy: 0.6821 - val_top-5-accuracy: 0.9021\n",
            "Epoch 32/150\n",
            "179/179 [==============================] - 10s 59ms/step - loss: 1.5348 - accuracy: 0.5835 - top-5-accuracy: 0.8526 - val_loss: 1.0934 - val_accuracy: 0.6884 - val_top-5-accuracy: 0.9053\n",
            "Epoch 33/150\n",
            "179/179 [==============================] - 7s 38ms/step - loss: 1.5127 - accuracy: 0.5814 - top-5-accuracy: 0.8625 - val_loss: 1.0396 - val_accuracy: 0.6968 - val_top-5-accuracy: 0.9189\n",
            "Epoch 34/150\n",
            "179/179 [==============================] - 7s 38ms/step - loss: 1.4329 - accuracy: 0.5954 - top-5-accuracy: 0.8702 - val_loss: 1.0054 - val_accuracy: 0.7179 - val_top-5-accuracy: 0.9042\n",
            "Epoch 35/150\n",
            "179/179 [==============================] - 8s 42ms/step - loss: 1.3838 - accuracy: 0.6151 - top-5-accuracy: 0.8758 - val_loss: 1.0774 - val_accuracy: 0.6979 - val_top-5-accuracy: 0.9074\n",
            "Epoch 36/150\n",
            "179/179 [==============================] - 10s 56ms/step - loss: 1.3770 - accuracy: 0.6172 - top-5-accuracy: 0.8842 - val_loss: 1.0527 - val_accuracy: 0.7168 - val_top-5-accuracy: 0.9063\n",
            "Epoch 37/150\n",
            "179/179 [==============================] - 11s 62ms/step - loss: 1.4014 - accuracy: 0.6193 - top-5-accuracy: 0.8832 - val_loss: 1.0621 - val_accuracy: 0.7084 - val_top-5-accuracy: 0.9074\n",
            "Epoch 38/150\n",
            "179/179 [==============================] - 11s 60ms/step - loss: 1.3863 - accuracy: 0.6249 - top-5-accuracy: 0.8796 - val_loss: 1.0378 - val_accuracy: 0.7253 - val_top-5-accuracy: 0.9095\n",
            "Epoch 39/150\n",
            "179/179 [==============================] - 11s 60ms/step - loss: 1.3587 - accuracy: 0.6186 - top-5-accuracy: 0.8751 - val_loss: 1.0042 - val_accuracy: 0.7358 - val_top-5-accuracy: 0.9105\n",
            "Epoch 40/150\n",
            "179/179 [==============================] - 10s 57ms/step - loss: 1.3342 - accuracy: 0.6232 - top-5-accuracy: 0.8800 - val_loss: 0.9658 - val_accuracy: 0.7379 - val_top-5-accuracy: 0.9105\n",
            "Epoch 41/150\n",
            "179/179 [==============================] - 10s 54ms/step - loss: 1.3227 - accuracy: 0.6256 - top-5-accuracy: 0.8895 - val_loss: 0.9894 - val_accuracy: 0.7337 - val_top-5-accuracy: 0.9126\n",
            "Epoch 42/150\n",
            "179/179 [==============================] - 10s 58ms/step - loss: 1.3095 - accuracy: 0.6372 - top-5-accuracy: 0.8905 - val_loss: 1.0206 - val_accuracy: 0.7168 - val_top-5-accuracy: 0.9042\n",
            "Epoch 43/150\n",
            "179/179 [==============================] - 10s 56ms/step - loss: 1.2910 - accuracy: 0.6235 - top-5-accuracy: 0.8993 - val_loss: 0.9980 - val_accuracy: 0.7284 - val_top-5-accuracy: 0.9105\n",
            "Epoch 44/150\n",
            "179/179 [==============================] - 11s 64ms/step - loss: 1.3204 - accuracy: 0.6305 - top-5-accuracy: 0.8835 - val_loss: 0.9282 - val_accuracy: 0.7379 - val_top-5-accuracy: 0.9105\n",
            "Epoch 45/150\n",
            "179/179 [==============================] - 12s 66ms/step - loss: 1.2809 - accuracy: 0.6305 - top-5-accuracy: 0.8965 - val_loss: 0.9014 - val_accuracy: 0.7484 - val_top-5-accuracy: 0.9147\n",
            "Epoch 46/150\n",
            "179/179 [==============================] - 7s 38ms/step - loss: 1.2903 - accuracy: 0.6379 - top-5-accuracy: 0.8972 - val_loss: 0.9295 - val_accuracy: 0.7632 - val_top-5-accuracy: 0.9189\n",
            "Epoch 47/150\n",
            "179/179 [==============================] - 7s 39ms/step - loss: 1.3208 - accuracy: 0.6298 - top-5-accuracy: 0.8926 - val_loss: 0.8999 - val_accuracy: 0.7558 - val_top-5-accuracy: 0.9158\n",
            "Epoch 48/150\n",
            "179/179 [==============================] - 7s 38ms/step - loss: 1.3439 - accuracy: 0.6277 - top-5-accuracy: 0.8898 - val_loss: 0.9752 - val_accuracy: 0.7389 - val_top-5-accuracy: 0.9242\n",
            "Epoch 49/150\n",
            "179/179 [==============================] - 7s 38ms/step - loss: 1.3091 - accuracy: 0.6470 - top-5-accuracy: 0.8986 - val_loss: 0.9583 - val_accuracy: 0.7453 - val_top-5-accuracy: 0.9074\n",
            "Epoch 50/150\n",
            "179/179 [==============================] - 7s 40ms/step - loss: 1.2932 - accuracy: 0.6484 - top-5-accuracy: 0.9000 - val_loss: 0.9003 - val_accuracy: 0.7632 - val_top-5-accuracy: 0.9253\n",
            "Epoch 51/150\n",
            "179/179 [==============================] - 7s 38ms/step - loss: 1.2675 - accuracy: 0.6428 - top-5-accuracy: 0.8926 - val_loss: 0.8904 - val_accuracy: 0.7568 - val_top-5-accuracy: 0.9189\n",
            "Epoch 52/150\n",
            "179/179 [==============================] - 7s 38ms/step - loss: 1.2599 - accuracy: 0.6554 - top-5-accuracy: 0.8975 - val_loss: 0.8788 - val_accuracy: 0.7705 - val_top-5-accuracy: 0.9116\n",
            "Epoch 53/150\n",
            "179/179 [==============================] - 7s 41ms/step - loss: 1.2497 - accuracy: 0.6582 - top-5-accuracy: 0.9011 - val_loss: 0.8977 - val_accuracy: 0.7463 - val_top-5-accuracy: 0.9232\n",
            "Epoch 54/150\n",
            "179/179 [==============================] - 12s 68ms/step - loss: 1.2142 - accuracy: 0.6712 - top-5-accuracy: 0.9126 - val_loss: 0.9138 - val_accuracy: 0.7453 - val_top-5-accuracy: 0.9253\n",
            "Epoch 55/150\n",
            "179/179 [==============================] - 11s 62ms/step - loss: 1.2654 - accuracy: 0.6460 - top-5-accuracy: 0.9042 - val_loss: 0.8594 - val_accuracy: 0.7653 - val_top-5-accuracy: 0.9242\n",
            "Epoch 56/150\n",
            "179/179 [==============================] - 7s 39ms/step - loss: 1.1757 - accuracy: 0.6782 - top-5-accuracy: 0.9049 - val_loss: 0.8864 - val_accuracy: 0.7674 - val_top-5-accuracy: 0.9211\n",
            "Epoch 57/150\n",
            "179/179 [==============================] - 7s 38ms/step - loss: 1.2223 - accuracy: 0.6649 - top-5-accuracy: 0.9046 - val_loss: 0.8852 - val_accuracy: 0.7579 - val_top-5-accuracy: 0.9253\n",
            "Epoch 58/150\n",
            "179/179 [==============================] - 7s 38ms/step - loss: 1.2005 - accuracy: 0.6751 - top-5-accuracy: 0.8965 - val_loss: 0.9135 - val_accuracy: 0.7495 - val_top-5-accuracy: 0.9221\n",
            "Epoch 59/150\n",
            "179/179 [==============================] - 7s 38ms/step - loss: 1.2328 - accuracy: 0.6596 - top-5-accuracy: 0.9053 - val_loss: 0.8402 - val_accuracy: 0.7674 - val_top-5-accuracy: 0.9295\n",
            "Epoch 60/150\n",
            "179/179 [==============================] - 7s 38ms/step - loss: 1.1557 - accuracy: 0.6709 - top-5-accuracy: 0.9140 - val_loss: 0.8523 - val_accuracy: 0.7684 - val_top-5-accuracy: 0.9305\n",
            "Epoch 61/150\n",
            "179/179 [==============================] - 7s 38ms/step - loss: 1.1393 - accuracy: 0.6772 - top-5-accuracy: 0.9126 - val_loss: 0.9052 - val_accuracy: 0.7632 - val_top-5-accuracy: 0.9263\n",
            "Epoch 62/150\n",
            "179/179 [==============================] - 7s 38ms/step - loss: 1.2085 - accuracy: 0.6702 - top-5-accuracy: 0.9021 - val_loss: 0.8661 - val_accuracy: 0.7653 - val_top-5-accuracy: 0.9211\n",
            "Epoch 63/150\n",
            "179/179 [==============================] - 7s 38ms/step - loss: 1.1415 - accuracy: 0.6881 - top-5-accuracy: 0.9151 - val_loss: 0.8604 - val_accuracy: 0.7632 - val_top-5-accuracy: 0.9337\n",
            "Epoch 64/150\n",
            "179/179 [==============================] - 7s 38ms/step - loss: 1.1441 - accuracy: 0.6758 - top-5-accuracy: 0.9211 - val_loss: 0.8150 - val_accuracy: 0.7832 - val_top-5-accuracy: 0.9284\n",
            "Epoch 65/150\n",
            "179/179 [==============================] - 7s 38ms/step - loss: 1.1612 - accuracy: 0.6740 - top-5-accuracy: 0.9137 - val_loss: 0.8563 - val_accuracy: 0.7705 - val_top-5-accuracy: 0.9295\n",
            "Epoch 66/150\n",
            "179/179 [==============================] - 7s 38ms/step - loss: 1.1325 - accuracy: 0.6825 - top-5-accuracy: 0.9193 - val_loss: 0.8266 - val_accuracy: 0.7737 - val_top-5-accuracy: 0.9232\n",
            "Epoch 67/150\n",
            "179/179 [==============================] - 7s 38ms/step - loss: 1.1395 - accuracy: 0.6919 - top-5-accuracy: 0.9207 - val_loss: 0.8321 - val_accuracy: 0.7716 - val_top-5-accuracy: 0.9242\n",
            "Epoch 68/150\n",
            "179/179 [==============================] - 7s 38ms/step - loss: 1.1630 - accuracy: 0.6768 - top-5-accuracy: 0.9140 - val_loss: 0.8067 - val_accuracy: 0.7853 - val_top-5-accuracy: 0.9400\n",
            "Epoch 69/150\n",
            "179/179 [==============================] - 7s 42ms/step - loss: 1.1155 - accuracy: 0.6846 - top-5-accuracy: 0.9168 - val_loss: 0.8301 - val_accuracy: 0.7853 - val_top-5-accuracy: 0.9263\n",
            "Epoch 70/150\n",
            "179/179 [==============================] - 10s 54ms/step - loss: 1.0885 - accuracy: 0.7021 - top-5-accuracy: 0.9130 - val_loss: 0.8121 - val_accuracy: 0.7968 - val_top-5-accuracy: 0.9263\n",
            "Epoch 71/150\n",
            "179/179 [==============================] - 9s 50ms/step - loss: 1.1620 - accuracy: 0.6856 - top-5-accuracy: 0.9081 - val_loss: 0.7903 - val_accuracy: 0.7853 - val_top-5-accuracy: 0.9379\n",
            "Epoch 72/150\n",
            "179/179 [==============================] - 7s 41ms/step - loss: 1.0856 - accuracy: 0.6986 - top-5-accuracy: 0.9161 - val_loss: 0.8056 - val_accuracy: 0.7842 - val_top-5-accuracy: 0.9295\n",
            "Epoch 73/150\n",
            "179/179 [==============================] - 7s 38ms/step - loss: 1.1720 - accuracy: 0.6800 - top-5-accuracy: 0.9042 - val_loss: 0.7878 - val_accuracy: 0.7884 - val_top-5-accuracy: 0.9263\n",
            "Epoch 74/150\n",
            "179/179 [==============================] - 7s 38ms/step - loss: 1.0615 - accuracy: 0.7028 - top-5-accuracy: 0.9277 - val_loss: 0.8262 - val_accuracy: 0.7874 - val_top-5-accuracy: 0.9242\n",
            "Epoch 75/150\n",
            "179/179 [==============================] - 7s 38ms/step - loss: 1.1227 - accuracy: 0.6849 - top-5-accuracy: 0.9179 - val_loss: 0.8079 - val_accuracy: 0.7821 - val_top-5-accuracy: 0.9400\n",
            "Epoch 76/150\n",
            "179/179 [==============================] - 7s 38ms/step - loss: 1.0884 - accuracy: 0.6933 - top-5-accuracy: 0.9172 - val_loss: 0.8873 - val_accuracy: 0.7611 - val_top-5-accuracy: 0.9242\n",
            "Epoch 77/150\n",
            "179/179 [==============================] - 7s 38ms/step - loss: 1.0472 - accuracy: 0.7084 - top-5-accuracy: 0.9281 - val_loss: 0.8507 - val_accuracy: 0.7674 - val_top-5-accuracy: 0.9337\n",
            "Epoch 78/150\n",
            "179/179 [==============================] - 7s 38ms/step - loss: 1.0798 - accuracy: 0.6993 - top-5-accuracy: 0.9232 - val_loss: 0.7945 - val_accuracy: 0.7863 - val_top-5-accuracy: 0.9316\n",
            "Epoch 79/150\n",
            "179/179 [==============================] - 7s 38ms/step - loss: 1.0766 - accuracy: 0.7042 - top-5-accuracy: 0.9182 - val_loss: 0.8256 - val_accuracy: 0.7895 - val_top-5-accuracy: 0.9232\n",
            "Epoch 80/150\n",
            "179/179 [==============================] - 7s 38ms/step - loss: 1.1155 - accuracy: 0.6881 - top-5-accuracy: 0.9218 - val_loss: 0.8001 - val_accuracy: 0.7916 - val_top-5-accuracy: 0.9337\n",
            "Epoch 81/150\n",
            "179/179 [==============================] - 7s 37ms/step - loss: 1.1303 - accuracy: 0.6842 - top-5-accuracy: 0.9158 - val_loss: 0.8478 - val_accuracy: 0.7863 - val_top-5-accuracy: 0.9305\n",
            "Epoch 82/150\n",
            "179/179 [==============================] - 8s 45ms/step - loss: 1.1239 - accuracy: 0.6926 - top-5-accuracy: 0.9207 - val_loss: 0.8252 - val_accuracy: 0.7895 - val_top-5-accuracy: 0.9284\n",
            "Epoch 83/150\n",
            "179/179 [==============================] - 9s 51ms/step - loss: 1.0878 - accuracy: 0.7004 - top-5-accuracy: 0.9211 - val_loss: 0.7966 - val_accuracy: 0.7926 - val_top-5-accuracy: 0.9389\n",
            "Epoch 84/150\n",
            "179/179 [==============================] - 7s 38ms/step - loss: 1.1215 - accuracy: 0.6919 - top-5-accuracy: 0.9147 - val_loss: 0.7857 - val_accuracy: 0.8000 - val_top-5-accuracy: 0.9232\n",
            "Epoch 85/150\n",
            "179/179 [==============================] - 7s 38ms/step - loss: 1.0914 - accuracy: 0.6989 - top-5-accuracy: 0.9249 - val_loss: 0.7883 - val_accuracy: 0.8011 - val_top-5-accuracy: 0.9189\n",
            "Epoch 86/150\n",
            "179/179 [==============================] - 7s 38ms/step - loss: 1.0441 - accuracy: 0.7070 - top-5-accuracy: 0.9256 - val_loss: 0.8026 - val_accuracy: 0.7937 - val_top-5-accuracy: 0.9200\n",
            "Epoch 87/150\n",
            "179/179 [==============================] - 7s 38ms/step - loss: 1.0503 - accuracy: 0.7154 - top-5-accuracy: 0.9189 - val_loss: 0.7927 - val_accuracy: 0.7937 - val_top-5-accuracy: 0.9263\n",
            "Epoch 88/150\n",
            "179/179 [==============================] - 7s 39ms/step - loss: 1.0617 - accuracy: 0.7000 - top-5-accuracy: 0.9256 - val_loss: 0.7512 - val_accuracy: 0.8000 - val_top-5-accuracy: 0.9389\n",
            "Epoch 89/150\n",
            "179/179 [==============================] - 7s 40ms/step - loss: 1.0613 - accuracy: 0.7070 - top-5-accuracy: 0.9267 - val_loss: 0.8174 - val_accuracy: 0.7832 - val_top-5-accuracy: 0.9347\n",
            "Epoch 90/150\n",
            "179/179 [==============================] - 7s 38ms/step - loss: 0.9966 - accuracy: 0.7186 - top-5-accuracy: 0.9347 - val_loss: 0.8335 - val_accuracy: 0.7874 - val_top-5-accuracy: 0.9305\n",
            "Epoch 91/150\n",
            "179/179 [==============================] - 7s 38ms/step - loss: 1.0770 - accuracy: 0.7060 - top-5-accuracy: 0.9305 - val_loss: 0.7983 - val_accuracy: 0.7842 - val_top-5-accuracy: 0.9358\n",
            "Epoch 92/150\n",
            "179/179 [==============================] - 7s 38ms/step - loss: 0.9962 - accuracy: 0.7133 - top-5-accuracy: 0.9347 - val_loss: 0.8269 - val_accuracy: 0.7821 - val_top-5-accuracy: 0.9337\n",
            "Epoch 93/150\n",
            "179/179 [==============================] - 7s 38ms/step - loss: 1.0739 - accuracy: 0.7014 - top-5-accuracy: 0.9221 - val_loss: 0.8032 - val_accuracy: 0.7821 - val_top-5-accuracy: 0.9284\n",
            "Epoch 94/150\n",
            "179/179 [==============================] - 9s 51ms/step - loss: 1.0294 - accuracy: 0.7105 - top-5-accuracy: 0.9319 - val_loss: 0.7658 - val_accuracy: 0.7937 - val_top-5-accuracy: 0.9421\n",
            "Epoch 95/150\n",
            "179/179 [==============================] - 9s 51ms/step - loss: 1.0407 - accuracy: 0.7147 - top-5-accuracy: 0.9284 - val_loss: 0.7250 - val_accuracy: 0.8137 - val_top-5-accuracy: 0.9400\n",
            "Epoch 96/150\n",
            "179/179 [==============================] - 7s 40ms/step - loss: 1.0093 - accuracy: 0.7204 - top-5-accuracy: 0.9267 - val_loss: 0.7588 - val_accuracy: 0.8074 - val_top-5-accuracy: 0.9305\n",
            "Epoch 97/150\n",
            "179/179 [==============================] - 10s 56ms/step - loss: 1.0382 - accuracy: 0.7130 - top-5-accuracy: 0.9302 - val_loss: 0.7721 - val_accuracy: 0.7958 - val_top-5-accuracy: 0.9316\n",
            "Epoch 98/150\n",
            "179/179 [==============================] - 10s 58ms/step - loss: 1.0367 - accuracy: 0.7172 - top-5-accuracy: 0.9218 - val_loss: 0.7464 - val_accuracy: 0.7958 - val_top-5-accuracy: 0.9316\n",
            "Epoch 99/150\n",
            "179/179 [==============================] - 10s 54ms/step - loss: 1.0588 - accuracy: 0.7011 - top-5-accuracy: 0.9260 - val_loss: 0.7601 - val_accuracy: 0.7968 - val_top-5-accuracy: 0.9358\n",
            "Epoch 100/150\n",
            "179/179 [==============================] - 7s 38ms/step - loss: 1.0483 - accuracy: 0.7123 - top-5-accuracy: 0.9256 - val_loss: 0.7895 - val_accuracy: 0.7958 - val_top-5-accuracy: 0.9284\n",
            "Epoch 101/150\n",
            "179/179 [==============================] - 7s 38ms/step - loss: 1.1143 - accuracy: 0.6958 - top-5-accuracy: 0.9200 - val_loss: 0.7693 - val_accuracy: 0.8053 - val_top-5-accuracy: 0.9337\n",
            "Epoch 102/150\n",
            "179/179 [==============================] - 7s 38ms/step - loss: 0.9805 - accuracy: 0.7211 - top-5-accuracy: 0.9379 - val_loss: 0.7085 - val_accuracy: 0.8063 - val_top-5-accuracy: 0.9432\n",
            "Epoch 103/150\n",
            "179/179 [==============================] - 7s 38ms/step - loss: 1.0112 - accuracy: 0.7207 - top-5-accuracy: 0.9228 - val_loss: 0.7547 - val_accuracy: 0.8053 - val_top-5-accuracy: 0.9284\n",
            "Epoch 104/150\n",
            "179/179 [==============================] - 7s 38ms/step - loss: 1.0203 - accuracy: 0.7211 - top-5-accuracy: 0.9246 - val_loss: 0.7476 - val_accuracy: 0.8000 - val_top-5-accuracy: 0.9316\n",
            "Epoch 105/150\n",
            "179/179 [==============================] - 7s 38ms/step - loss: 0.9935 - accuracy: 0.7242 - top-5-accuracy: 0.9375 - val_loss: 0.7509 - val_accuracy: 0.7979 - val_top-5-accuracy: 0.9326\n",
            "Epoch 106/150\n",
            "179/179 [==============================] - 7s 39ms/step - loss: 0.9706 - accuracy: 0.7368 - top-5-accuracy: 0.9242 - val_loss: 0.7057 - val_accuracy: 0.8211 - val_top-5-accuracy: 0.9389\n",
            "Epoch 107/150\n",
            "179/179 [==============================] - 7s 38ms/step - loss: 1.0420 - accuracy: 0.7172 - top-5-accuracy: 0.9263 - val_loss: 0.8459 - val_accuracy: 0.7916 - val_top-5-accuracy: 0.9158\n",
            "Epoch 108/150\n",
            "179/179 [==============================] - 7s 38ms/step - loss: 0.9914 - accuracy: 0.7154 - top-5-accuracy: 0.9312 - val_loss: 0.8474 - val_accuracy: 0.7853 - val_top-5-accuracy: 0.9305\n",
            "Epoch 109/150\n",
            "179/179 [==============================] - 11s 64ms/step - loss: 0.9800 - accuracy: 0.7147 - top-5-accuracy: 0.9351 - val_loss: 0.7543 - val_accuracy: 0.8147 - val_top-5-accuracy: 0.9263\n",
            "Epoch 110/150\n",
            "179/179 [==============================] - 11s 62ms/step - loss: 0.9650 - accuracy: 0.7361 - top-5-accuracy: 0.9319 - val_loss: 0.8494 - val_accuracy: 0.7716 - val_top-5-accuracy: 0.9263\n",
            "Epoch 111/150\n",
            "179/179 [==============================] - 7s 38ms/step - loss: 0.9616 - accuracy: 0.7291 - top-5-accuracy: 0.9305 - val_loss: 0.7749 - val_accuracy: 0.7895 - val_top-5-accuracy: 0.9242\n",
            "Epoch 112/150\n",
            "179/179 [==============================] - 7s 38ms/step - loss: 0.9880 - accuracy: 0.7333 - top-5-accuracy: 0.9182 - val_loss: 0.7129 - val_accuracy: 0.8137 - val_top-5-accuracy: 0.9463\n",
            "Epoch 113/150\n",
            "179/179 [==============================] - 7s 38ms/step - loss: 1.0001 - accuracy: 0.7200 - top-5-accuracy: 0.9340 - val_loss: 0.7534 - val_accuracy: 0.8074 - val_top-5-accuracy: 0.9347\n",
            "Epoch 114/150\n",
            "179/179 [==============================] - 7s 38ms/step - loss: 1.0442 - accuracy: 0.7270 - top-5-accuracy: 0.9260 - val_loss: 0.7523 - val_accuracy: 0.8063 - val_top-5-accuracy: 0.9442\n",
            "Epoch 115/150\n",
            "179/179 [==============================] - 7s 38ms/step - loss: 1.0150 - accuracy: 0.7211 - top-5-accuracy: 0.9337 - val_loss: 0.8269 - val_accuracy: 0.7779 - val_top-5-accuracy: 0.9305\n",
            "Epoch 116/150\n",
            "179/179 [==============================] - 7s 38ms/step - loss: 0.9629 - accuracy: 0.7393 - top-5-accuracy: 0.9242 - val_loss: 0.7647 - val_accuracy: 0.7958 - val_top-5-accuracy: 0.9326\n",
            "Epoch 117/150\n",
            "179/179 [==============================] - 7s 37ms/step - loss: 1.0241 - accuracy: 0.7239 - top-5-accuracy: 0.9263 - val_loss: 0.6770 - val_accuracy: 0.8105 - val_top-5-accuracy: 0.9411\n",
            "Epoch 118/150\n",
            "179/179 [==============================] - 7s 37ms/step - loss: 0.9913 - accuracy: 0.7246 - top-5-accuracy: 0.9302 - val_loss: 0.7621 - val_accuracy: 0.7979 - val_top-5-accuracy: 0.9337\n",
            "Epoch 119/150\n",
            "179/179 [==============================] - 7s 38ms/step - loss: 0.9987 - accuracy: 0.7291 - top-5-accuracy: 0.9242 - val_loss: 0.7605 - val_accuracy: 0.8158 - val_top-5-accuracy: 0.9389\n",
            "Epoch 120/150\n",
            "179/179 [==============================] - 7s 38ms/step - loss: 1.0069 - accuracy: 0.7246 - top-5-accuracy: 0.9337 - val_loss: 0.7483 - val_accuracy: 0.8116 - val_top-5-accuracy: 0.9379\n",
            "Epoch 121/150\n",
            "179/179 [==============================] - 7s 39ms/step - loss: 1.0393 - accuracy: 0.7172 - top-5-accuracy: 0.9270 - val_loss: 0.7727 - val_accuracy: 0.8021 - val_top-5-accuracy: 0.9411\n",
            "Epoch 122/150\n",
            "179/179 [==============================] - 7s 38ms/step - loss: 0.9822 - accuracy: 0.7200 - top-5-accuracy: 0.9382 - val_loss: 0.7512 - val_accuracy: 0.8095 - val_top-5-accuracy: 0.9379\n",
            "Epoch 123/150\n",
            "179/179 [==============================] - 7s 38ms/step - loss: 0.9646 - accuracy: 0.7221 - top-5-accuracy: 0.9375 - val_loss: 0.8354 - val_accuracy: 0.7884 - val_top-5-accuracy: 0.9147\n",
            "Epoch 124/150\n",
            "179/179 [==============================] - 7s 41ms/step - loss: 1.0283 - accuracy: 0.7081 - top-5-accuracy: 0.9319 - val_loss: 0.7294 - val_accuracy: 0.8074 - val_top-5-accuracy: 0.9389\n",
            "Epoch 125/150\n",
            "179/179 [==============================] - 8s 44ms/step - loss: 0.9612 - accuracy: 0.7333 - top-5-accuracy: 0.9400 - val_loss: 0.7145 - val_accuracy: 0.8147 - val_top-5-accuracy: 0.9411\n",
            "Epoch 126/150\n",
            "179/179 [==============================] - 10s 57ms/step - loss: 0.9388 - accuracy: 0.7361 - top-5-accuracy: 0.9319 - val_loss: 0.7018 - val_accuracy: 0.8221 - val_top-5-accuracy: 0.9253\n",
            "Epoch 127/150\n",
            "179/179 [==============================] - 7s 38ms/step - loss: 0.9535 - accuracy: 0.7375 - top-5-accuracy: 0.9358 - val_loss: 0.7715 - val_accuracy: 0.7937 - val_top-5-accuracy: 0.9453\n",
            "Epoch 128/150\n",
            "179/179 [==============================] - 7s 37ms/step - loss: 1.0028 - accuracy: 0.7267 - top-5-accuracy: 0.9316 - val_loss: 0.7362 - val_accuracy: 0.8053 - val_top-5-accuracy: 0.9347\n",
            "Epoch 129/150\n",
            "179/179 [==============================] - 7s 38ms/step - loss: 0.9630 - accuracy: 0.7295 - top-5-accuracy: 0.9326 - val_loss: 0.7367 - val_accuracy: 0.7979 - val_top-5-accuracy: 0.9274\n",
            "Epoch 130/150\n",
            "179/179 [==============================] - 7s 38ms/step - loss: 0.9988 - accuracy: 0.7228 - top-5-accuracy: 0.9256 - val_loss: 0.7550 - val_accuracy: 0.8053 - val_top-5-accuracy: 0.9368\n",
            "Epoch 131/150\n",
            "179/179 [==============================] - 7s 38ms/step - loss: 1.0315 - accuracy: 0.7109 - top-5-accuracy: 0.9333 - val_loss: 0.7476 - val_accuracy: 0.8158 - val_top-5-accuracy: 0.9326\n",
            "Epoch 132/150\n",
            "179/179 [==============================] - 7s 38ms/step - loss: 1.0124 - accuracy: 0.7165 - top-5-accuracy: 0.9277 - val_loss: 0.7320 - val_accuracy: 0.8095 - val_top-5-accuracy: 0.9347\n",
            "Epoch 133/150\n",
            "179/179 [==============================] - 7s 38ms/step - loss: 0.9298 - accuracy: 0.7351 - top-5-accuracy: 0.9396 - val_loss: 0.7521 - val_accuracy: 0.8063 - val_top-5-accuracy: 0.9253\n",
            "Epoch 134/150\n",
            "179/179 [==============================] - 7s 37ms/step - loss: 0.8906 - accuracy: 0.7509 - top-5-accuracy: 0.9375 - val_loss: 0.7032 - val_accuracy: 0.8147 - val_top-5-accuracy: 0.9358\n",
            "Epoch 135/150\n",
            "179/179 [==============================] - 9s 50ms/step - loss: 1.0624 - accuracy: 0.7095 - top-5-accuracy: 0.9316 - val_loss: 0.7406 - val_accuracy: 0.8126 - val_top-5-accuracy: 0.9326\n",
            "Epoch 136/150\n",
            "179/179 [==============================] - 10s 56ms/step - loss: 0.9892 - accuracy: 0.7284 - top-5-accuracy: 0.9235 - val_loss: 0.7746 - val_accuracy: 0.7926 - val_top-5-accuracy: 0.9358\n",
            "Epoch 137/150\n",
            "179/179 [==============================] - 11s 60ms/step - loss: 0.9206 - accuracy: 0.7400 - top-5-accuracy: 0.9382 - val_loss: 0.7469 - val_accuracy: 0.8074 - val_top-5-accuracy: 0.9400\n",
            "Epoch 138/150\n",
            "179/179 [==============================] - 8s 45ms/step - loss: 0.9465 - accuracy: 0.7263 - top-5-accuracy: 0.9333 - val_loss: 0.7417 - val_accuracy: 0.8084 - val_top-5-accuracy: 0.9347\n",
            "Epoch 139/150\n",
            "179/179 [==============================] - 7s 38ms/step - loss: 0.9708 - accuracy: 0.7337 - top-5-accuracy: 0.9358 - val_loss: 0.7461 - val_accuracy: 0.8000 - val_top-5-accuracy: 0.9368\n",
            "Epoch 140/150\n",
            "179/179 [==============================] - 8s 43ms/step - loss: 0.9889 - accuracy: 0.7333 - top-5-accuracy: 0.9302 - val_loss: 0.7253 - val_accuracy: 0.8137 - val_top-5-accuracy: 0.9368\n",
            "Epoch 141/150\n",
            "179/179 [==============================] - 12s 68ms/step - loss: 0.9699 - accuracy: 0.7281 - top-5-accuracy: 0.9354 - val_loss: 0.7188 - val_accuracy: 0.8095 - val_top-5-accuracy: 0.9368\n",
            "Epoch 142/150\n",
            "179/179 [==============================] - 7s 41ms/step - loss: 0.9824 - accuracy: 0.7372 - top-5-accuracy: 0.9319 - val_loss: 0.7242 - val_accuracy: 0.8095 - val_top-5-accuracy: 0.9389\n",
            "Epoch 143/150\n",
            "179/179 [==============================] - 7s 38ms/step - loss: 0.9133 - accuracy: 0.7453 - top-5-accuracy: 0.9340 - val_loss: 0.7377 - val_accuracy: 0.8221 - val_top-5-accuracy: 0.9337\n",
            "Epoch 144/150\n",
            "179/179 [==============================] - 7s 37ms/step - loss: 0.8720 - accuracy: 0.7561 - top-5-accuracy: 0.9481 - val_loss: 0.7472 - val_accuracy: 0.8021 - val_top-5-accuracy: 0.9358\n",
            "Epoch 145/150\n",
            "179/179 [==============================] - 7s 38ms/step - loss: 0.9463 - accuracy: 0.7435 - top-5-accuracy: 0.9330 - val_loss: 0.7007 - val_accuracy: 0.8105 - val_top-5-accuracy: 0.9368\n",
            "Epoch 146/150\n",
            "179/179 [==============================] - 7s 38ms/step - loss: 1.0024 - accuracy: 0.7330 - top-5-accuracy: 0.9284 - val_loss: 0.8085 - val_accuracy: 0.7937 - val_top-5-accuracy: 0.9400\n",
            "Epoch 147/150\n",
            "179/179 [==============================] - 7s 38ms/step - loss: 0.9564 - accuracy: 0.7323 - top-5-accuracy: 0.9386 - val_loss: 0.7241 - val_accuracy: 0.8105 - val_top-5-accuracy: 0.9474\n",
            "Epoch 148/150\n",
            "179/179 [==============================] - 7s 38ms/step - loss: 0.9211 - accuracy: 0.7425 - top-5-accuracy: 0.9488 - val_loss: 0.7872 - val_accuracy: 0.8053 - val_top-5-accuracy: 0.9305\n",
            "Epoch 149/150\n",
            "179/179 [==============================] - 7s 38ms/step - loss: 0.9477 - accuracy: 0.7295 - top-5-accuracy: 0.9439 - val_loss: 0.7281 - val_accuracy: 0.8221 - val_top-5-accuracy: 0.9326\n",
            "Epoch 150/150\n",
            "179/179 [==============================] - 7s 40ms/step - loss: 0.9756 - accuracy: 0.7309 - top-5-accuracy: 0.9323 - val_loss: 0.6986 - val_accuracy: 0.8189 - val_top-5-accuracy: 0.9316\n"
          ]
        }
      ]
    },
    {
      "cell_type": "code",
      "source": [
        "plot_loss_and_accuracy(history_img)"
      ],
      "metadata": {
        "colab": {
          "base_uri": "https://localhost:8080/",
          "height": 573
        },
        "id": "XnG3JzPNZ5dx",
        "outputId": "100d615f-fb1f-42c4-ee1f-daf77e0ade1d"
      },
      "execution_count": null,
      "outputs": [
        {
          "output_type": "display_data",
          "data": {
            "text/plain": [
              "<Figure size 432x288 with 1 Axes>"
            ],
            "image/png": "[encoded data removed]"
          },
          "metadata": {
            "needs_background": "light"
          }
        },
        {
          "output_type": "display_data",
          "data": {
            "text/plain": [
              "<Figure size 432x288 with 1 Axes>"
            ],
            "image/png": "[encoded data removed]"
          },
          "metadata": {
            "needs_background": "light"
          }
        }
      ]
    },
    {
      "cell_type": "code",
      "source": [
        "best_model_img.count_params()"
      ],
      "metadata": {
        "colab": {
          "base_uri": "https://localhost:8080/"
        },
        "id": "R9EYXvySiy60",
        "outputId": "723690e6-28c9-4bb0-fe7e-f4eade1a0ccb"
      },
      "execution_count": null,
      "outputs": [
        {
          "output_type": "execute_result",
          "data": {
            "text/plain": [
              "2468246"
            ]
          },
          "metadata": {},
          "execution_count": 30
        }
      ]
    },
    {
      "cell_type": "markdown",
      "source": [
        "**Evaluate final performance** "
      ],
      "metadata": {
        "id": "lsJaFqx6Z5_i"
      }
    },
    {
      "cell_type": "code",
      "source": [
        "# Test accuracy \n",
        "_, accuracy, top_5_accuracy = best_model_img.evaluate(x_test_img, y_test_fuse, batch_size=BATCH_SIZE)\n",
        "\n",
        "print(f\"Test accuracy: {round(accuracy * 100, 2)}%\")\n",
        "print(f\"Test top 5 accuracy: {round(top_5_accuracy * 100, 2)}%\")"
      ],
      "metadata": {
        "colab": {
          "base_uri": "https://localhost:8080/"
        },
        "id": "WQIXvpDCc8Fr",
        "outputId": "f0a3b26a-82bc-497c-a6d3-aaae182aa3e8"
      },
      "execution_count": null,
      "outputs": [
        {
          "output_type": "stream",
          "name": "stdout",
          "text": [
            "60/60 [==============================] - 1s 23ms/step - loss: 0.6965 - accuracy: 0.8147 - top-5-accuracy: 0.9442\n",
            "Test accuracy: 81.47%\n",
            "Test top 5 accuracy: 94.42%\n"
          ]
        }
      ]
    },
    {
      "cell_type": "markdown",
      "source": [
        "Load model"
      ],
      "metadata": {
        "id": "6b1kYd9QdR9V"
      }
    },
    {
      "cell_type": "code",
      "source": [
        "best_model_img.save('model_save_img_further_trained')"
      ],
      "metadata": {
        "colab": {
          "base_uri": "https://localhost:8080/"
        },
        "id": "2HkzZQP4cfOi",
        "outputId": "feccabaa-5e01-402a-f94a-9d44fd1ce80e"
      },
      "execution_count": null,
      "outputs": [
        {
          "output_type": "stream",
          "name": "stderr",
          "text": [
            "WARNING:absl:Found untraced functions such as reshape_4_layer_call_fn, reshape_4_layer_call_and_return_conditional_losses, dense_56_layer_call_fn, dense_56_layer_call_and_return_conditional_losses, layer_normalization_40_layer_call_fn while saving (showing 5 of 80). These functions will not be directly callable after loading.\n"
          ]
        },
        {
          "output_type": "stream",
          "name": "stdout",
          "text": [
            "INFO:tensorflow:Assets written to: model_save_img_further_trained/assets\n"
          ]
        },
        {
          "output_type": "stream",
          "name": "stderr",
          "text": [
            "INFO:tensorflow:Assets written to: model_save_img_further_trained/assets\n"
          ]
        }
      ]
    },
    {
      "cell_type": "code",
      "source": [
        "# Load model and test accuracy to check if it matches\n",
        "model_img_load = keras.models.load_model('model_save_img_further_trained')\n",
        "\n",
        "_, accuracy, top_5_accuracy = model_img_load.evaluate(x_test_img, y_test_fuse, batch_size=BATCH_SIZE)\n",
        "\n",
        "print(f\"Test accuracy: {round(accuracy * 100, 2)}%\")\n",
        "print(f\"Test top 5 accuracy: {round(top_5_accuracy * 100, 2)}%\")"
      ],
      "metadata": {
        "colab": {
          "base_uri": "https://localhost:8080/"
        },
        "id": "ELn8n-KzdTEO",
        "outputId": "285cd4e3-ceba-48fa-c1c9-57851345b28e"
      },
      "execution_count": 17,
      "outputs": [
        {
          "output_type": "stream",
          "name": "stdout",
          "text": [
            "60/60 [==============================] - 4s 13ms/step - loss: 0.6965 - accuracy: 0.8147 - top-5-accuracy: 0.9442\n",
            "Test accuracy: 81.47%\n",
            "Test top 5 accuracy: 94.42%\n"
          ]
        }
      ]
    },
    {
      "cell_type": "markdown",
      "source": [
        "## Audio Images ViT tuning"
      ],
      "metadata": {
        "id": "91wA0Qtrq-UO"
      }
    },
    {
      "cell_type": "markdown",
      "source": [
        "### 1. Random tuner: objective = validation accuracy"
      ],
      "metadata": {
        "id": "KHLqg_9LYVD7"
      }
    },
    {
      "cell_type": "code",
      "source": [
        "tuner_random_audio = RandomSearch(Single_ViT_HyperModel(input_shape = INPUT_SHAPE_AUDIO), objective='val_accuracy',executions_per_trial=1,project_name='Hyperparameters_rdm_audio',overwrite=True)"
      ],
      "metadata": {
        "id": "4s19NZU_q9uX"
      },
      "execution_count": null,
      "outputs": []
    },
    {
      "cell_type": "code",
      "source": [
        "tuner_random_audio.search_space_summary()"
      ],
      "metadata": {
        "colab": {
          "base_uri": "https://localhost:8080/"
        },
        "id": "hohwb7NJKgf8",
        "outputId": "4d957420-564b-4968-fa2f-0e4da655e474"
      },
      "execution_count": null,
      "outputs": [
        {
          "output_type": "stream",
          "name": "stdout",
          "text": [
            "Search space summary\n",
            "Default search space size: 5\n",
            "patch_size (Choice)\n",
            "{'default': 4, 'conditions': [], 'values': [4, 6, 12, 18, 24], 'ordered': True}\n",
            "projection_dim (Choice)\n",
            "{'default': 32, 'conditions': [], 'values': [32, 64, 128], 'ordered': True}\n",
            "transformer_layers (Choice)\n",
            "{'default': 2, 'conditions': [], 'values': [2, 4, 6, 8], 'ordered': True}\n",
            "num_heads (Choice)\n",
            "{'default': 2, 'conditions': [], 'values': [2, 3, 4, 5, 6, 7, 8], 'ordered': True}\n",
            "mlp_head_units (Choice)\n",
            "{'default': 512, 'conditions': [], 'values': [512, 256, 128], 'ordered': True}\n"
          ]
        }
      ]
    },
    {
      "cell_type": "code",
      "source": [
        "tuner_random_audio.search(x_train_audio, y_train_fuse, epochs=30, validation_data=(x_val_audio, y_val_fuse))"
      ],
      "metadata": {
        "colab": {
          "base_uri": "https://localhost:8080/"
        },
        "id": "DW36v1GqKkig",
        "outputId": "6a5b0b2e-f318-4db0-fb9c-cbbf646d4aa8"
      },
      "execution_count": null,
      "outputs": [
        {
          "output_type": "stream",
          "name": "stdout",
          "text": [
            "Trial 10 Complete [00h 01m 31s]\n",
            "val_accuracy: 0.04736842215061188\n",
            "\n",
            "Best val_accuracy So Far: 0.4231579005718231\n",
            "Total elapsed time: 00h 26m 14s\n",
            "INFO:tensorflow:Oracle triggered exit\n"
          ]
        },
        {
          "output_type": "stream",
          "name": "stderr",
          "text": [
            "INFO:tensorflow:Oracle triggered exit\n"
          ]
        }
      ]
    },
    {
      "cell_type": "code",
      "source": [
        "best_hps_hyper_audio = tuner_random_audio.get_best_hyperparameters()[0]\n",
        "print('For the Face images ViT, the best parameters are: ')\n",
        "print(' - Patch size:            {}'.format(best_hps_hyper_audio.get('patch_size')))\n",
        "print(' - Projection dimension:  {}'.format(best_hps_hyper_audio.get('projection_dim')))\n",
        "print(' - Transformer layers:    {}'.format(best_hps_hyper_audio.get('transformer_layers')))\n",
        "print(' - Number of heads:       {}'.format(best_hps_hyper_audio.get('num_heads')))\n",
        "print(' - MLP head units:        [{}, {}]'.format(2*best_hps_hyper_audio.get('mlp_head_units'), best_hps_hyper_img.get('mlp_head_units')))"
      ],
      "metadata": {
        "colab": {
          "base_uri": "https://localhost:8080/"
        },
        "id": "abLkI9drP70v",
        "outputId": "ac1a3704-34a2-4b09-fd61-16375bfb2940"
      },
      "execution_count": null,
      "outputs": [
        {
          "output_type": "stream",
          "name": "stdout",
          "text": [
            "For the Face images ViT, the best parameters are: \n",
            " - Patch size:            12\n",
            " - Projection dimension:  32\n",
            " - Transformer layers:    6\n",
            " - Number of heads:       2\n",
            " - MLP head units:        [1024, 512]\n"
          ]
        }
      ]
    },
    {
      "cell_type": "code",
      "source": [
        "model_audio = tuner_random_audio.hypermodel.build(best_hps_hyper_audio)\n",
        "model_audio.save('model_save_audio')"
      ],
      "metadata": {
        "colab": {
          "base_uri": "https://localhost:8080/"
        },
        "id": "qTlXPD-kQGet",
        "outputId": "ff786c50-e649-4abd-f3ed-4f79b70e32df"
      },
      "execution_count": null,
      "outputs": [
        {
          "output_type": "stream",
          "name": "stderr",
          "text": [
            "WARNING:absl:Found untraced functions such as reshape_1_layer_call_fn, reshape_1_layer_call_and_return_conditional_losses, dense_10_layer_call_fn, dense_10_layer_call_and_return_conditional_losses, layer_normalization_6_layer_call_fn while saving (showing 5 of 80). These functions will not be directly callable after loading.\n"
          ]
        },
        {
          "output_type": "stream",
          "name": "stdout",
          "text": [
            "INFO:tensorflow:Assets written to: model_save_audio/assets\n"
          ]
        },
        {
          "output_type": "stream",
          "name": "stderr",
          "text": [
            "INFO:tensorflow:Assets written to: model_save_audio/assets\n"
          ]
        }
      ]
    },
    {
      "cell_type": "code",
      "source": [
        "best_model_audio = keras.models.load_model('model_save_audio')"
      ],
      "metadata": {
        "id": "wNRYQViVX3CZ"
      },
      "execution_count": null,
      "outputs": []
    },
    {
      "cell_type": "code",
      "source": [
        "max_epochs = 150\n",
        "history_audio = best_model_audio.fit(x_train_audio, y_train_fuse, batch_size = BATCH_SIZE,\n",
        "                    epochs = max_epochs,\n",
        "                    validation_data=(x_val_audio, y_val_fuse),\n",
        "                    shuffle = True)"
      ],
      "metadata": {
        "colab": {
          "base_uri": "https://localhost:8080/"
        },
        "id": "Hdj1Ngt-X8xz",
        "outputId": "e6b9fa85-a92f-4877-bbc4-6eef2c123ced"
      },
      "execution_count": null,
      "outputs": [
        {
          "output_type": "stream",
          "name": "stdout",
          "text": [
            "Epoch 1/150\n",
            "179/179 [==============================] - 17s 45ms/step - loss: 4.0166 - accuracy: 0.0305 - top-5-accuracy: 0.1544 - val_loss: 3.8451 - val_accuracy: 0.0432 - val_top-5-accuracy: 0.2158\n",
            "Epoch 2/150\n",
            "179/179 [==============================] - 7s 39ms/step - loss: 3.8791 - accuracy: 0.0379 - top-5-accuracy: 0.1747 - val_loss: 3.8533 - val_accuracy: 0.0368 - val_top-5-accuracy: 0.1800\n",
            "Epoch 3/150\n",
            "179/179 [==============================] - 7s 39ms/step - loss: 3.8577 - accuracy: 0.0435 - top-5-accuracy: 0.1768 - val_loss: 3.8088 - val_accuracy: 0.0463 - val_top-5-accuracy: 0.1789\n",
            "Epoch 4/150\n",
            "179/179 [==============================] - 7s 39ms/step - loss: 3.8288 - accuracy: 0.0414 - top-5-accuracy: 0.2004 - val_loss: 3.7981 - val_accuracy: 0.0484 - val_top-5-accuracy: 0.2137\n",
            "Epoch 5/150\n",
            "179/179 [==============================] - 8s 43ms/step - loss: 3.7974 - accuracy: 0.0554 - top-5-accuracy: 0.2081 - val_loss: 3.6809 - val_accuracy: 0.0705 - val_top-5-accuracy: 0.2884\n",
            "Epoch 6/150\n",
            "179/179 [==============================] - 8s 42ms/step - loss: 3.7029 - accuracy: 0.0709 - top-5-accuracy: 0.2632 - val_loss: 3.5696 - val_accuracy: 0.0821 - val_top-5-accuracy: 0.2905\n",
            "Epoch 7/150\n",
            "179/179 [==============================] - 7s 39ms/step - loss: 3.5952 - accuracy: 0.0916 - top-5-accuracy: 0.3004 - val_loss: 3.4204 - val_accuracy: 0.1126 - val_top-5-accuracy: 0.3611\n",
            "Epoch 8/150\n",
            "179/179 [==============================] - 7s 41ms/step - loss: 3.4796 - accuracy: 0.1032 - top-5-accuracy: 0.3488 - val_loss: 3.2522 - val_accuracy: 0.1453 - val_top-5-accuracy: 0.4253\n",
            "Epoch 9/150\n",
            "179/179 [==============================] - 10s 57ms/step - loss: 3.3873 - accuracy: 0.1193 - top-5-accuracy: 0.3972 - val_loss: 3.0932 - val_accuracy: 0.1695 - val_top-5-accuracy: 0.4979\n",
            "Epoch 10/150\n",
            "179/179 [==============================] - 7s 39ms/step - loss: 3.2669 - accuracy: 0.1512 - top-5-accuracy: 0.4379 - val_loss: 3.0550 - val_accuracy: 0.2032 - val_top-5-accuracy: 0.4832\n",
            "Epoch 11/150\n",
            "179/179 [==============================] - 7s 39ms/step - loss: 3.1834 - accuracy: 0.1691 - top-5-accuracy: 0.4639 - val_loss: 2.8740 - val_accuracy: 0.2253 - val_top-5-accuracy: 0.5558\n",
            "Epoch 12/150\n",
            "179/179 [==============================] - 7s 39ms/step - loss: 3.1016 - accuracy: 0.1870 - top-5-accuracy: 0.4909 - val_loss: 2.7560 - val_accuracy: 0.2737 - val_top-5-accuracy: 0.5842\n",
            "Epoch 13/150\n",
            "179/179 [==============================] - 7s 39ms/step - loss: 3.0285 - accuracy: 0.2074 - top-5-accuracy: 0.5046 - val_loss: 2.7136 - val_accuracy: 0.2884 - val_top-5-accuracy: 0.5853\n",
            "Epoch 14/150\n",
            "179/179 [==============================] - 7s 39ms/step - loss: 2.9669 - accuracy: 0.2295 - top-5-accuracy: 0.5242 - val_loss: 2.6126 - val_accuracy: 0.2884 - val_top-5-accuracy: 0.6000\n",
            "Epoch 15/150\n",
            "179/179 [==============================] - 7s 39ms/step - loss: 2.9216 - accuracy: 0.2225 - top-5-accuracy: 0.5484 - val_loss: 2.6343 - val_accuracy: 0.2989 - val_top-5-accuracy: 0.6179\n",
            "Epoch 16/150\n",
            "179/179 [==============================] - 7s 40ms/step - loss: 2.9125 - accuracy: 0.2302 - top-5-accuracy: 0.5474 - val_loss: 2.5955 - val_accuracy: 0.3253 - val_top-5-accuracy: 0.6105\n",
            "Epoch 17/150\n",
            "179/179 [==============================] - 7s 40ms/step - loss: 2.8213 - accuracy: 0.2446 - top-5-accuracy: 0.5670 - val_loss: 2.4992 - val_accuracy: 0.3316 - val_top-5-accuracy: 0.6347\n",
            "Epoch 18/150\n",
            "179/179 [==============================] - 7s 39ms/step - loss: 2.8205 - accuracy: 0.2551 - top-5-accuracy: 0.5702 - val_loss: 2.5208 - val_accuracy: 0.3168 - val_top-5-accuracy: 0.6389\n",
            "Epoch 19/150\n",
            "179/179 [==============================] - 7s 39ms/step - loss: 2.7719 - accuracy: 0.2596 - top-5-accuracy: 0.5804 - val_loss: 2.4688 - val_accuracy: 0.3253 - val_top-5-accuracy: 0.6526\n",
            "Epoch 20/150\n",
            "179/179 [==============================] - 7s 39ms/step - loss: 2.7454 - accuracy: 0.2660 - top-5-accuracy: 0.5828 - val_loss: 2.3953 - val_accuracy: 0.3400 - val_top-5-accuracy: 0.6768\n",
            "Epoch 21/150\n",
            "179/179 [==============================] - 7s 39ms/step - loss: 2.7051 - accuracy: 0.2740 - top-5-accuracy: 0.6046 - val_loss: 2.3798 - val_accuracy: 0.3600 - val_top-5-accuracy: 0.6758\n",
            "Epoch 22/150\n",
            "179/179 [==============================] - 7s 40ms/step - loss: 2.7262 - accuracy: 0.2737 - top-5-accuracy: 0.6070 - val_loss: 2.3702 - val_accuracy: 0.3526 - val_top-5-accuracy: 0.6684\n",
            "Epoch 23/150\n",
            "179/179 [==============================] - 7s 39ms/step - loss: 2.6754 - accuracy: 0.2744 - top-5-accuracy: 0.6161 - val_loss: 2.3729 - val_accuracy: 0.3642 - val_top-5-accuracy: 0.6737\n",
            "Epoch 24/150\n",
            "179/179 [==============================] - 7s 39ms/step - loss: 2.6421 - accuracy: 0.2954 - top-5-accuracy: 0.6207 - val_loss: 2.3830 - val_accuracy: 0.3663 - val_top-5-accuracy: 0.6632\n",
            "Epoch 25/150\n",
            "179/179 [==============================] - 10s 55ms/step - loss: 2.6073 - accuracy: 0.2933 - top-5-accuracy: 0.6319 - val_loss: 2.3222 - val_accuracy: 0.3526 - val_top-5-accuracy: 0.6842\n",
            "Epoch 26/150\n",
            "179/179 [==============================] - 8s 47ms/step - loss: 2.5699 - accuracy: 0.3074 - top-5-accuracy: 0.6330 - val_loss: 2.2937 - val_accuracy: 0.3874 - val_top-5-accuracy: 0.6926\n",
            "Epoch 27/150\n",
            "179/179 [==============================] - 7s 40ms/step - loss: 2.5343 - accuracy: 0.3119 - top-5-accuracy: 0.6428 - val_loss: 2.2324 - val_accuracy: 0.3947 - val_top-5-accuracy: 0.7011\n",
            "Epoch 28/150\n",
            "179/179 [==============================] - 7s 40ms/step - loss: 2.5822 - accuracy: 0.3035 - top-5-accuracy: 0.6323 - val_loss: 2.3579 - val_accuracy: 0.3621 - val_top-5-accuracy: 0.6789\n",
            "Epoch 29/150\n",
            "179/179 [==============================] - 7s 39ms/step - loss: 2.5672 - accuracy: 0.3077 - top-5-accuracy: 0.6365 - val_loss: 2.3000 - val_accuracy: 0.3926 - val_top-5-accuracy: 0.6905\n",
            "Epoch 30/150\n",
            "179/179 [==============================] - 7s 39ms/step - loss: 2.5098 - accuracy: 0.3263 - top-5-accuracy: 0.6456 - val_loss: 2.2669 - val_accuracy: 0.3705 - val_top-5-accuracy: 0.7105\n",
            "Epoch 31/150\n",
            "179/179 [==============================] - 7s 39ms/step - loss: 2.5172 - accuracy: 0.3161 - top-5-accuracy: 0.6589 - val_loss: 2.2605 - val_accuracy: 0.3821 - val_top-5-accuracy: 0.6905\n",
            "Epoch 32/150\n",
            "179/179 [==============================] - 11s 61ms/step - loss: 2.5066 - accuracy: 0.3256 - top-5-accuracy: 0.6561 - val_loss: 2.3416 - val_accuracy: 0.3800 - val_top-5-accuracy: 0.6863\n",
            "Epoch 33/150\n",
            "179/179 [==============================] - 9s 53ms/step - loss: 2.5190 - accuracy: 0.3123 - top-5-accuracy: 0.6537 - val_loss: 2.2194 - val_accuracy: 0.4042 - val_top-5-accuracy: 0.7032\n",
            "Epoch 34/150\n",
            "179/179 [==============================] - 7s 42ms/step - loss: 2.4632 - accuracy: 0.3340 - top-5-accuracy: 0.6716 - val_loss: 2.2482 - val_accuracy: 0.3779 - val_top-5-accuracy: 0.7074\n",
            "Epoch 35/150\n",
            "179/179 [==============================] - 11s 63ms/step - loss: 2.4641 - accuracy: 0.3179 - top-5-accuracy: 0.6709 - val_loss: 2.2436 - val_accuracy: 0.3832 - val_top-5-accuracy: 0.7147\n",
            "Epoch 36/150\n",
            "179/179 [==============================] - 9s 51ms/step - loss: 2.4672 - accuracy: 0.3305 - top-5-accuracy: 0.6551 - val_loss: 2.1326 - val_accuracy: 0.4105 - val_top-5-accuracy: 0.7400\n",
            "Epoch 37/150\n",
            "179/179 [==============================] - 12s 68ms/step - loss: 2.4220 - accuracy: 0.3414 - top-5-accuracy: 0.6800 - val_loss: 2.2199 - val_accuracy: 0.3947 - val_top-5-accuracy: 0.7221\n",
            "Epoch 38/150\n",
            "179/179 [==============================] - 9s 49ms/step - loss: 2.4262 - accuracy: 0.3379 - top-5-accuracy: 0.6751 - val_loss: 2.1076 - val_accuracy: 0.4232 - val_top-5-accuracy: 0.7316\n",
            "Epoch 39/150\n",
            "179/179 [==============================] - 7s 39ms/step - loss: 2.3976 - accuracy: 0.3474 - top-5-accuracy: 0.6821 - val_loss: 2.2612 - val_accuracy: 0.3895 - val_top-5-accuracy: 0.7063\n",
            "Epoch 40/150\n",
            "179/179 [==============================] - 10s 59ms/step - loss: 2.4065 - accuracy: 0.3382 - top-5-accuracy: 0.6874 - val_loss: 2.1457 - val_accuracy: 0.4053 - val_top-5-accuracy: 0.7284\n",
            "Epoch 41/150\n",
            "179/179 [==============================] - 10s 53ms/step - loss: 2.3798 - accuracy: 0.3537 - top-5-accuracy: 0.6800 - val_loss: 2.1560 - val_accuracy: 0.4305 - val_top-5-accuracy: 0.7305\n",
            "Epoch 42/150\n",
            "179/179 [==============================] - 10s 55ms/step - loss: 2.3278 - accuracy: 0.3688 - top-5-accuracy: 0.7018 - val_loss: 2.0753 - val_accuracy: 0.4326 - val_top-5-accuracy: 0.7379\n",
            "Epoch 43/150\n",
            "179/179 [==============================] - 7s 40ms/step - loss: 2.3094 - accuracy: 0.3691 - top-5-accuracy: 0.7147 - val_loss: 2.0783 - val_accuracy: 0.4284 - val_top-5-accuracy: 0.7400\n",
            "Epoch 44/150\n",
            "179/179 [==============================] - 7s 40ms/step - loss: 2.3497 - accuracy: 0.3586 - top-5-accuracy: 0.7035 - val_loss: 2.0893 - val_accuracy: 0.4316 - val_top-5-accuracy: 0.7516\n",
            "Epoch 45/150\n",
            "179/179 [==============================] - 7s 40ms/step - loss: 2.2998 - accuracy: 0.3698 - top-5-accuracy: 0.7046 - val_loss: 2.0534 - val_accuracy: 0.4432 - val_top-5-accuracy: 0.7442\n",
            "Epoch 46/150\n",
            "179/179 [==============================] - 7s 40ms/step - loss: 2.3156 - accuracy: 0.3656 - top-5-accuracy: 0.6933 - val_loss: 2.1715 - val_accuracy: 0.4063 - val_top-5-accuracy: 0.7253\n",
            "Epoch 47/150\n",
            "179/179 [==============================] - 8s 47ms/step - loss: 2.3060 - accuracy: 0.3835 - top-5-accuracy: 0.7049 - val_loss: 2.1059 - val_accuracy: 0.4421 - val_top-5-accuracy: 0.7495\n",
            "Epoch 48/150\n",
            "179/179 [==============================] - 12s 67ms/step - loss: 2.3045 - accuracy: 0.3698 - top-5-accuracy: 0.7053 - val_loss: 2.0779 - val_accuracy: 0.4389 - val_top-5-accuracy: 0.7358\n",
            "Epoch 49/150\n",
            "179/179 [==============================] - 9s 49ms/step - loss: 2.2612 - accuracy: 0.3895 - top-5-accuracy: 0.7151 - val_loss: 2.0393 - val_accuracy: 0.4200 - val_top-5-accuracy: 0.7547\n",
            "Epoch 50/150\n",
            "179/179 [==============================] - 11s 62ms/step - loss: 2.2520 - accuracy: 0.3691 - top-5-accuracy: 0.7200 - val_loss: 1.9711 - val_accuracy: 0.4579 - val_top-5-accuracy: 0.7684\n",
            "Epoch 51/150\n",
            "179/179 [==============================] - 7s 40ms/step - loss: 2.2933 - accuracy: 0.3625 - top-5-accuracy: 0.7116 - val_loss: 2.0186 - val_accuracy: 0.4463 - val_top-5-accuracy: 0.7505\n",
            "Epoch 52/150\n",
            "179/179 [==============================] - 7s 39ms/step - loss: 2.2626 - accuracy: 0.3821 - top-5-accuracy: 0.7067 - val_loss: 2.0321 - val_accuracy: 0.4505 - val_top-5-accuracy: 0.7642\n",
            "Epoch 53/150\n",
            "179/179 [==============================] - 7s 39ms/step - loss: 2.2519 - accuracy: 0.3765 - top-5-accuracy: 0.7116 - val_loss: 2.0167 - val_accuracy: 0.4432 - val_top-5-accuracy: 0.7684\n",
            "Epoch 54/150\n",
            "179/179 [==============================] - 7s 39ms/step - loss: 2.2210 - accuracy: 0.3856 - top-5-accuracy: 0.7260 - val_loss: 2.0182 - val_accuracy: 0.4389 - val_top-5-accuracy: 0.7442\n",
            "Epoch 55/150\n",
            "179/179 [==============================] - 7s 39ms/step - loss: 2.2060 - accuracy: 0.3933 - top-5-accuracy: 0.7221 - val_loss: 2.0020 - val_accuracy: 0.4537 - val_top-5-accuracy: 0.7579\n",
            "Epoch 56/150\n",
            "179/179 [==============================] - 7s 40ms/step - loss: 2.2306 - accuracy: 0.3849 - top-5-accuracy: 0.7221 - val_loss: 2.0885 - val_accuracy: 0.4316 - val_top-5-accuracy: 0.7600\n",
            "Epoch 57/150\n",
            "179/179 [==============================] - 7s 41ms/step - loss: 2.1777 - accuracy: 0.3881 - top-5-accuracy: 0.7491 - val_loss: 2.2630 - val_accuracy: 0.4105 - val_top-5-accuracy: 0.7305\n",
            "Epoch 58/150\n",
            "179/179 [==============================] - 7s 39ms/step - loss: 2.1920 - accuracy: 0.3989 - top-5-accuracy: 0.7340 - val_loss: 2.0698 - val_accuracy: 0.4421 - val_top-5-accuracy: 0.7726\n",
            "Epoch 59/150\n",
            "179/179 [==============================] - 7s 39ms/step - loss: 2.1678 - accuracy: 0.4074 - top-5-accuracy: 0.7372 - val_loss: 1.9664 - val_accuracy: 0.4505 - val_top-5-accuracy: 0.7674\n",
            "Epoch 60/150\n",
            "179/179 [==============================] - 7s 39ms/step - loss: 2.2200 - accuracy: 0.3947 - top-5-accuracy: 0.7249 - val_loss: 2.0616 - val_accuracy: 0.4305 - val_top-5-accuracy: 0.7474\n",
            "Epoch 61/150\n",
            "179/179 [==============================] - 7s 39ms/step - loss: 2.2067 - accuracy: 0.3905 - top-5-accuracy: 0.7281 - val_loss: 2.0756 - val_accuracy: 0.4526 - val_top-5-accuracy: 0.7642\n",
            "Epoch 62/150\n",
            "179/179 [==============================] - 8s 43ms/step - loss: 2.1628 - accuracy: 0.4063 - top-5-accuracy: 0.7379 - val_loss: 2.0266 - val_accuracy: 0.4516 - val_top-5-accuracy: 0.7421\n",
            "Epoch 63/150\n",
            "179/179 [==============================] - 7s 40ms/step - loss: 2.1972 - accuracy: 0.4105 - top-5-accuracy: 0.7239 - val_loss: 1.9243 - val_accuracy: 0.4642 - val_top-5-accuracy: 0.7779\n",
            "Epoch 64/150\n",
            "179/179 [==============================] - 7s 40ms/step - loss: 2.1778 - accuracy: 0.3919 - top-5-accuracy: 0.7337 - val_loss: 1.9134 - val_accuracy: 0.4726 - val_top-5-accuracy: 0.7705\n",
            "Epoch 65/150\n",
            "179/179 [==============================] - 7s 39ms/step - loss: 2.1284 - accuracy: 0.4095 - top-5-accuracy: 0.7470 - val_loss: 2.0088 - val_accuracy: 0.4737 - val_top-5-accuracy: 0.7600\n",
            "Epoch 66/150\n",
            "179/179 [==============================] - 7s 39ms/step - loss: 2.1365 - accuracy: 0.4014 - top-5-accuracy: 0.7414 - val_loss: 1.9494 - val_accuracy: 0.4568 - val_top-5-accuracy: 0.7758\n",
            "Epoch 67/150\n",
            "179/179 [==============================] - 7s 39ms/step - loss: 2.1085 - accuracy: 0.4056 - top-5-accuracy: 0.7512 - val_loss: 1.9808 - val_accuracy: 0.4695 - val_top-5-accuracy: 0.7684\n",
            "Epoch 68/150\n",
            "179/179 [==============================] - 7s 39ms/step - loss: 2.1213 - accuracy: 0.4063 - top-5-accuracy: 0.7449 - val_loss: 1.9253 - val_accuracy: 0.4632 - val_top-5-accuracy: 0.7726\n",
            "Epoch 69/150\n",
            "179/179 [==============================] - 7s 39ms/step - loss: 2.3737 - accuracy: 0.3779 - top-5-accuracy: 0.7028 - val_loss: 2.0997 - val_accuracy: 0.3937 - val_top-5-accuracy: 0.7463\n",
            "Epoch 70/150\n",
            "179/179 [==============================] - 8s 45ms/step - loss: 2.2767 - accuracy: 0.3705 - top-5-accuracy: 0.7004 - val_loss: 1.9194 - val_accuracy: 0.4695 - val_top-5-accuracy: 0.7863\n",
            "Epoch 71/150\n",
            "179/179 [==============================] - 7s 40ms/step - loss: 2.1243 - accuracy: 0.4130 - top-5-accuracy: 0.7414 - val_loss: 2.0829 - val_accuracy: 0.4316 - val_top-5-accuracy: 0.7558\n",
            "Epoch 72/150\n",
            "179/179 [==============================] - 7s 39ms/step - loss: 2.1702 - accuracy: 0.4056 - top-5-accuracy: 0.7365 - val_loss: 2.0152 - val_accuracy: 0.4474 - val_top-5-accuracy: 0.7653\n",
            "Epoch 73/150\n",
            "179/179 [==============================] - 7s 40ms/step - loss: 2.1337 - accuracy: 0.4000 - top-5-accuracy: 0.7411 - val_loss: 1.9233 - val_accuracy: 0.4642 - val_top-5-accuracy: 0.7600\n",
            "Epoch 74/150\n",
            "179/179 [==============================] - 7s 39ms/step - loss: 2.0928 - accuracy: 0.4246 - top-5-accuracy: 0.7544 - val_loss: 1.8839 - val_accuracy: 0.4589 - val_top-5-accuracy: 0.7832\n",
            "Epoch 75/150\n",
            "179/179 [==============================] - 7s 39ms/step - loss: 2.1261 - accuracy: 0.4095 - top-5-accuracy: 0.7547 - val_loss: 1.8777 - val_accuracy: 0.4653 - val_top-5-accuracy: 0.8021\n",
            "Epoch 76/150\n",
            "179/179 [==============================] - 7s 42ms/step - loss: 2.1018 - accuracy: 0.4186 - top-5-accuracy: 0.7604 - val_loss: 2.0410 - val_accuracy: 0.4589 - val_top-5-accuracy: 0.7632\n",
            "Epoch 77/150\n",
            "179/179 [==============================] - 7s 39ms/step - loss: 2.0995 - accuracy: 0.4151 - top-5-accuracy: 0.7561 - val_loss: 2.0094 - val_accuracy: 0.4432 - val_top-5-accuracy: 0.7768\n",
            "Epoch 78/150\n",
            "179/179 [==============================] - 7s 39ms/step - loss: 2.1139 - accuracy: 0.4154 - top-5-accuracy: 0.7572 - val_loss: 2.0213 - val_accuracy: 0.4284 - val_top-5-accuracy: 0.7779\n",
            "Epoch 79/150\n",
            "179/179 [==============================] - 7s 40ms/step - loss: 2.0511 - accuracy: 0.4316 - top-5-accuracy: 0.7698 - val_loss: 1.8325 - val_accuracy: 0.4905 - val_top-5-accuracy: 0.7821\n",
            "Epoch 80/150\n",
            "179/179 [==============================] - 7s 39ms/step - loss: 2.0725 - accuracy: 0.4270 - top-5-accuracy: 0.7600 - val_loss: 1.9216 - val_accuracy: 0.4695 - val_top-5-accuracy: 0.7789\n",
            "Epoch 81/150\n",
            "179/179 [==============================] - 7s 39ms/step - loss: 2.0639 - accuracy: 0.4267 - top-5-accuracy: 0.7674 - val_loss: 1.9335 - val_accuracy: 0.4789 - val_top-5-accuracy: 0.7726\n",
            "Epoch 82/150\n",
            "179/179 [==============================] - 7s 39ms/step - loss: 2.0702 - accuracy: 0.4267 - top-5-accuracy: 0.7684 - val_loss: 1.9547 - val_accuracy: 0.4421 - val_top-5-accuracy: 0.7684\n",
            "Epoch 83/150\n",
            "179/179 [==============================] - 7s 40ms/step - loss: 2.0979 - accuracy: 0.4168 - top-5-accuracy: 0.7484 - val_loss: 1.9148 - val_accuracy: 0.4789 - val_top-5-accuracy: 0.7811\n",
            "Epoch 84/150\n",
            "179/179 [==============================] - 7s 40ms/step - loss: 2.0813 - accuracy: 0.4193 - top-5-accuracy: 0.7544 - val_loss: 1.9495 - val_accuracy: 0.4537 - val_top-5-accuracy: 0.7821\n",
            "Epoch 85/150\n",
            "179/179 [==============================] - 7s 40ms/step - loss: 2.0040 - accuracy: 0.4298 - top-5-accuracy: 0.7811 - val_loss: 1.9839 - val_accuracy: 0.4526 - val_top-5-accuracy: 0.7737\n",
            "Epoch 86/150\n",
            "179/179 [==============================] - 7s 40ms/step - loss: 2.0463 - accuracy: 0.4281 - top-5-accuracy: 0.7642 - val_loss: 1.9511 - val_accuracy: 0.4779 - val_top-5-accuracy: 0.7779\n",
            "Epoch 87/150\n",
            "179/179 [==============================] - 7s 40ms/step - loss: 2.0220 - accuracy: 0.4354 - top-5-accuracy: 0.7691 - val_loss: 1.9795 - val_accuracy: 0.4442 - val_top-5-accuracy: 0.7842\n",
            "Epoch 88/150\n",
            "179/179 [==============================] - 7s 40ms/step - loss: 2.0142 - accuracy: 0.4414 - top-5-accuracy: 0.7733 - val_loss: 1.9929 - val_accuracy: 0.4453 - val_top-5-accuracy: 0.7747\n",
            "Epoch 89/150\n",
            "179/179 [==============================] - 7s 40ms/step - loss: 2.0409 - accuracy: 0.4211 - top-5-accuracy: 0.7754 - val_loss: 1.9647 - val_accuracy: 0.4611 - val_top-5-accuracy: 0.7821\n",
            "Epoch 90/150\n",
            "179/179 [==============================] - 7s 39ms/step - loss: 2.0594 - accuracy: 0.4232 - top-5-accuracy: 0.7596 - val_loss: 1.9480 - val_accuracy: 0.4611 - val_top-5-accuracy: 0.7726\n",
            "Epoch 91/150\n",
            "179/179 [==============================] - 7s 39ms/step - loss: 2.0694 - accuracy: 0.4263 - top-5-accuracy: 0.7632 - val_loss: 1.9379 - val_accuracy: 0.4621 - val_top-5-accuracy: 0.7842\n",
            "Epoch 92/150\n",
            "179/179 [==============================] - 7s 39ms/step - loss: 2.0480 - accuracy: 0.4253 - top-5-accuracy: 0.7667 - val_loss: 1.9017 - val_accuracy: 0.4800 - val_top-5-accuracy: 0.7874\n",
            "Epoch 93/150\n",
            "179/179 [==============================] - 7s 39ms/step - loss: 2.0435 - accuracy: 0.4305 - top-5-accuracy: 0.7698 - val_loss: 1.9206 - val_accuracy: 0.4779 - val_top-5-accuracy: 0.7926\n",
            "Epoch 94/150\n",
            "179/179 [==============================] - 7s 40ms/step - loss: 1.9959 - accuracy: 0.4323 - top-5-accuracy: 0.7779 - val_loss: 1.8834 - val_accuracy: 0.4821 - val_top-5-accuracy: 0.7916\n",
            "Epoch 95/150\n",
            "179/179 [==============================] - 7s 41ms/step - loss: 2.0553 - accuracy: 0.4302 - top-5-accuracy: 0.7653 - val_loss: 2.0762 - val_accuracy: 0.4379 - val_top-5-accuracy: 0.7621\n",
            "Epoch 96/150\n",
            "179/179 [==============================] - 7s 40ms/step - loss: 2.0208 - accuracy: 0.4340 - top-5-accuracy: 0.7733 - val_loss: 1.9135 - val_accuracy: 0.4547 - val_top-5-accuracy: 0.8053\n",
            "Epoch 97/150\n",
            "179/179 [==============================] - 7s 39ms/step - loss: 2.0227 - accuracy: 0.4284 - top-5-accuracy: 0.7688 - val_loss: 2.0608 - val_accuracy: 0.4326 - val_top-5-accuracy: 0.7716\n",
            "Epoch 98/150\n",
            "179/179 [==============================] - 7s 39ms/step - loss: 2.0455 - accuracy: 0.4344 - top-5-accuracy: 0.7716 - val_loss: 1.8512 - val_accuracy: 0.4779 - val_top-5-accuracy: 0.8158\n",
            "Epoch 99/150\n",
            "179/179 [==============================] - 7s 40ms/step - loss: 2.0161 - accuracy: 0.4305 - top-5-accuracy: 0.7730 - val_loss: 1.8953 - val_accuracy: 0.4747 - val_top-5-accuracy: 0.7958\n",
            "Epoch 100/150\n",
            "179/179 [==============================] - 7s 40ms/step - loss: 1.9770 - accuracy: 0.4407 - top-5-accuracy: 0.7804 - val_loss: 1.9631 - val_accuracy: 0.4579 - val_top-5-accuracy: 0.7800\n",
            "Epoch 101/150\n",
            "179/179 [==============================] - 7s 40ms/step - loss: 2.0108 - accuracy: 0.4435 - top-5-accuracy: 0.7754 - val_loss: 1.9341 - val_accuracy: 0.4632 - val_top-5-accuracy: 0.7758\n",
            "Epoch 102/150\n",
            "179/179 [==============================] - 7s 40ms/step - loss: 1.9799 - accuracy: 0.4365 - top-5-accuracy: 0.7754 - val_loss: 1.9122 - val_accuracy: 0.4726 - val_top-5-accuracy: 0.7884\n",
            "Epoch 103/150\n",
            "179/179 [==============================] - 7s 39ms/step - loss: 2.0292 - accuracy: 0.4358 - top-5-accuracy: 0.7751 - val_loss: 1.9751 - val_accuracy: 0.4379 - val_top-5-accuracy: 0.7705\n",
            "Epoch 104/150\n",
            "179/179 [==============================] - 7s 39ms/step - loss: 1.9881 - accuracy: 0.4449 - top-5-accuracy: 0.7800 - val_loss: 1.8250 - val_accuracy: 0.4853 - val_top-5-accuracy: 0.8011\n",
            "Epoch 105/150\n",
            "179/179 [==============================] - 7s 40ms/step - loss: 1.9981 - accuracy: 0.4470 - top-5-accuracy: 0.7825 - val_loss: 1.8551 - val_accuracy: 0.4779 - val_top-5-accuracy: 0.7895\n",
            "Epoch 106/150\n",
            "179/179 [==============================] - 7s 39ms/step - loss: 2.0458 - accuracy: 0.4291 - top-5-accuracy: 0.7695 - val_loss: 1.9673 - val_accuracy: 0.4600 - val_top-5-accuracy: 0.7789\n",
            "Epoch 107/150\n",
            "179/179 [==============================] - 7s 39ms/step - loss: 1.9930 - accuracy: 0.4396 - top-5-accuracy: 0.7754 - val_loss: 1.8809 - val_accuracy: 0.4800 - val_top-5-accuracy: 0.7863\n",
            "Epoch 108/150\n",
            "179/179 [==============================] - 7s 39ms/step - loss: 1.9850 - accuracy: 0.4526 - top-5-accuracy: 0.7821 - val_loss: 1.8228 - val_accuracy: 0.4905 - val_top-5-accuracy: 0.8053\n",
            "Epoch 109/150\n",
            "179/179 [==============================] - 7s 40ms/step - loss: 1.9658 - accuracy: 0.4558 - top-5-accuracy: 0.7775 - val_loss: 1.8811 - val_accuracy: 0.4884 - val_top-5-accuracy: 0.7895\n",
            "Epoch 110/150\n",
            "179/179 [==============================] - 7s 40ms/step - loss: 1.9863 - accuracy: 0.4407 - top-5-accuracy: 0.7807 - val_loss: 1.8642 - val_accuracy: 0.4716 - val_top-5-accuracy: 0.7916\n",
            "Epoch 111/150\n",
            "179/179 [==============================] - 7s 39ms/step - loss: 1.9631 - accuracy: 0.4379 - top-5-accuracy: 0.7895 - val_loss: 1.8049 - val_accuracy: 0.5021 - val_top-5-accuracy: 0.7905\n",
            "Epoch 112/150\n",
            "179/179 [==============================] - 7s 40ms/step - loss: 1.9808 - accuracy: 0.4512 - top-5-accuracy: 0.7726 - val_loss: 1.8971 - val_accuracy: 0.4653 - val_top-5-accuracy: 0.7705\n",
            "Epoch 113/150\n",
            "179/179 [==============================] - 7s 41ms/step - loss: 1.9569 - accuracy: 0.4537 - top-5-accuracy: 0.7923 - val_loss: 1.8437 - val_accuracy: 0.5011 - val_top-5-accuracy: 0.8032\n",
            "Epoch 114/150\n",
            "179/179 [==============================] - 7s 39ms/step - loss: 2.0070 - accuracy: 0.4502 - top-5-accuracy: 0.7702 - val_loss: 2.0200 - val_accuracy: 0.4579 - val_top-5-accuracy: 0.7547\n",
            "Epoch 115/150\n",
            "179/179 [==============================] - 7s 39ms/step - loss: 1.9806 - accuracy: 0.4330 - top-5-accuracy: 0.7874 - val_loss: 1.9534 - val_accuracy: 0.4526 - val_top-5-accuracy: 0.7832\n",
            "Epoch 116/150\n",
            "179/179 [==============================] - 7s 39ms/step - loss: 1.9549 - accuracy: 0.4519 - top-5-accuracy: 0.7849 - val_loss: 1.8610 - val_accuracy: 0.4779 - val_top-5-accuracy: 0.7832\n",
            "Epoch 117/150\n",
            "179/179 [==============================] - 7s 40ms/step - loss: 1.9639 - accuracy: 0.4502 - top-5-accuracy: 0.7807 - val_loss: 1.9435 - val_accuracy: 0.4547 - val_top-5-accuracy: 0.7758\n",
            "Epoch 118/150\n",
            "179/179 [==============================] - 7s 40ms/step - loss: 1.9856 - accuracy: 0.4463 - top-5-accuracy: 0.7758 - val_loss: 1.9564 - val_accuracy: 0.4537 - val_top-5-accuracy: 0.7695\n",
            "Epoch 119/150\n",
            "179/179 [==============================] - 7s 40ms/step - loss: 1.9272 - accuracy: 0.4523 - top-5-accuracy: 0.7888 - val_loss: 1.8240 - val_accuracy: 0.4874 - val_top-5-accuracy: 0.7905\n",
            "Epoch 120/150\n",
            "179/179 [==============================] - 7s 40ms/step - loss: 1.9463 - accuracy: 0.4488 - top-5-accuracy: 0.8004 - val_loss: 1.9335 - val_accuracy: 0.4621 - val_top-5-accuracy: 0.7674\n",
            "Epoch 121/150\n",
            "179/179 [==============================] - 7s 40ms/step - loss: 1.8884 - accuracy: 0.4698 - top-5-accuracy: 0.7972 - val_loss: 1.9604 - val_accuracy: 0.4663 - val_top-5-accuracy: 0.7789\n",
            "Epoch 122/150\n",
            "179/179 [==============================] - 7s 40ms/step - loss: 1.9799 - accuracy: 0.4414 - top-5-accuracy: 0.7877 - val_loss: 1.8050 - val_accuracy: 0.4979 - val_top-5-accuracy: 0.8147\n",
            "Epoch 123/150\n",
            "179/179 [==============================] - 7s 40ms/step - loss: 1.9969 - accuracy: 0.4432 - top-5-accuracy: 0.7779 - val_loss: 1.7707 - val_accuracy: 0.5074 - val_top-5-accuracy: 0.8053\n",
            "Epoch 124/150\n",
            "179/179 [==============================] - 7s 40ms/step - loss: 2.0552 - accuracy: 0.4344 - top-5-accuracy: 0.7667 - val_loss: 1.9524 - val_accuracy: 0.4632 - val_top-5-accuracy: 0.7768\n",
            "Epoch 125/150\n",
            "179/179 [==============================] - 7s 40ms/step - loss: 2.0017 - accuracy: 0.4404 - top-5-accuracy: 0.7779 - val_loss: 1.9121 - val_accuracy: 0.4737 - val_top-5-accuracy: 0.7979\n",
            "Epoch 126/150\n",
            "179/179 [==============================] - 7s 39ms/step - loss: 1.9902 - accuracy: 0.4425 - top-5-accuracy: 0.7804 - val_loss: 1.8132 - val_accuracy: 0.5000 - val_top-5-accuracy: 0.7937\n",
            "Epoch 127/150\n",
            "179/179 [==============================] - 7s 40ms/step - loss: 1.9346 - accuracy: 0.4582 - top-5-accuracy: 0.7835 - val_loss: 1.7702 - val_accuracy: 0.5116 - val_top-5-accuracy: 0.8221\n",
            "Epoch 128/150\n",
            "179/179 [==============================] - 7s 39ms/step - loss: 1.9602 - accuracy: 0.4575 - top-5-accuracy: 0.7747 - val_loss: 1.8254 - val_accuracy: 0.5084 - val_top-5-accuracy: 0.7874\n",
            "Epoch 129/150\n",
            "179/179 [==============================] - 7s 40ms/step - loss: 1.9957 - accuracy: 0.4435 - top-5-accuracy: 0.7796 - val_loss: 1.9368 - val_accuracy: 0.4632 - val_top-5-accuracy: 0.7905\n",
            "Epoch 130/150\n",
            "179/179 [==============================] - 7s 39ms/step - loss: 1.9575 - accuracy: 0.4446 - top-5-accuracy: 0.7814 - val_loss: 1.8911 - val_accuracy: 0.4695 - val_top-5-accuracy: 0.7958\n",
            "Epoch 131/150\n",
            "179/179 [==============================] - 7s 40ms/step - loss: 2.0779 - accuracy: 0.4323 - top-5-accuracy: 0.7695 - val_loss: 1.8131 - val_accuracy: 0.5074 - val_top-5-accuracy: 0.7926\n",
            "Epoch 132/150\n",
            "179/179 [==============================] - 7s 42ms/step - loss: 1.9777 - accuracy: 0.4453 - top-5-accuracy: 0.7874 - val_loss: 1.7966 - val_accuracy: 0.5032 - val_top-5-accuracy: 0.8105\n",
            "Epoch 133/150\n",
            "179/179 [==============================] - 7s 40ms/step - loss: 1.9258 - accuracy: 0.4509 - top-5-accuracy: 0.7975 - val_loss: 2.0479 - val_accuracy: 0.4537 - val_top-5-accuracy: 0.7695\n",
            "Epoch 134/150\n",
            "179/179 [==============================] - 7s 39ms/step - loss: 1.9417 - accuracy: 0.4505 - top-5-accuracy: 0.7853 - val_loss: 1.9336 - val_accuracy: 0.4747 - val_top-5-accuracy: 0.7758\n",
            "Epoch 135/150\n",
            "179/179 [==============================] - 7s 40ms/step - loss: 1.9186 - accuracy: 0.4653 - top-5-accuracy: 0.7919 - val_loss: 1.8270 - val_accuracy: 0.5189 - val_top-5-accuracy: 0.7989\n",
            "Epoch 136/150\n",
            "179/179 [==============================] - 7s 39ms/step - loss: 1.9277 - accuracy: 0.4611 - top-5-accuracy: 0.7961 - val_loss: 1.7371 - val_accuracy: 0.5021 - val_top-5-accuracy: 0.8263\n",
            "Epoch 137/150\n",
            "179/179 [==============================] - 7s 40ms/step - loss: 1.9401 - accuracy: 0.4635 - top-5-accuracy: 0.7898 - val_loss: 1.7983 - val_accuracy: 0.5000 - val_top-5-accuracy: 0.8105\n",
            "Epoch 138/150\n",
            "179/179 [==============================] - 7s 40ms/step - loss: 1.8951 - accuracy: 0.4660 - top-5-accuracy: 0.7940 - val_loss: 1.8347 - val_accuracy: 0.5137 - val_top-5-accuracy: 0.7905\n",
            "Epoch 139/150\n",
            "179/179 [==============================] - 7s 40ms/step - loss: 1.9354 - accuracy: 0.4625 - top-5-accuracy: 0.7849 - val_loss: 1.8630 - val_accuracy: 0.4832 - val_top-5-accuracy: 0.7979\n",
            "Epoch 140/150\n",
            "179/179 [==============================] - 7s 41ms/step - loss: 1.8846 - accuracy: 0.4723 - top-5-accuracy: 0.8004 - val_loss: 1.7458 - val_accuracy: 0.5168 - val_top-5-accuracy: 0.8221\n",
            "Epoch 141/150\n",
            "179/179 [==============================] - 7s 40ms/step - loss: 1.8962 - accuracy: 0.4705 - top-5-accuracy: 0.7926 - val_loss: 1.8773 - val_accuracy: 0.4832 - val_top-5-accuracy: 0.8042\n",
            "Epoch 142/150\n",
            "179/179 [==============================] - 7s 40ms/step - loss: 1.9502 - accuracy: 0.4502 - top-5-accuracy: 0.7867 - val_loss: 1.7221 - val_accuracy: 0.5200 - val_top-5-accuracy: 0.8221\n",
            "Epoch 143/150\n",
            "179/179 [==============================] - 7s 40ms/step - loss: 1.9098 - accuracy: 0.4723 - top-5-accuracy: 0.7961 - val_loss: 1.9263 - val_accuracy: 0.4621 - val_top-5-accuracy: 0.7789\n",
            "Epoch 144/150\n",
            "179/179 [==============================] - 7s 40ms/step - loss: 1.9059 - accuracy: 0.4625 - top-5-accuracy: 0.7846 - val_loss: 1.8187 - val_accuracy: 0.4958 - val_top-5-accuracy: 0.7895\n",
            "Epoch 145/150\n",
            "179/179 [==============================] - 7s 40ms/step - loss: 1.9422 - accuracy: 0.4554 - top-5-accuracy: 0.7835 - val_loss: 1.7725 - val_accuracy: 0.5232 - val_top-5-accuracy: 0.8042\n",
            "Epoch 146/150\n",
            "179/179 [==============================] - 7s 40ms/step - loss: 1.9221 - accuracy: 0.4568 - top-5-accuracy: 0.8025 - val_loss: 1.7725 - val_accuracy: 0.5179 - val_top-5-accuracy: 0.8021\n",
            "Epoch 147/150\n",
            "179/179 [==============================] - 7s 40ms/step - loss: 1.9276 - accuracy: 0.4593 - top-5-accuracy: 0.7947 - val_loss: 1.9640 - val_accuracy: 0.4642 - val_top-5-accuracy: 0.7811\n",
            "Epoch 148/150\n",
            "179/179 [==============================] - 7s 40ms/step - loss: 1.8813 - accuracy: 0.4618 - top-5-accuracy: 0.8046 - val_loss: 1.8937 - val_accuracy: 0.4821 - val_top-5-accuracy: 0.7821\n",
            "Epoch 149/150\n",
            "179/179 [==============================] - 7s 40ms/step - loss: 1.9105 - accuracy: 0.4600 - top-5-accuracy: 0.7905 - val_loss: 2.0598 - val_accuracy: 0.4368 - val_top-5-accuracy: 0.7642\n",
            "Epoch 150/150\n",
            "179/179 [==============================] - 7s 40ms/step - loss: 1.8748 - accuracy: 0.4691 - top-5-accuracy: 0.7993 - val_loss: 2.0259 - val_accuracy: 0.4547 - val_top-5-accuracy: 0.7895\n"
          ]
        }
      ]
    },
    {
      "cell_type": "code",
      "source": [
        "plot_loss_and_accuracy(history_audio)"
      ],
      "metadata": {
        "colab": {
          "base_uri": "https://localhost:8080/",
          "height": 573
        },
        "id": "7RmFRxnbfAeH",
        "outputId": "18c3b8b1-9029-4350-88d4-630fa77a3b5c"
      },
      "execution_count": null,
      "outputs": [
        {
          "output_type": "display_data",
          "data": {
            "text/plain": [
              "<Figure size 432x288 with 1 Axes>"
            ],
            "image/png": "[encoded data removed]"
          },
          "metadata": {
            "needs_background": "light"
          }
        },
        {
          "output_type": "display_data",
          "data": {
            "text/plain": [
              "<Figure size 432x288 with 1 Axes>"
            ],
            "image/png": "[encoded data removed]"
          },
          "metadata": {
            "needs_background": "light"
          }
        }
      ]
    },
    {
      "cell_type": "markdown",
      "source": [
        "**Evaluate final performance** "
      ],
      "metadata": {
        "id": "98iom71gfHHo"
      }
    },
    {
      "cell_type": "code",
      "source": [
        "# Test accuracy \n",
        "_, accuracy, top_5_accuracy = best_model_audio.evaluate(x_test_audio, y_test_fuse, batch_size=BATCH_SIZE)\n",
        "\n",
        "print(f\"Test accuracy: {round(accuracy * 100, 2)}%\")\n",
        "print(f\"Test top 5 accuracy: {round(top_5_accuracy * 100, 2)}%\")"
      ],
      "metadata": {
        "colab": {
          "base_uri": "https://localhost:8080/"
        },
        "id": "evXsXiBQfGba",
        "outputId": "dc7fff6f-0b08-47f7-812b-60a73e9b476b"
      },
      "execution_count": null,
      "outputs": [
        {
          "output_type": "stream",
          "name": "stdout",
          "text": [
            "60/60 [==============================] - 1s 15ms/step - loss: 1.9047 - accuracy: 0.4789 - top-5-accuracy: 0.7947\n",
            "Test accuracy: 47.89%\n",
            "Test top 5 accuracy: 79.47%\n"
          ]
        }
      ]
    },
    {
      "cell_type": "code",
      "source": [
        "best_model_audio.count_params()"
      ],
      "metadata": {
        "colab": {
          "base_uri": "https://localhost:8080/"
        },
        "id": "or0pn-NUip3i",
        "outputId": "56188ea5-12bf-4a8f-92dd-1fc9b3088111"
      },
      "execution_count": null,
      "outputs": [
        {
          "output_type": "execute_result",
          "data": {
            "text/plain": [
              "2931838"
            ]
          },
          "metadata": {},
          "execution_count": 29
        }
      ]
    },
    {
      "cell_type": "code",
      "source": [
        "best_model_audio.save('model_save_audio_further_trained')"
      ],
      "metadata": {
        "colab": {
          "base_uri": "https://localhost:8080/"
        },
        "id": "NEfkwE8ffTLd",
        "outputId": "1ec75f77-4674-4f1b-e1c4-ee56badc2d71"
      },
      "execution_count": null,
      "outputs": [
        {
          "output_type": "stream",
          "name": "stderr",
          "text": [
            "WARNING:absl:Found untraced functions such as reshape_1_layer_call_fn, reshape_1_layer_call_and_return_conditional_losses, dense_10_layer_call_fn, dense_10_layer_call_and_return_conditional_losses, layer_normalization_6_layer_call_fn while saving (showing 5 of 80). These functions will not be directly callable after loading.\n"
          ]
        },
        {
          "output_type": "stream",
          "name": "stdout",
          "text": [
            "INFO:tensorflow:Assets written to: model_save_audio_further_trained/assets\n"
          ]
        },
        {
          "output_type": "stream",
          "name": "stderr",
          "text": [
            "INFO:tensorflow:Assets written to: model_save_audio_further_trained/assets\n"
          ]
        }
      ]
    },
    {
      "cell_type": "code",
      "source": [
        "# Load model and test accuracy to check if it matches\n",
        "model_audio_load = keras.models.load_model('model_save_audio_further_trained')\n",
        "\n",
        "_, accuracy, top_5_accuracy = model_audio_load.evaluate(x_test_audio, y_test_fuse, batch_size=BATCH_SIZE)\n",
        "\n",
        "print(f\"Test accuracy: {round(accuracy * 100, 2)}%\")\n",
        "print(f\"Test top 5 accuracy: {round(top_5_accuracy * 100, 2)}%\")"
      ],
      "metadata": {
        "colab": {
          "base_uri": "https://localhost:8080/"
        },
        "id": "R9-AbRd1fiAl",
        "outputId": "6852ddfe-1dc7-45fd-b15e-a076a07015d5"
      },
      "execution_count": 18,
      "outputs": [
        {
          "output_type": "stream",
          "name": "stdout",
          "text": [
            "60/60 [==============================] - 2s 14ms/step - loss: 1.9047 - accuracy: 0.4789 - top-5-accuracy: 0.7947\n",
            "Test accuracy: 47.89%\n",
            "Test top 5 accuracy: 79.47%\n"
          ]
        }
      ]
    },
    {
      "cell_type": "markdown",
      "source": [
        "# Ensemble model\n",
        "\n",
        "- Machine learning approach to combine multiple other models in the prediction process.\n",
        "- The outputs of the image and audio models are combined using an aggregating method: the probability predictions for each label are summed and the label with the majority vote is predicted."
      ],
      "metadata": {
        "id": "ZeAIsw7JeYGe"
      }
    },
    {
      "cell_type": "code",
      "source": [
        "model_img = model_img_load\n",
        "model_audio = model_audio_load\n",
        "\n",
        "# Training \n",
        "proba_pred_train_img = tf.nn.softmax(model_img.predict(x_train_img))\n",
        "proba_pred_train_audio = tf.nn.softmax(model_audio.predict(x_train_audio))\n",
        "pred_train_img = np.argmax(proba_pred_train_img, axis=1) # (2850,)\n",
        "pred_train_audio = np.argmax(proba_pred_train_audio, axis=1) # (2850,)\n",
        "\n",
        "# Validation\n",
        "proba_pred_val_img = model_img.predict(x_val_img)\n",
        "proba_pred_val_audio = model_audio.predict(x_val_audio)\n",
        "pred_val_img = np.argmax(proba_pred_val_img , axis=1) \n",
        "pred_val_audio = np.argmax(proba_pred_val_audio, axis=1) \n",
        "\n",
        "# Testing\n",
        "proba_pred_test_img = model_img.predict(x_test_img)\n",
        "proba_pred_test_audio = model_audio.predict(x_test_audio)\n",
        "pred_test_img = np.argmax(proba_pred_test_img, axis=1) \n",
        "pred_test_audio = np.argmax(proba_pred_test_audio, axis=1) "
      ],
      "metadata": {
        "id": "GFYxqXXlezhL"
      },
      "execution_count": 19,
      "outputs": []
    },
    {
      "cell_type": "code",
      "source": [
        "# Training accuracy \n",
        "train_acc_img = np.sum(pred_train_img==y_train_fuse)/len(pred_train_img)*100\n",
        "train_acc_audio = np.sum(pred_train_audio==y_train_fuse)/len(pred_train_audio)*100\n",
        "print('Train: audio accuracy {} and image accuracy {}'.format(train_acc_audio, train_acc_img))\n",
        "\n",
        "# Validation accuracy \n",
        "val_acc_img = np.sum(pred_val_img==y_val_fuse)/len(pred_val_img)*100\n",
        "val_acc_audio = np.sum(pred_val_audio==y_val_fuse)/len(pred_val_audio)*100\n",
        "print('Valid: audio accuracy {} and image accuracy {}'.format(val_acc_audio, val_acc_img))\n",
        "\n",
        "# Testing accuracy \n",
        "test_acc_img = np.sum(pred_test_img==y_test_fuse)/len(pred_test_img)*100\n",
        "test_acc_audio = np.sum(pred_test_audio==y_test_fuse)/len(pred_test_audio)*100\n",
        "print('Test : audio accuracy {} and image accuracy {}'.format(test_acc_audio, test_acc_img))"
      ],
      "metadata": {
        "colab": {
          "base_uri": "https://localhost:8080/"
        },
        "id": "VgRlzpMtephR",
        "outputId": "c02d33c3-1e23-4f72-f803-f0565f50fb95"
      },
      "execution_count": 20,
      "outputs": [
        {
          "output_type": "stream",
          "name": "stdout",
          "text": [
            "Train: audio accuracy 60.70175438596491 and image accuracy 94.56140350877193\n",
            "Valid: audio accuracy 45.473684210526315 and image accuracy 81.89473684210526\n",
            "Test : audio accuracy 47.89473684210526 and image accuracy 81.47368421052632\n"
          ]
        }
      ]
    },
    {
      "cell_type": "code",
      "source": [
        "print('The audio and image predictors agree to {} on the training set'.format(np.sum(pred_train_img==pred_train_audio)/len(pred_train_audio)*100))\n",
        "print('The audio and image predictors agree to {} on the validation set'.format(np.sum(pred_val_img==pred_val_audio)/len(pred_val_audio)*100))\n",
        "print('The audio and image predictors agree to {} on the test set'.format(np.sum(pred_test_img==pred_test_audio)/len(pred_test_audio)*100))"
      ],
      "metadata": {
        "colab": {
          "base_uri": "https://localhost:8080/"
        },
        "id": "Kg4gfjOwespw",
        "outputId": "7df08a0b-1530-4d19-c3b0-8f99aa45b7ed"
      },
      "execution_count": 21,
      "outputs": [
        {
          "output_type": "stream",
          "name": "stdout",
          "text": [
            "The audio and image predictors agree to 58.73684210526315 on the training set\n",
            "The audio and image predictors agree to 41.473684210526315 on the validation set\n",
            "The audio and image predictors agree to 44.73684210526316 on the test set\n"
          ]
        }
      ]
    },
    {
      "cell_type": "markdown",
      "source": [
        "The probability predictions for each label are summed and the label with the majority vote is predicted"
      ],
      "metadata": {
        "id": "4Mar3JIGezfc"
      }
    },
    {
      "cell_type": "code",
      "source": [
        "# Training \n",
        "ensemble_pred_train = np.argmax(proba_pred_train_img + proba_pred_train_audio, axis = 1)\n",
        "print('Train: ensemble model accuracy {}'.format(np.sum(ensemble_pred_train==y_train_fuse)/len(ensemble_pred_train)*100))\n",
        "\n",
        "# Validation\n",
        "ensemble_pred_val = np.argmax(proba_pred_val_img + proba_pred_val_audio, axis = 1)\n",
        "print('Valid: ensemble model accuracy {}'.format(np.sum(ensemble_pred_val==y_val_fuse)/len(ensemble_pred_val)*100))\n",
        "\n",
        "# Testing\n",
        "ensemble_pred_test = np.argmax(proba_pred_test_img + proba_pred_test_audio, axis = 1)\n",
        "print('Test : ensemble model accuracy {}'.format(np.sum(ensemble_pred_test==y_test_fuse)/len(ensemble_pred_test)*100))"
      ],
      "metadata": {
        "colab": {
          "base_uri": "https://localhost:8080/"
        },
        "id": "wDzogCcEewLf",
        "outputId": "3c52a4a7-d2db-4667-8bba-972e0f883c30"
      },
      "execution_count": 22,
      "outputs": [
        {
          "output_type": "stream",
          "name": "stdout",
          "text": [
            "Train: ensemble model accuracy 95.75438596491227\n",
            "Valid: ensemble model accuracy 86.8421052631579\n",
            "Test : ensemble model accuracy 88.21052631578948\n"
          ]
        }
      ]
    }
  ]
}