{
  "cells": [
    {
      "attachments": {},
      "cell_type": "markdown",
      "metadata": {
        "id": "aoQtCATGVwmW"
      },
      "source": [
        "# Classification using a pretrained VGG on ImageNet\n"
      ]
    },
    {
      "cell_type": "code",
      "execution_count": null,
      "metadata": {
        "colab": {
          "base_uri": "https://localhost:8080/"
        },
        "id": "ovK3NgDfVyfl",
        "outputId": "8fc54064-7c2a-4654-e6cb-81de42c0c76c",
        "vscode": {
          "languageId": "python"
        }
      },
      "outputs": [
        {
          "name": "stdout",
          "output_type": "stream",
          "text": [
            "Mounted at /content/drive/\n",
            "/content/drive/.shortcut-targets-by-id/1K5OFKaoitJ_c6tsV6UYFW_Ts0E8dqdld/DLOI_Project\n"
          ]
        }
      ],
      "source": [
        "import glob\n",
        "import imageio\n",
        "import matplotlib.pyplot as plt\n",
        "import numpy as np\n",
        "import os\n",
        "import PIL\n",
        "from tensorflow import keras\n",
        "from tensorflow.keras import layers\n",
        "import time\n",
        "import tensorflow as tf\n",
        "import librosa, librosa.display\n",
        "\n",
        "\n",
        "from tensorflow.keras.models import Model\n",
        "from tensorflow.keras.layers import Input, Activation, Reshape, Conv2DTranspose, Dropout\n",
        "from tensorflow.keras.layers import Reshape, MaxPooling2D, Softmax\n",
        "from tensorflow.keras.layers import Dense, Dropout, Flatten, Conv2D, BatchNormalization, LeakyReLU\n",
        "from tensorflow.keras.optimizers import SGD\n",
        "\n",
        "from IPython import display\n",
        "import random\n",
        "from google.colab import drive\n",
        "\n",
        "\n",
        "drive.mount('/content/drive/')\n",
        "%cd 'drive/MyDrive/DLOI_Project'"
      ]
    },
    {
      "attachments": {},
      "cell_type": "markdown",
      "metadata": {
        "id": "ahudAL4ZQzAb"
      },
      "source": [
        "## Dataset"
      ]
    },
    {
      "attachments": {},
      "cell_type": "markdown",
      "metadata": {},
      "source": [
        "!! Based and Trained on a subset of VGGVox1 that is not available anymore !!"
      ]
    },
    {
      "cell_type": "code",
      "execution_count": null,
      "metadata": {
        "vscode": {
          "languageId": "python"
        }
      },
      "outputs": [],
      "source": [
        "# Download dataset\n",
        "!gdown 1-2_584NonvhhTgTEO0VBZrfooKxQujnT\n",
        "from scipy.sparse import load_npz\n",
        "data = load_npz('/content/drive/MyDrive/DLOI_Project/audVisIdn.npz')"
      ]
    },
    {
      "attachments": {},
      "cell_type": "markdown",
      "metadata": {},
      "source": [
        "### Loading ground truth, pictures of speaker and the audio recordings"
      ]
    },
    {
      "cell_type": "code",
      "execution_count": null,
      "metadata": {
        "colab": {
          "base_uri": "https://localhost:8080/"
        },
        "id": "Na30llz-WJwk",
        "outputId": "35c98480-bf6a-42a2-98dd-9caad723d9e6",
        "vscode": {
          "languageId": "python"
        }
      },
      "outputs": [
        {
          "name": "stdout",
          "output_type": "stream",
          "text": [
            "Person :\n",
            "(950,)\n",
            "(2850,)\n",
            "(950,)\n",
            "Audio :\n",
            "(950, 56000)\n",
            "(2850, 56000)\n",
            "(950, 56000)\n",
            "Frame :\n",
            "(950, 224, 224, 3)\n",
            "(2850, 224, 224, 3)\n",
            "(950, 224, 224, 3)\n"
          ]
        }
      ],
      "source": [
        "path_person_test='dataset/person_test.npy'\n",
        "path_person_train='dataset/person_train.npy'\n",
        "path_person_val='dataset/person_val.npy'\n",
        "\n",
        "\n",
        "path_audioTrs_test='dataset/audioTrs_test.npy'\n",
        "path_audioTrs_train='dataset/audioTrs_train.npy'\n",
        "path_audioTrs_val='dataset/audioTrs_val.npy'\n",
        "\n",
        "path_imgFrames_test='dataset/imgFrames_test.npy'\n",
        "path_imgFrames_train='dataset/imgFrames_train.npy'\n",
        "path_imgFrames_val='dataset/imgFrames_val.npy'\n",
        "\n",
        "\n",
        "person_test = np.load(path_person_test, mmap_mode='r')\n",
        "person_train = np.load(path_person_train, mmap_mode='r')\n",
        "person_val = np.load(path_person_val, mmap_mode='r')\n",
        "\n",
        "audioTrs_test = np.load(path_audioTrs_test, mmap_mode='r')\n",
        "audioTrs_train = np.load(path_audioTrs_train, mmap_mode='r')\n",
        "audioTrs_val = np.load(path_audioTrs_val, mmap_mode='r')\n",
        "\n",
        "imgFrames_test = np.load(path_imgFrames_test, mmap_mode='r')\n",
        "imgFrames_train = np.load(path_imgFrames_train, mmap_mode='r')\n",
        "imgFrames_val = np.load(path_imgFrames_val, mmap_mode='r')\n",
        "\n",
        "\n",
        "print('Person :')\n",
        "print(np.shape(person_test)) \n",
        "print(np.shape(person_train)) \n",
        "print(np.shape(person_val)) \n",
        "\n",
        "print('Audio :')\n",
        "print(np.shape(audioTrs_test)) \n",
        "print(np.shape(audioTrs_train)) \n",
        "print(np.shape(audioTrs_val)) \n",
        "\n",
        "print('Frame :')\n",
        "print(np.shape(imgFrames_test)) \n",
        "print(np.shape(imgFrames_train)) \n",
        "print(np.shape(imgFrames_val)) \n",
        "\n",
        "nb_img_train, input_size, input_size, nb_channel = np.shape(imgFrames_train)\n",
        "\n",
        "\n",
        "download_audio_images = True\n",
        "\n",
        "if download_audio_images:\n",
        "  S_DB_val_path='audio/AudioImages_Val.npy'\n",
        "  S_DB_path='audio/AudioImages_Train.npy'\n",
        "  S_DB_test_path='audio/AudioImages_Test.npy'\n",
        "\n",
        "  S_DB_val = abs(np.load(S_DB_val_path, mmap_mode='r'))\n",
        "  S_DB_test = abs(np.load(S_DB_test_path, mmap_mode='r'))\n",
        "  S_DB = abs(np.load(S_DB_path, mmap_mode='r'))"
      ]
    },
    {
      "attachments": {},
      "cell_type": "markdown",
      "metadata": {},
      "source": [
        "### Change the GT to categorical labels and create one-hot encoding"
      ]
    },
    {
      "cell_type": "code",
      "execution_count": null,
      "metadata": {
        "colab": {
          "base_uri": "https://localhost:8080/"
        },
        "id": "d_T8OqClbU-z",
        "outputId": "e851083b-6052-4ba8-856d-c5c4ef52048e",
        "vscode": {
          "languageId": "python"
        }
      },
      "outputs": [
        {
          "name": "stdout",
          "output_type": "stream",
          "text": [
            "Person GT:\n",
            "(950,)\n",
            "(2850,)\n",
            "(950,)\n"
          ]
        }
      ],
      "source": [
        "# Normalization\n",
        "def NormalizeData(data):\n",
        "    return 2*((data - np.min(data)) / (np.max(data) - np.min(data)))-1\n",
        "\n",
        "def DenormalizeData(data):\n",
        "    return (256*((data+1)/2)).astype(int)\n",
        "\n",
        "GT = list(np.unique(person_train))\n",
        "new_id = [i for i in range(49)]\n",
        "id_dict = {}\n",
        "for k in range(len(GT)):\n",
        "  id_dict[GT[k]] = new_id[k]\n",
        "\n",
        "nb_class=49\n",
        "\n",
        "person_train_GT = []\n",
        "for i in range(person_train.shape[0]):\n",
        "  person_train_GT.append(id_dict[person_train[i]]) \n",
        "person_train_GT = np.stack(person_train_GT)\n",
        "output_train_class_onehot = tf.keras.utils.to_categorical(person_train_GT, nb_class)  # create one-hot encoded class\n",
        "\n",
        "person_val_GT = []\n",
        "for i in range(person_val.shape[0]):\n",
        "  person_val_GT.append(id_dict[person_val[i]]) \n",
        "person_val_GT = np.stack(person_val_GT)\n",
        "output_val_class_onehot = tf.keras.utils.to_categorical(person_val_GT, nb_class)  # create one-hot encoded class\n",
        "\n",
        "person_test_GT = []\n",
        "for i in range(person_test.shape[0]):\n",
        "  person_test_GT.append(id_dict[person_test[i]]) \n",
        "person_test_GT = np.stack(person_test_GT)\n",
        "output_test_class_onehot = tf.keras.utils.to_categorical(person_test_GT, nb_class)  # create one-hot encoded class\n",
        "   \n",
        "print('Person GT:')\n",
        "print(np.shape(person_test_GT)) \n",
        "print(np.shape(person_train_GT)) \n",
        "print(np.shape(person_val_GT)) \n"
      ]
    },
    {
      "attachments": {},
      "cell_type": "markdown",
      "metadata": {
        "id": "oi8KzCkD2VCX"
      },
      "source": [
        "## Processing of the audio file"
      ]
    },
    {
      "cell_type": "code",
      "execution_count": null,
      "metadata": {
        "colab": {
          "base_uri": "https://localhost:8080/"
        },
        "id": "Zld2QMNScjec",
        "outputId": "8a61d181-46ca-4a7b-fd9b-3167d7e74dbc",
        "vscode": {
          "languageId": "python"
        }
      },
      "outputs": [
        {
          "name": "stdout",
          "output_type": "stream",
          "text": [
            "Audio :\n",
            "(950, 56000)\n",
            "(2850, 56000)\n",
            "(950, 56000)\n"
          ]
        }
      ],
      "source": [
        "print('Audio :')\n",
        "print(np.shape(audioTrs_test)) \n",
        "print(np.shape(audioTrs_train)) \n",
        "print(np.shape(audioTrs_val)) \n"
      ]
    },
    {
      "attachments": {},
      "cell_type": "markdown",
      "metadata": {},
      "source": [
        "### Adds data augmentation by including a time-shift in the audio recodings"
      ]
    },
    {
      "cell_type": "code",
      "execution_count": null,
      "metadata": {
        "id": "z3mWtSt_tuBZ",
        "vscode": {
          "languageId": "python"
        }
      },
      "outputs": [],
      "source": [
        "def time_shift(aud, GT, shift_limit, nbr_augment):\n",
        "  rolled = []\n",
        "  rolled_GT = []\n",
        "  for k in range(aud.shape[0]):\n",
        "    rolled.append(aud[k])\n",
        "    rolled_GT.append(GT[k])\n",
        "    for i in range(nbr_augment):\n",
        "      shift_rnd = random.random()\n",
        "      if i == 0:\n",
        "        shift_rnd = - shift_rnd\n",
        "      rolled.append(np.roll(aud[k], shift=int(shift_rnd * shift_limit)))\n",
        "      rolled_GT.append(np.roll(GT[k], shift=int(shift_rnd * shift_limit)))\n",
        "    \n",
        "  rolled = np.stack(rolled)\n",
        "  rolled_GT = np.stack(rolled_GT)\n",
        "\n",
        "  rolled = rolled\n",
        "\n",
        "  return rolled, rolled_GT"
      ]
    },
    {
      "cell_type": "code",
      "execution_count": null,
      "metadata": {
        "id": "OTbUoAfztwBe",
        "vscode": {
          "languageId": "python"
        }
      },
      "outputs": [],
      "source": [
        "# Augment the audio files\n",
        "train_aug,train_aug_GT = time_shift(audioTrs_train[:],person_train_GT[:] , 2000, 2)"
      ]
    },
    {
      "cell_type": "code",
      "execution_count": null,
      "metadata": {
        "id": "nLKbhThxb0GL",
        "vscode": {
          "languageId": "python"
        }
      },
      "outputs": [],
      "source": [
        "# create one-hot encoded class\n",
        "output_train_class_onehot_aug = tf.keras.utils.to_categorical(train_aug_GT, nb_class)"
      ]
    },
    {
      "cell_type": "code",
      "execution_count": null,
      "metadata": {
        "colab": {
          "base_uri": "https://localhost:8080/",
          "height": 549
        },
        "id": "Kb-NzRxUwsUn",
        "outputId": "2d8c149f-ac97-4f66-98c8-b2b0354bfae8",
        "vscode": {
          "languageId": "python"
        }
      },
      "outputs": [
        {
          "name": "stdout",
          "output_type": "stream",
          "text": [
            "Initial audio shape\n"
          ]
        },
        {
          "data": {
            "image/png": "[encoded data removed]",
            "text/plain": [
              "<Figure size 432x288 with 1 Axes>"
            ]
          },
          "metadata": {
            "needs_background": "light"
          },
          "output_type": "display_data"
        },
        {
          "name": "stdout",
          "output_type": "stream",
          "text": [
            "After augmentation\n"
          ]
        },
        {
          "data": {
            "image/png": "[encoded data removed]",
            "text/plain": [
              "<Figure size 432x288 with 1 Axes>"
            ]
          },
          "metadata": {
            "needs_background": "light"
          },
          "output_type": "display_data"
        }
      ],
      "source": [
        "print(\"Initial audio shape\")\n",
        "plt.figure()\n",
        "plt.plot(audioTrs_train[3])\n",
        "plt.show()\n",
        "\n",
        "print(\"After augmentation\")\n",
        "plt.figure()\n",
        "plt.plot(train_aug[3])\n",
        "plt.plot(train_aug[4], 'r')\n",
        "plt.plot(train_aug[5], 'purple')\n",
        "plt.show()\n"
      ]
    },
    {
      "attachments": {},
      "cell_type": "markdown",
      "metadata": {},
      "source": [
        "### Transformation to spectrogram to process the audio files as images"
      ]
    },
    {
      "cell_type": "code",
      "execution_count": null,
      "metadata": {
        "id": "7W1xAfN1IQou",
        "vscode": {
          "languageId": "python"
        }
      },
      "outputs": [],
      "source": [
        "SPEC = True"
      ]
    },
    {
      "cell_type": "code",
      "execution_count": null,
      "metadata": {
        "colab": {
          "base_uri": "https://localhost:8080/",
          "height": 549
        },
        "id": "sYp8g_sGbCSF",
        "outputId": "817d7fee-6215-49c5-b05c-1563198dd3e3",
        "vscode": {
          "languageId": "python"
        }
      },
      "outputs": [
        {
          "data": {
            "image/png": "[encoded data removed]",
            "text/plain": [
              "<Figure size 432x288 with 2 Axes>"
            ]
          },
          "metadata": {
            "needs_background": "light"
          },
          "output_type": "display_data"
        },
        {
          "data": {
            "image/png": "[encoded data removed]",
            "text/plain": [
              "<Figure size 432x288 with 2 Axes>"
            ]
          },
          "metadata": {
            "needs_background": "light"
          },
          "output_type": "display_data"
        }
      ],
      "source": [
        "if not download_audio_images and SPEC:\n",
        "  sr = 16000\n",
        "\n",
        "  #training \n",
        "  S_DB = []\n",
        "  for i in range(train_aug.shape[0]):\n",
        "    S = librosa.feature.melspectrogram(train_aug[i], sr=sr, n_fft=2048, hop_length=512)\n",
        "    S_DB.append(np.stack([librosa.power_to_db(S, ref=np.max),librosa.power_to_db(S, ref=np.max),librosa.power_to_db(S, ref=np.max)], axis=2))\n",
        "\n",
        "  S_DB = np.stack(S_DB, axis = 0)\n",
        "    \n",
        "  librosa.display.specshow(S_DB[2,:,:,0], sr=sr, x_axis='time', y_axis='mel')\n",
        "  plt.colorbar(format='%+2.0f dB')\n",
        "\n",
        "  # validation\n",
        "  S_DB_val = []\n",
        "  for i in range(audioTrs_val.shape[0]):\n",
        "    S = librosa.feature.melspectrogram(audioTrs_val[i], sr=sr, n_fft=2048, hop_length=512)\n",
        "    S_DB_val.append(np.stack([librosa.power_to_db(S, ref=np.max),librosa.power_to_db(S, ref=np.max),librosa.power_to_db(S, ref=np.max)], axis=2))\n",
        "\n",
        "  S_DB_val = np.stack(S_DB_val, axis = 0)\n",
        "\n",
        "  plt.figure()\n",
        "  librosa.display.specshow(S_DB_val[2,:,:,0], sr=sr, x_axis='time', y_axis='mel')\n",
        "  plt.colorbar(format='%+2.0f dB')\n",
        "\n",
        "  S_DB_test = []\n",
        "  for i in range(audioTrs_test.shape[0]):\n",
        "    S = librosa.feature.melspectrogram(audioTrs_test[i], sr=sr, n_fft=2048, hop_length=512)\n",
        "    S_DB_test.append(np.stack([librosa.power_to_db(S, ref=np.max),librosa.power_to_db(S, ref=np.max),librosa.power_to_db(S, ref=np.max)], axis=2))\n",
        "\n",
        "  S_DB_test = np.stack(S_DB_test, axis = 0)\n"
      ]
    },
    {
      "attachments": {},
      "cell_type": "markdown",
      "metadata": {
        "id": "pblWu3kWfmAV"
      },
      "source": [
        "Test with MFCC, not investigate as it does not seems concluant"
      ]
    },
    {
      "cell_type": "code",
      "execution_count": null,
      "metadata": {
        "id": "QzKzuGr9EadG",
        "vscode": {
          "languageId": "python"
        }
      },
      "outputs": [],
      "source": [
        "if not download_audio_images and not SPEC:\n",
        "  sr = 16000\n",
        "\n",
        "  #training \n",
        "  S_DB = []\n",
        "  for i in range(train_aug.shape[0]):\n",
        "    S = librosa.feature.mfcc(train_aug[i], sr=sr)\n",
        "    S_DB.append(np.stack([S, S, S], axis=2))\n",
        "\n",
        "  S_DB = np.stack(S_DB, axis = 0)\n",
        "    \n",
        "  librosa.display.specshow(S_DB[2,:,:,0], sr=sr, x_axis='time', y_axis='mel')\n",
        "  plt.colorbar(format='%+2.0f dB')\n",
        "\n",
        "  # validation\n",
        "  S_DB_val = []\n",
        "  for i in range(audioTrs_val.shape[0]):\n",
        "    S = librosa.feature.mfcc(audioTrs_val[i], sr=sr)\n",
        "    S_DB_val.append(np.stack([S, S, S], axis=2))\n",
        "\n",
        "  S_DB_val = np.stack(S_DB_val, axis = 0)\n",
        "\n",
        "  plt.figure()\n",
        "  librosa.display.specshow(S_DB_val[2,:,:,0], sr=sr, x_axis='time', y_axis='mel')\n",
        "  plt.colorbar(format='%+2.0f dB')\n",
        "\n",
        "  S_DB_test = []\n",
        "  for i in range(audioTrs_test.shape[0]):\n",
        "    S = librosa.feature.mfcc(audioTrs_test[i], sr=sr)\n",
        "    S_DB_test.append(np.stack([S, S, S], axis=2))\n",
        "\n",
        "  S_DB_test = np.stack(S_DB_test, axis = 0)\n"
      ]
    },
    {
      "cell_type": "code",
      "execution_count": null,
      "metadata": {
        "id": "Sr9vZ84LHB8f",
        "vscode": {
          "languageId": "python"
        }
      },
      "outputs": [],
      "source": [
        "if not SPEC and not download_audio_images:\n",
        "  ones_train = np.ones(S_DB.shape)*(abs(np.min(S_DB)))\n",
        "  ones_test = np.ones(S_DB_test.shape)*(abs(np.min(S_DB)))\n",
        "  ones_val = np.ones(S_DB_val.shape)*(abs(np.min(S_DB)))\n",
        "  S_DB = S_DB + ones_train\n",
        "  S_DB_val = S_DB_val + ones_val\n",
        "  S_DB_test = S_DB_test + ones_test"
      ]
    },
    {
      "attachments": {},
      "cell_type": "markdown",
      "metadata": {
        "id": "3W_c0KwDftoE"
      },
      "source": [
        "Save the images on drive"
      ]
    },
    {
      "cell_type": "code",
      "execution_count": null,
      "metadata": {
        "colab": {
          "base_uri": "https://localhost:8080/"
        },
        "id": "KreOi3cu0gNX",
        "outputId": "b5f9db3e-edb2-4c2b-f361-38e1417b2ca2",
        "vscode": {
          "languageId": "python"
        }
      },
      "outputs": [
        {
          "name": "stdout",
          "output_type": "stream",
          "text": [
            "/content/drive/.shortcut-targets-by-id/1K5OFKaoitJ_c6tsV6UYFW_Ts0E8dqdld/DLOI_Project/audio\n",
            "/content/drive/.shortcut-targets-by-id/1K5OFKaoitJ_c6tsV6UYFW_Ts0E8dqdld/DLOI_Project\n"
          ]
        }
      ],
      "source": [
        "to_save = not download_audio_images\n",
        "if to_save and SPEC: \n",
        "  np.save('AudioImages_Train', S_DB)\n",
        "  np.save('AudioImages_Val', S_DB_val)\n",
        "  np.save('AudioImages_Test', S_DB_test)\n",
        "elif to_save and not SPEC: \n",
        "  %cd audio\n",
        "  np.save('AudioImages_Train_MFFC', S_DB)\n",
        "  np.save('AudioImages_Val_MFFC', S_DB_val)\n",
        "  np.save('AudioImages_Test_MFFC', S_DB_test)\n",
        "  %cd ..\n"
      ]
    },
    {
      "attachments": {},
      "cell_type": "markdown",
      "metadata": {
        "id": "UbCjUDVUuF3d"
      },
      "source": [
        "# VGG pretrained on imagenet"
      ]
    },
    {
      "cell_type": "code",
      "execution_count": null,
      "metadata": {
        "id": "8U85toMkuJD-",
        "vscode": {
          "languageId": "python"
        }
      },
      "outputs": [],
      "source": [
        "import os\n",
        "from keras.models import Model\n",
        "from keras.applications.vgg16 import VGG16, preprocess_input\n",
        "from keras.applications.vgg19 import VGG19\n",
        "from keras.preprocessing.image import ImageDataGenerator\n",
        "from keras.callbacks import ModelCheckpoint, EarlyStopping\n",
        "from keras.layers import Dense, Dropout, Flatten\n",
        "from pathlib import Path\n",
        "import numpy as np"
      ]
    },
    {
      "attachments": {},
      "cell_type": "markdown",
      "metadata": {
        "id": "QLmazNj1f0ad"
      },
      "source": [
        "### VGG16 model definition"
      ]
    },
    {
      "cell_type": "code",
      "execution_count": null,
      "metadata": {
        "id": "b_9zV-NouN6R",
        "vscode": {
          "languageId": "python"
        }
      },
      "outputs": [],
      "source": [
        "def create_model(input_shape, n_classes, optimizer='rmsprop', fine_tune=0):\n",
        "    \"\"\"\n",
        "    Compiles a model integrated with VGG16 pretrained layers\n",
        "    \n",
        "    input_shape: tuple - the shape of input images (width, height, channels)\n",
        "    n_classes: int - number of classes for the output layer\n",
        "    optimizer: string - instantiated optimizer to use for training. Defaults to 'RMSProp'\n",
        "    fine_tune: int - The number of pre-trained layers to unfreeze.\n",
        "                If set to 0, all pretrained layers will freeze during training\n",
        "    \"\"\"\n",
        "    \n",
        "    # Pretrained convolutional layers are loaded using the Imagenet weights.\n",
        "    # Include_top is set to False, in order to exclude the model's fully-connected layers.\n",
        "    conv_base = VGG16(include_top=False,\n",
        "                     weights='imagenet', \n",
        "                     input_shape=input_shape)\n",
        "    \n",
        "    # Defines how many layers to freeze during training.\n",
        "    # Layers in the convolutional base are switched from trainable to non-trainable\n",
        "    # depending on the size of the fine-tuning parameter.\n",
        "    if fine_tune > 0:\n",
        "        for layer in conv_base.layers[:-fine_tune]:\n",
        "            layer.trainable = False\n",
        "    else:\n",
        "        for layer in conv_base.layers:\n",
        "            layer.trainable = False\n",
        "\n",
        "    # Create a new 'top' of the model (i.e. fully-connected layers).\n",
        "    # This is 'bootstrapping' a new top_model onto the pretrained layers.\n",
        "    top_model = conv_base.output\n",
        "    top_model = Flatten(name=\"flatten\")(top_model)\n",
        "    top_model = Dense(4096, activation='relu')(top_model)\n",
        "    top_model = Dense(1072, activation='relu')(top_model)\n",
        "    top_model = Dropout(0.2)(top_model)\n",
        "    output_layer = Dense(n_classes, activation='softmax')(top_model)\n",
        "    \n",
        "    # Group the convolutional base and new fully-connected layers into a Model object.\n",
        "    model = Model(inputs=conv_base.input, outputs=output_layer)\n",
        "\n",
        "    # Compiles the model for training.\n",
        "    model.compile(optimizer=optimizer, \n",
        "                  loss='categorical_crossentropy',\n",
        "                  metrics=['accuracy'])\n",
        "    \n",
        "    return model"
      ]
    },
    {
      "attachments": {},
      "cell_type": "markdown",
      "metadata": {
        "id": "-tBVVYXPfyhY"
      },
      "source": [
        "## VGG19 model definition"
      ]
    },
    {
      "cell_type": "code",
      "execution_count": null,
      "metadata": {
        "id": "N50MM_6X19IZ",
        "vscode": {
          "languageId": "python"
        }
      },
      "outputs": [],
      "source": [
        "def create_model_deeper(input_shape, n_classes, optimizer='rmsprop', fine_tune=0):\n",
        "    \"\"\"\n",
        "    Compiles a model integrated with VGG16 pretrained layers\n",
        "    \n",
        "    input_shape: tuple - the shape of input images (width, height, channels)\n",
        "    n_classes: int - number of classes for the output layer\n",
        "    optimizer: string - instantiated optimizer to use for training. Defaults to 'RMSProp'\n",
        "    fine_tune: int - The number of pre-trained layers to unfreeze.\n",
        "                If set to 0, all pretrained layers will freeze during training\n",
        "    \"\"\"\n",
        "    \n",
        "    # Pretrained convolutional layers are loaded using the Imagenet weights.\n",
        "    # Include_top is set to False, in order to exclude the model's fully-connected layers.\n",
        "    conv_base = VGG19(include_top=False,\n",
        "                     weights='imagenet', \n",
        "                     input_shape=input_shape)\n",
        "    \n",
        "    # Defines how many layers to freeze during training.\n",
        "    # Layers in the convolutional base are switched from trainable to non-trainable\n",
        "    # depending on the size of the fine-tuning parameter.\n",
        "    if fine_tune > 0:\n",
        "        for layer in conv_base.layers[:-fine_tune]:\n",
        "            layer.trainable = False\n",
        "    else:\n",
        "        for layer in conv_base.layers:\n",
        "            layer.trainable = False\n",
        "\n",
        "    # Create a new 'top' of the model (i.e. fully-connected layers).\n",
        "    # This is 'bootstrapping' a new top_model onto the pretrained layers.\n",
        "    top_model = conv_base.output\n",
        "    top_model = Flatten(name=\"flatten\")(top_model)\n",
        "    top_model = Dense(4096, activation='relu')(top_model)\n",
        "    top_model = Dense(1072, activation='relu')(top_model)\n",
        "    top_model = Dropout(0.3)(top_model)\n",
        "    output_layer = Dense(n_classes, activation='softmax')(top_model)\n",
        "    \n",
        "    # Group the convolutional base and new fully-connected layers into a Model object.\n",
        "    model = Model(inputs=conv_base.input, outputs=output_layer)\n",
        "\n",
        "    # Compiles the model for training.\n",
        "    model.compile(optimizer=optimizer, \n",
        "                  loss='categorical_crossentropy',\n",
        "                  metrics=['accuracy'])\n",
        "    \n",
        "    return model"
      ]
    },
    {
      "attachments": {},
      "cell_type": "markdown",
      "metadata": {},
      "source": [
        "## Training parameters definition"
      ]
    },
    {
      "cell_type": "code",
      "execution_count": null,
      "metadata": {
        "id": "Z0B7mZaNukeG",
        "vscode": {
          "languageId": "python"
        }
      },
      "outputs": [],
      "source": [
        "input_shape = (S_DB_val[0].shape[0],S_DB_val[0].shape[1],S_DB_val[0].shape[2])\n",
        "\n",
        "\n",
        "opti = tf.keras.optimizers.Adam(learning_rate=0.0001)\n",
        "n_classes=49\n",
        "BATCH_SIZE = 64\n",
        "n_epochs = 15\n",
        "nbr_ft_layer = 2\n",
        "batch_shuffle = True"
      ]
    },
    {
      "attachments": {},
      "cell_type": "markdown",
      "metadata": {
        "id": "N3KslDc5ps0p"
      },
      "source": [
        "## VGG16 Model construction"
      ]
    },
    {
      "cell_type": "code",
      "execution_count": null,
      "metadata": {
        "id": "rBwNJKdhukWC",
        "vscode": {
          "languageId": "python"
        }
      },
      "outputs": [],
      "source": [
        "vgg_model_ft = create_model(input_shape, n_classes,opti, fine_tune=nbr_ft_layer)\n"
      ]
    },
    {
      "cell_type": "code",
      "execution_count": null,
      "metadata": {
        "colab": {
          "base_uri": "https://localhost:8080/"
        },
        "id": "ryn0IjbGCU9H",
        "outputId": "befb0a40-ca5f-49e6-9d8b-02cf03a8f5c1",
        "vscode": {
          "languageId": "python"
        }
      },
      "outputs": [
        {
          "name": "stdout",
          "output_type": "stream",
          "text": [
            "Model: \"model\"\n",
            "_________________________________________________________________\n",
            " Layer (type)                Output Shape              Param #   \n",
            "=================================================================\n",
            " input_1 (InputLayer)        [(None, 128, 110, 3)]     0         \n",
            "                                                                 \n",
            " block1_conv1 (Conv2D)       (None, 128, 110, 64)      1792      \n",
            "                                                                 \n",
            " block1_conv2 (Conv2D)       (None, 128, 110, 64)      36928     \n",
            "                                                                 \n",
            " block1_pool (MaxPooling2D)  (None, 64, 55, 64)        0         \n",
            "                                                                 \n",
            " block2_conv1 (Conv2D)       (None, 64, 55, 128)       73856     \n",
            "                                                                 \n",
            " block2_conv2 (Conv2D)       (None, 64, 55, 128)       147584    \n",
            "                                                                 \n",
            " block2_pool (MaxPooling2D)  (None, 32, 27, 128)       0         \n",
            "                                                                 \n",
            " block3_conv1 (Conv2D)       (None, 32, 27, 256)       295168    \n",
            "                                                                 \n",
            " block3_conv2 (Conv2D)       (None, 32, 27, 256)       590080    \n",
            "                                                                 \n",
            " block3_conv3 (Conv2D)       (None, 32, 27, 256)       590080    \n",
            "                                                                 \n",
            " block3_pool (MaxPooling2D)  (None, 16, 13, 256)       0         \n",
            "                                                                 \n",
            " block4_conv1 (Conv2D)       (None, 16, 13, 512)       1180160   \n",
            "                                                                 \n",
            " block4_conv2 (Conv2D)       (None, 16, 13, 512)       2359808   \n",
            "                                                                 \n",
            " block4_conv3 (Conv2D)       (None, 16, 13, 512)       2359808   \n",
            "                                                                 \n",
            " block4_pool (MaxPooling2D)  (None, 8, 6, 512)         0         \n",
            "                                                                 \n",
            " block5_conv1 (Conv2D)       (None, 8, 6, 512)         2359808   \n",
            "                                                                 \n",
            " block5_conv2 (Conv2D)       (None, 8, 6, 512)         2359808   \n",
            "                                                                 \n",
            " block5_conv3 (Conv2D)       (None, 8, 6, 512)         2359808   \n",
            "                                                                 \n",
            " block5_pool (MaxPooling2D)  (None, 4, 3, 512)         0         \n",
            "                                                                 \n",
            " flatten (Flatten)           (None, 6144)              0         \n",
            "                                                                 \n",
            " dense (Dense)               (None, 4096)              25169920  \n",
            "                                                                 \n",
            " dense_1 (Dense)             (None, 1072)              4391984   \n",
            "                                                                 \n",
            " dropout (Dropout)           (None, 1072)              0         \n",
            "                                                                 \n",
            " dense_2 (Dense)             (None, 49)                52577     \n",
            "                                                                 \n",
            "=================================================================\n",
            "Total params: 44,329,169\n",
            "Trainable params: 31,974,289\n",
            "Non-trainable params: 12,354,880\n",
            "_________________________________________________________________\n"
          ]
        }
      ],
      "source": [
        "vgg_model_ft.summary()"
      ]
    },
    {
      "attachments": {},
      "cell_type": "markdown",
      "metadata": {},
      "source": [
        "## VGG16 Training using the augmented audio melspectrogram"
      ]
    },
    {
      "cell_type": "code",
      "execution_count": null,
      "metadata": {
        "id": "e4YzxbD0uU47",
        "vscode": {
          "languageId": "python"
        }
      },
      "outputs": [],
      "source": [
        "output_train_class_onehot_aug = tf.keras.utils.to_categorical(train_aug_GT, nb_class)  # create one-hot encoded class\n"
      ]
    },
    {
      "cell_type": "code",
      "execution_count": null,
      "metadata": {
        "colab": {
          "base_uri": "https://localhost:8080/"
        },
        "id": "oiRZ4GRVuU1V",
        "outputId": "748c3824-0f81-4f80-8204-1e1ec9c5c394",
        "vscode": {
          "languageId": "python"
        }
      },
      "outputs": [
        {
          "name": "stdout",
          "output_type": "stream",
          "text": [
            "Epoch 1/15\n",
            "134/134 [==============================] - 16s 109ms/step - loss: 2.3647 - accuracy: 0.4256 - val_loss: 1.9767 - val_accuracy: 0.4632\n",
            "Epoch 2/15\n",
            "134/134 [==============================] - 14s 107ms/step - loss: 0.4323 - accuracy: 0.8752 - val_loss: 2.3321 - val_accuracy: 0.4989\n",
            "Epoch 3/15\n",
            "134/134 [==============================] - 14s 108ms/step - loss: 0.0678 - accuracy: 0.9854 - val_loss: 2.1306 - val_accuracy: 0.5526\n",
            "Epoch 4/15\n",
            "134/134 [==============================] - 15s 109ms/step - loss: 0.0191 - accuracy: 0.9972 - val_loss: 2.1515 - val_accuracy: 0.5653\n",
            "Epoch 5/15\n",
            "134/134 [==============================] - 15s 110ms/step - loss: 0.0070 - accuracy: 0.9996 - val_loss: 2.3204 - val_accuracy: 0.5547\n",
            "Epoch 6/15\n",
            "134/134 [==============================] - 15s 110ms/step - loss: 0.0034 - accuracy: 0.9999 - val_loss: 2.3048 - val_accuracy: 0.5674\n",
            "Epoch 7/15\n",
            "134/134 [==============================] - 15s 111ms/step - loss: 0.0017 - accuracy: 1.0000 - val_loss: 2.3623 - val_accuracy: 0.5747\n",
            "Epoch 8/15\n",
            "134/134 [==============================] - 15s 111ms/step - loss: 0.0041 - accuracy: 0.9991 - val_loss: 2.5051 - val_accuracy: 0.5284\n",
            "Epoch 9/15\n",
            "134/134 [==============================] - 15s 112ms/step - loss: 0.0119 - accuracy: 0.9975 - val_loss: 2.3686 - val_accuracy: 0.5663\n",
            "Epoch 10/15\n",
            "134/134 [==============================] - 15s 112ms/step - loss: 0.0068 - accuracy: 0.9979 - val_loss: 2.4530 - val_accuracy: 0.5379\n",
            "Epoch 11/15\n",
            "134/134 [==============================] - 15s 112ms/step - loss: 0.0072 - accuracy: 0.9986 - val_loss: 2.4357 - val_accuracy: 0.5600\n",
            "Epoch 12/15\n",
            "134/134 [==============================] - 15s 112ms/step - loss: 0.0018 - accuracy: 1.0000 - val_loss: 2.4510 - val_accuracy: 0.5747\n",
            "Epoch 13/15\n",
            "134/134 [==============================] - 15s 112ms/step - loss: 0.0011 - accuracy: 1.0000 - val_loss: 2.5397 - val_accuracy: 0.5642\n",
            "Epoch 14/15\n",
            "134/134 [==============================] - 15s 113ms/step - loss: 0.0013 - accuracy: 1.0000 - val_loss: 2.5125 - val_accuracy: 0.5737\n",
            "Epoch 15/15\n",
            "134/134 [==============================] - 15s 113ms/step - loss: 0.0066 - accuracy: 0.9984 - val_loss: 2.4742 - val_accuracy: 0.5474\n"
          ]
        }
      ],
      "source": [
        "vgg_history_MS = vgg_model_ft.fit(S_DB,\n",
        "                                output_train_class_onehot_aug,\n",
        "                                batch_size=BATCH_SIZE,\n",
        "                                epochs=n_epochs,\n",
        "                                shuffle = batch_shuffle,\n",
        "                                validation_data=(S_DB_val,output_val_class_onehot)) "
      ]
    },
    {
      "cell_type": "code",
      "execution_count": null,
      "metadata": {
        "id": "IjwjMWDLuUyq",
        "vscode": {
          "languageId": "python"
        }
      },
      "outputs": [],
      "source": [
        "%cd trained_models\n",
        "vgg_model_ft.save('MS_Model')\n",
        "%cd ..\n",
        "# to load back model: keras.models.load_model('MS_Model')"
      ]
    },
    {
      "attachments": {},
      "cell_type": "markdown",
      "metadata": {},
      "source": [
        "### Augmented audio file performances of VGG16"
      ]
    },
    {
      "cell_type": "code",
      "execution_count": null,
      "metadata": {
        "colab": {
          "base_uri": "https://localhost:8080/",
          "height": 573
        },
        "id": "P7qoUWEDuUu4",
        "outputId": "00d496af-664d-4a49-ca9c-9cedf5d96593",
        "vscode": {
          "languageId": "python"
        }
      },
      "outputs": [
        {
          "data": {
            "image/png": "[encoded data removed]",
            "text/plain": [
              "<Figure size 432x288 with 1 Axes>"
            ]
          },
          "metadata": {
            "needs_background": "light"
          },
          "output_type": "display_data"
        },
        {
          "data": {
            "image/png": "[encoded data removed]",
            "text/plain": [
              "<Figure size 432x288 with 1 Axes>"
            ]
          },
          "metadata": {
            "needs_background": "light"
          },
          "output_type": "display_data"
        }
      ],
      "source": [
        "# model loss\n",
        "loss='categorical_crossentropy'\n",
        "metrics=['accuracy']\n",
        "\n",
        "plt.plot(vgg_history_MS.history['loss'])\n",
        "plt.plot(vgg_history_MS.history['val_loss'])\n",
        "plt.title('Model loss : ' + loss)\n",
        "plt.ylabel('Loss')\n",
        "plt.xlabel('Epoch')\n",
        "plt.legend(['Training', 'Validation'], loc='best')\n",
        "plt.show()\n",
        "plt.close()\n",
        "\n",
        "# model accuracy metric\n",
        "\n",
        "plt.plot(np.array(vgg_history_MS.history[metrics[0]]))\n",
        "plt.plot(np.array(vgg_history_MS.history['val_' + metrics[0]]))\n",
        "plt.title('Model accuracy metric : ' + metrics[0])\n",
        "plt.ylabel('Accuracy metric')\n",
        "plt.xlabel('Epoch')\n",
        "plt.legend(['Training', 'Validation'], loc='best')\n",
        "plt.show()\n",
        "plt.close()"
      ]
    },
    {
      "cell_type": "code",
      "execution_count": null,
      "metadata": {
        "colab": {
          "base_uri": "https://localhost:8080/"
        },
        "id": "Pdr2qoCsuZIQ",
        "outputId": "133a729a-4808-4836-dbb9-d3480edeb4f6",
        "vscode": {
          "languageId": "python"
        }
      },
      "outputs": [
        {
          "name": "stdout",
          "output_type": "stream",
          "text": [
            "Accuracy on test set: 54.210526%\n"
          ]
        }
      ],
      "source": [
        "from keras.backend import argmax\n",
        "acc = 0\n",
        "for i in range(audioTrs_test.shape[0]):\n",
        "  output_predict = argmax(vgg_model_ft.predict(tf.expand_dims(S_DB_test[i], axis=0))).numpy()[0]\n",
        "  if output_predict == np.argmax(output_test_class_onehot[i]):\n",
        "    acc += 1\n",
        "acc /= audioTrs_test.shape[0]\n",
        "print(\"Accuracy on test set: {:3f}%\".format(acc*100))"
      ]
    },
    {
      "attachments": {},
      "cell_type": "markdown",
      "metadata": {
        "id": "NesN8GA1f5n8"
      },
      "source": [
        "## VGG19 Training using the augmented audio melspectrogram"
      ]
    },
    {
      "cell_type": "code",
      "execution_count": null,
      "metadata": {
        "id": "7N3neDc7n17c",
        "vscode": {
          "languageId": "python"
        }
      },
      "outputs": [],
      "source": [
        "vgg_model_deeper = create_model_deeper(input_shape, n_classes,opti, fine_tune=3)\n"
      ]
    },
    {
      "cell_type": "code",
      "execution_count": null,
      "metadata": {
        "colab": {
          "base_uri": "https://localhost:8080/"
        },
        "id": "FCSFufeWn6l9",
        "outputId": "fced8b2f-5344-49fe-9660-c5c1c8182a57",
        "vscode": {
          "languageId": "python"
        }
      },
      "outputs": [
        {
          "name": "stdout",
          "output_type": "stream",
          "text": [
            "Model: \"model_5\"\n",
            "_________________________________________________________________\n",
            " Layer (type)                Output Shape              Param #   \n",
            "=================================================================\n",
            " input_6 (InputLayer)        [(None, 128, 110, 3)]     0         \n",
            "                                                                 \n",
            " block1_conv1 (Conv2D)       (None, 128, 110, 64)      1792      \n",
            "                                                                 \n",
            " block1_conv2 (Conv2D)       (None, 128, 110, 64)      36928     \n",
            "                                                                 \n",
            " block1_pool (MaxPooling2D)  (None, 64, 55, 64)        0         \n",
            "                                                                 \n",
            " block2_conv1 (Conv2D)       (None, 64, 55, 128)       73856     \n",
            "                                                                 \n",
            " block2_conv2 (Conv2D)       (None, 64, 55, 128)       147584    \n",
            "                                                                 \n",
            " block2_pool (MaxPooling2D)  (None, 32, 27, 128)       0         \n",
            "                                                                 \n",
            " block3_conv1 (Conv2D)       (None, 32, 27, 256)       295168    \n",
            "                                                                 \n",
            " block3_conv2 (Conv2D)       (None, 32, 27, 256)       590080    \n",
            "                                                                 \n",
            " block3_conv3 (Conv2D)       (None, 32, 27, 256)       590080    \n",
            "                                                                 \n",
            " block3_conv4 (Conv2D)       (None, 32, 27, 256)       590080    \n",
            "                                                                 \n",
            " block3_pool (MaxPooling2D)  (None, 16, 13, 256)       0         \n",
            "                                                                 \n",
            " block4_conv1 (Conv2D)       (None, 16, 13, 512)       1180160   \n",
            "                                                                 \n",
            " block4_conv2 (Conv2D)       (None, 16, 13, 512)       2359808   \n",
            "                                                                 \n",
            " block4_conv3 (Conv2D)       (None, 16, 13, 512)       2359808   \n",
            "                                                                 \n",
            " block4_conv4 (Conv2D)       (None, 16, 13, 512)       2359808   \n",
            "                                                                 \n",
            " block4_pool (MaxPooling2D)  (None, 8, 6, 512)         0         \n",
            "                                                                 \n",
            " block5_conv1 (Conv2D)       (None, 8, 6, 512)         2359808   \n",
            "                                                                 \n",
            " block5_conv2 (Conv2D)       (None, 8, 6, 512)         2359808   \n",
            "                                                                 \n",
            " block5_conv3 (Conv2D)       (None, 8, 6, 512)         2359808   \n",
            "                                                                 \n",
            " block5_conv4 (Conv2D)       (None, 8, 6, 512)         2359808   \n",
            "                                                                 \n",
            " block5_pool (MaxPooling2D)  (None, 4, 3, 512)         0         \n",
            "                                                                 \n",
            " flatten (Flatten)           (None, 6144)              0         \n",
            "                                                                 \n",
            " dense_17 (Dense)            (None, 4096)              25169920  \n",
            "                                                                 \n",
            " dense_18 (Dense)            (None, 1072)              4391984   \n",
            "                                                                 \n",
            " dropout_7 (Dropout)         (None, 1072)              0         \n",
            "                                                                 \n",
            " dense_19 (Dense)            (None, 49)                52577     \n",
            "                                                                 \n",
            "=================================================================\n",
            "Total params: 49,638,865\n",
            "Trainable params: 31,974,289\n",
            "Non-trainable params: 17,664,576\n",
            "_________________________________________________________________\n"
          ]
        }
      ],
      "source": [
        "vgg_model_deeper.summary()"
      ]
    },
    {
      "cell_type": "code",
      "execution_count": null,
      "metadata": {
        "colab": {
          "base_uri": "https://localhost:8080/"
        },
        "id": "J8YQ-Sdcn9en",
        "outputId": "c616e39a-f65d-4c2a-c8e3-761048ed85c6",
        "vscode": {
          "languageId": "python"
        }
      },
      "outputs": [
        {
          "name": "stdout",
          "output_type": "stream",
          "text": [
            "Epoch 1/25\n",
            "134/134 [==============================] - 21s 144ms/step - loss: 3.6965 - accuracy: 0.0788 - val_loss: 3.5297 - val_accuracy: 0.0926\n",
            "Epoch 2/25\n",
            "134/134 [==============================] - 19s 143ms/step - loss: 3.3734 - accuracy: 0.0958 - val_loss: 3.3319 - val_accuracy: 0.1074\n",
            "Epoch 3/25\n",
            "134/134 [==============================] - 19s 144ms/step - loss: 3.2164 - accuracy: 0.1185 - val_loss: 3.2440 - val_accuracy: 0.1189\n",
            "Epoch 4/25\n",
            "134/134 [==============================] - 19s 140ms/step - loss: 3.0761 - accuracy: 0.1374 - val_loss: 3.1873 - val_accuracy: 0.1242\n",
            "Epoch 5/25\n",
            "134/134 [==============================] - 19s 139ms/step - loss: 2.9723 - accuracy: 0.1498 - val_loss: 3.1422 - val_accuracy: 0.1284\n",
            "Epoch 6/25\n",
            "134/134 [==============================] - 19s 140ms/step - loss: 2.8694 - accuracy: 0.1553 - val_loss: 3.1557 - val_accuracy: 0.1221\n",
            "Epoch 7/25\n",
            "134/134 [==============================] - 19s 141ms/step - loss: 2.7721 - accuracy: 0.1695 - val_loss: 3.1271 - val_accuracy: 0.1316\n",
            "Epoch 8/25\n",
            "134/134 [==============================] - 19s 141ms/step - loss: 2.7045 - accuracy: 0.1743 - val_loss: 3.1748 - val_accuracy: 0.1221\n",
            "Epoch 9/25\n",
            "134/134 [==============================] - 19s 140ms/step - loss: 2.6345 - accuracy: 0.1954 - val_loss: 3.2223 - val_accuracy: 0.1200\n",
            "Epoch 10/25\n",
            "134/134 [==============================] - 19s 140ms/step - loss: 2.5799 - accuracy: 0.1967 - val_loss: 3.2658 - val_accuracy: 0.1253\n",
            "Epoch 11/25\n",
            "134/134 [==============================] - 19s 140ms/step - loss: 2.5170 - accuracy: 0.2117 - val_loss: 3.3119 - val_accuracy: 0.1274\n",
            "Epoch 12/25\n",
            "134/134 [==============================] - 19s 140ms/step - loss: 2.4888 - accuracy: 0.2170 - val_loss: 3.3743 - val_accuracy: 0.1263\n",
            "Epoch 13/25\n",
            "134/134 [==============================] - 19s 141ms/step - loss: 2.4585 - accuracy: 0.2187 - val_loss: 3.4352 - val_accuracy: 0.1326\n",
            "Epoch 14/25\n",
            "134/134 [==============================] - 19s 141ms/step - loss: 2.4037 - accuracy: 0.2283 - val_loss: 3.5093 - val_accuracy: 0.1316\n",
            "Epoch 15/25\n",
            "134/134 [==============================] - 19s 141ms/step - loss: 2.3704 - accuracy: 0.2361 - val_loss: 3.5641 - val_accuracy: 0.1158\n",
            "Epoch 16/25\n",
            "134/134 [==============================] - 19s 140ms/step - loss: 2.3403 - accuracy: 0.2386 - val_loss: 3.7037 - val_accuracy: 0.1074\n",
            "Epoch 17/25\n",
            "134/134 [==============================] - 19s 140ms/step - loss: 2.3261 - accuracy: 0.2473 - val_loss: 3.7045 - val_accuracy: 0.1137\n",
            "Epoch 18/25\n",
            "134/134 [==============================] - 19s 140ms/step - loss: 2.2742 - accuracy: 0.2648 - val_loss: 3.7387 - val_accuracy: 0.1179\n",
            "Epoch 19/25\n",
            "134/134 [==============================] - 19s 140ms/step - loss: 2.2611 - accuracy: 0.2600 - val_loss: 3.8431 - val_accuracy: 0.1211\n",
            "Epoch 20/25\n",
            "134/134 [==============================] - 19s 140ms/step - loss: 2.2499 - accuracy: 0.2670 - val_loss: 3.9315 - val_accuracy: 0.1147\n",
            "Epoch 21/25\n",
            "134/134 [==============================] - 19s 141ms/step - loss: 2.2041 - accuracy: 0.2805 - val_loss: 3.9991 - val_accuracy: 0.1179\n",
            "Epoch 22/25\n",
            "134/134 [==============================] - 19s 140ms/step - loss: 2.1892 - accuracy: 0.2759 - val_loss: 3.9891 - val_accuracy: 0.1137\n",
            "Epoch 23/25\n",
            "134/134 [==============================] - 19s 140ms/step - loss: 2.1568 - accuracy: 0.2843 - val_loss: 4.1963 - val_accuracy: 0.1095\n",
            "Epoch 24/25\n",
            "134/134 [==============================] - 19s 141ms/step - loss: 2.1779 - accuracy: 0.2806 - val_loss: 4.1409 - val_accuracy: 0.1126\n",
            "Epoch 25/25\n",
            "134/134 [==============================] - 19s 140ms/step - loss: 2.1380 - accuracy: 0.2911 - val_loss: 4.2120 - val_accuracy: 0.1074\n"
          ]
        }
      ],
      "source": [
        "vgg_history_deeper = vgg_model_deeper.fit(S_DB,\n",
        "                                output_train_class_onehot_aug,\n",
        "                                batch_size=BATCH_SIZE,\n",
        "                                epochs=25,\n",
        "                                shuffle = batch_shuffle,\n",
        "                                validation_data=(S_DB_val,output_val_class_onehot)) "
      ]
    },
    {
      "attachments": {},
      "cell_type": "markdown",
      "metadata": {},
      "source": [
        "### Augmented audio file performances of VGG19"
      ]
    },
    {
      "cell_type": "code",
      "execution_count": null,
      "metadata": {
        "colab": {
          "base_uri": "https://localhost:8080/",
          "height": 573
        },
        "id": "PCaZE2JtoDCM",
        "outputId": "434bd197-32c7-4c6d-928d-1b2f57a7d18d",
        "vscode": {
          "languageId": "python"
        }
      },
      "outputs": [
        {
          "data": {
            "image/png": "[encoded data removed]",
            "text/plain": [
              "<Figure size 432x288 with 1 Axes>"
            ]
          },
          "metadata": {
            "needs_background": "light"
          },
          "output_type": "display_data"
        },
        {
          "data": {
            "image/png": "[encoded data removed]",
            "text/plain": [
              "<Figure size 432x288 with 1 Axes>"
            ]
          },
          "metadata": {
            "needs_background": "light"
          },
          "output_type": "display_data"
        }
      ],
      "source": [
        "# model loss\n",
        "loss='categorical_crossentropy'\n",
        "metrics=['accuracy']\n",
        "\n",
        "plt.plot(vgg_history_deeper.history['loss'])\n",
        "plt.plot(vgg_history_deeper.history['val_loss'])\n",
        "plt.title('Model loss : ' + loss)\n",
        "plt.ylabel('Loss')\n",
        "plt.xlabel('Epoch')\n",
        "plt.legend(['Training', 'Validation'], loc='best')\n",
        "plt.show()\n",
        "plt.close()\n",
        "\n",
        "# model accuracy metric\n",
        "\n",
        "plt.plot(np.array(vgg_history_deeper.history[metrics[0]]))\n",
        "plt.plot(np.array(vgg_history_deeper.history['val_' + metrics[0]]))\n",
        "plt.title('Model accuracy metric : ' + metrics[0])\n",
        "plt.ylabel('Accuracy metric')\n",
        "plt.xlabel('Epoch')\n",
        "plt.legend(['Training', 'Validation'], loc='best')\n",
        "plt.show()\n",
        "plt.close()"
      ]
    },
    {
      "cell_type": "code",
      "execution_count": null,
      "metadata": {
        "colab": {
          "base_uri": "https://localhost:8080/"
        },
        "id": "G02Lq4OYpir5",
        "outputId": "a70bad0b-7b41-4252-800b-67d8366b710c",
        "vscode": {
          "languageId": "python"
        }
      },
      "outputs": [
        {
          "name": "stdout",
          "output_type": "stream",
          "text": [
            "Accuracy on test set: 52.421053%\n"
          ]
        }
      ],
      "source": [
        "from keras.backend import argmax\n",
        "acc = 0\n",
        "for i in range(audioTrs_test.shape[0]):\n",
        "  #S = librosa.feature.melspectrogram(audioTrs_test[i], sr=sr, n_fft=2048, hop_length=512)\n",
        "  #S_DB_test = np.stack([librosa.power_to_db(S, ref=np.max),librosa.power_to_db(S, ref=np.max),librosa.power_to_db(S, ref=np.max)], axis=2)\n",
        "  output_predict = argmax(vgg_model_deeper.predict(tf.expand_dims(S_DB_test[i], axis=0))).numpy()[0]\n",
        "  if output_predict == np.argmax(output_test_class_onehot[i]):\n",
        "    acc += 1\n",
        "acc /= audioTrs_test.shape[0]\n",
        "print(\"Accuracy on test set: {:3f}%\".format(acc*100))"
      ]
    },
    {
      "attachments": {},
      "cell_type": "markdown",
      "metadata": {
        "id": "h85a5rWopmsd"
      },
      "source": [
        "## VGG16 Training using the non-augmented audio melspectrogram"
      ]
    },
    {
      "attachments": {},
      "cell_type": "markdown",
      "metadata": {
        "id": "caZq1YoNgIeP"
      },
      "source": [
        "Only using the original data, i.e. the non time-shifted ones"
      ]
    },
    {
      "cell_type": "code",
      "execution_count": null,
      "metadata": {
        "id": "2P_VAxptpqJx",
        "vscode": {
          "languageId": "python"
        }
      },
      "outputs": [],
      "source": [
        "fuse_id = []\n",
        "for i in range(S_DB.shape[0]):\n",
        "  fuse_id.append(i%3 == 0)\n",
        "S_DB_nn_aug = S_DB[fuse_id]"
      ]
    },
    {
      "attachments": {},
      "cell_type": "markdown",
      "metadata": {
        "id": "FLpF_XnBgMCF"
      },
      "source": [
        "Model creation and training"
      ]
    },
    {
      "cell_type": "code",
      "execution_count": null,
      "metadata": {
        "id": "UrXw9o7RrKjL",
        "vscode": {
          "languageId": "python"
        }
      },
      "outputs": [],
      "source": [
        "vgg_model_NA = create_model(input_shape, n_classes,opti, fine_tune=nbr_ft_layer)"
      ]
    },
    {
      "cell_type": "code",
      "execution_count": null,
      "metadata": {
        "colab": {
          "base_uri": "https://localhost:8080/"
        },
        "id": "zPUN3ce5qrA4",
        "outputId": "59bc2b06-5ac7-430f-8cba-6984f3bd9fba",
        "vscode": {
          "languageId": "python"
        }
      },
      "outputs": [
        {
          "name": "stdout",
          "output_type": "stream",
          "text": [
            "Epoch 1/15\n",
            "45/45 [==============================] - 7s 133ms/step - loss: 3.6835 - accuracy: 0.1842 - val_loss: 2.7519 - val_accuracy: 0.2789\n",
            "Epoch 2/15\n",
            "45/45 [==============================] - 6s 130ms/step - loss: 1.9996 - accuracy: 0.4498 - val_loss: 2.1811 - val_accuracy: 0.4158\n",
            "Epoch 3/15\n",
            "45/45 [==============================] - 6s 132ms/step - loss: 1.1516 - accuracy: 0.6733 - val_loss: 2.0507 - val_accuracy: 0.4484\n",
            "Epoch 4/15\n",
            "45/45 [==============================] - 6s 133ms/step - loss: 0.5973 - accuracy: 0.8295 - val_loss: 2.0396 - val_accuracy: 0.4653\n",
            "Epoch 5/15\n",
            "45/45 [==============================] - 6s 135ms/step - loss: 0.2406 - accuracy: 0.9312 - val_loss: 1.9762 - val_accuracy: 0.4989\n",
            "Epoch 6/15\n",
            "45/45 [==============================] - 6s 133ms/step - loss: 0.0905 - accuracy: 0.9839 - val_loss: 2.2248 - val_accuracy: 0.4926\n",
            "Epoch 7/15\n",
            "45/45 [==============================] - 6s 136ms/step - loss: 0.0397 - accuracy: 0.9940 - val_loss: 2.2698 - val_accuracy: 0.4916\n",
            "Epoch 8/15\n",
            "45/45 [==============================] - 6s 135ms/step - loss: 0.0329 - accuracy: 0.9958 - val_loss: 2.2651 - val_accuracy: 0.5074\n",
            "Epoch 9/15\n",
            "45/45 [==============================] - 6s 130ms/step - loss: 0.0146 - accuracy: 0.9989 - val_loss: 2.2522 - val_accuracy: 0.5116\n",
            "Epoch 10/15\n",
            "45/45 [==============================] - 6s 131ms/step - loss: 0.0083 - accuracy: 0.9993 - val_loss: 2.2652 - val_accuracy: 0.5147\n",
            "Epoch 11/15\n",
            "45/45 [==============================] - 6s 130ms/step - loss: 0.0073 - accuracy: 0.9996 - val_loss: 2.3069 - val_accuracy: 0.5158\n",
            "Epoch 12/15\n",
            "45/45 [==============================] - 6s 131ms/step - loss: 0.0046 - accuracy: 1.0000 - val_loss: 2.3819 - val_accuracy: 0.5147\n",
            "Epoch 13/15\n",
            "45/45 [==============================] - 6s 136ms/step - loss: 0.0067 - accuracy: 0.9989 - val_loss: 2.3472 - val_accuracy: 0.5211\n",
            "Epoch 14/15\n",
            "45/45 [==============================] - 6s 133ms/step - loss: 0.0037 - accuracy: 1.0000 - val_loss: 2.4108 - val_accuracy: 0.5168\n",
            "Epoch 15/15\n",
            "45/45 [==============================] - 6s 133ms/step - loss: 0.0028 - accuracy: 1.0000 - val_loss: 2.4715 - val_accuracy: 0.5053\n"
          ]
        }
      ],
      "source": [
        "vgg_history_NA = vgg_model_NA.fit(S_DB_nn_aug,\n",
        "                                output_train_class_onehot,\n",
        "                                batch_size=BATCH_SIZE,\n",
        "                                epochs=n_epochs,\n",
        "                                shuffle = batch_shuffle,\n",
        "                                validation_data=(S_DB_val,output_val_class_onehot)) "
      ]
    },
    {
      "cell_type": "code",
      "execution_count": null,
      "metadata": {
        "colab": {
          "base_uri": "https://localhost:8080/",
          "height": 573
        },
        "id": "zSUJyCSFrRbN",
        "outputId": "196736c5-d048-46f5-e1a4-65dd133f9ec1",
        "vscode": {
          "languageId": "python"
        }
      },
      "outputs": [
        {
          "data": {
            "image/png": "[encoded data removed]",
            "text/plain": [
              "<Figure size 432x288 with 1 Axes>"
            ]
          },
          "metadata": {
            "needs_background": "light"
          },
          "output_type": "display_data"
        },
        {
          "data": {
            "image/png": "[encoded data removed]",
            "text/plain": [
              "<Figure size 432x288 with 1 Axes>"
            ]
          },
          "metadata": {
            "needs_background": "light"
          },
          "output_type": "display_data"
        }
      ],
      "source": [
        "# model loss\n",
        "loss='categorical_crossentropy'\n",
        "metrics=['accuracy']\n",
        "\n",
        "plt.plot(vgg_history_NA.history['loss'])\n",
        "plt.plot(vgg_history_NA.history['val_loss'])\n",
        "plt.title('Model loss : ' + loss)\n",
        "plt.ylabel('Loss')\n",
        "plt.xlabel('Epoch')\n",
        "plt.legend(['Training', 'Validation'], loc='best')\n",
        "plt.show()\n",
        "plt.close()\n",
        "\n",
        "# model accuracy metric\n",
        "\n",
        "plt.plot(np.array(vgg_history_NA.history[metrics[0]]))\n",
        "plt.plot(np.array(vgg_history_NA.history['val_' + metrics[0]]))\n",
        "plt.title('Model accuracy metric : ' + metrics[0])\n",
        "plt.ylabel('Accuracy metric')\n",
        "plt.xlabel('Epoch')\n",
        "plt.legend(['Training', 'Validation'], loc='best')\n",
        "plt.show()\n",
        "plt.close()"
      ]
    },
    {
      "cell_type": "code",
      "execution_count": null,
      "metadata": {
        "colab": {
          "base_uri": "https://localhost:8080/"
        },
        "id": "CEbxc2blrVBN",
        "outputId": "f4f0a226-f5e9-429f-a724-cfda3830d37d",
        "vscode": {
          "languageId": "python"
        }
      },
      "outputs": [
        {
          "name": "stdout",
          "output_type": "stream",
          "text": [
            "Accuracy on test set: 52.526316%\n"
          ]
        }
      ],
      "source": [
        "from keras.backend import argmax\n",
        "acc = 0\n",
        "for i in range(audioTrs_test.shape[0]):\n",
        "  output_predict = argmax(vgg_model_NA.predict(tf.expand_dims(S_DB_test[i], axis=0))).numpy()[0]\n",
        "  if output_predict == np.argmax(output_test_class_onehot[i]):\n",
        "    acc += 1\n",
        "acc /= audioTrs_test.shape[0]\n",
        "print(\"Accuracy on test set: {:3f}%\".format(acc*100))"
      ]
    },
    {
      "attachments": {},
      "cell_type": "markdown",
      "metadata": {
        "id": "qmmTDGL-vC7j"
      },
      "source": [
        "# Transformers (ViT) using Audio files\n"
      ]
    },
    {
      "cell_type": "code",
      "execution_count": null,
      "metadata": {
        "colab": {
          "base_uri": "https://localhost:8080/"
        },
        "id": "3vE1J6UMvC7k",
        "outputId": "93b013c5-6d44-46f2-dde9-3760a6698557",
        "vscode": {
          "languageId": "python"
        }
      },
      "outputs": [
        {
          "name": "stdout",
          "output_type": "stream",
          "text": [
            "\u001b[?25l\r\u001b[K     |▎                               | 10 kB 18.6 MB/s eta 0:00:01\r\u001b[K     |▋                               | 20 kB 25.4 MB/s eta 0:00:01\r\u001b[K     |▉                               | 30 kB 19.4 MB/s eta 0:00:01\r\u001b[K     |█▏                              | 40 kB 11.9 MB/s eta 0:00:01\r\u001b[K     |█▌                              | 51 kB 9.7 MB/s eta 0:00:01\r\u001b[K     |█▊                              | 61 kB 11.2 MB/s eta 0:00:01\r\u001b[K     |██                              | 71 kB 11.7 MB/s eta 0:00:01\r\u001b[K     |██▍                             | 81 kB 11.8 MB/s eta 0:00:01\r\u001b[K     |██▋                             | 92 kB 12.9 MB/s eta 0:00:01\r\u001b[K     |███                             | 102 kB 11.7 MB/s eta 0:00:01\r\u001b[K     |███▏                            | 112 kB 11.7 MB/s eta 0:00:01\r\u001b[K     |███▌                            | 122 kB 11.7 MB/s eta 0:00:01\r\u001b[K     |███▉                            | 133 kB 11.7 MB/s eta 0:00:01\r\u001b[K     |████                            | 143 kB 11.7 MB/s eta 0:00:01\r\u001b[K     |████▍                           | 153 kB 11.7 MB/s eta 0:00:01\r\u001b[K     |████▊                           | 163 kB 11.7 MB/s eta 0:00:01\r\u001b[K     |█████                           | 174 kB 11.7 MB/s eta 0:00:01\r\u001b[K     |█████▎                          | 184 kB 11.7 MB/s eta 0:00:01\r\u001b[K     |█████▌                          | 194 kB 11.7 MB/s eta 0:00:01\r\u001b[K     |█████▉                          | 204 kB 11.7 MB/s eta 0:00:01\r\u001b[K     |██████▏                         | 215 kB 11.7 MB/s eta 0:00:01\r\u001b[K     |██████▍                         | 225 kB 11.7 MB/s eta 0:00:01\r\u001b[K     |██████▊                         | 235 kB 11.7 MB/s eta 0:00:01\r\u001b[K     |███████                         | 245 kB 11.7 MB/s eta 0:00:01\r\u001b[K     |███████▎                        | 256 kB 11.7 MB/s eta 0:00:01\r\u001b[K     |███████▋                        | 266 kB 11.7 MB/s eta 0:00:01\r\u001b[K     |███████▉                        | 276 kB 11.7 MB/s eta 0:00:01\r\u001b[K     |████████▏                       | 286 kB 11.7 MB/s eta 0:00:01\r\u001b[K     |████████▌                       | 296 kB 11.7 MB/s eta 0:00:01\r\u001b[K     |████████▊                       | 307 kB 11.7 MB/s eta 0:00:01\r\u001b[K     |█████████                       | 317 kB 11.7 MB/s eta 0:00:01\r\u001b[K     |█████████▍                      | 327 kB 11.7 MB/s eta 0:00:01\r\u001b[K     |█████████▋                      | 337 kB 11.7 MB/s eta 0:00:01\r\u001b[K     |██████████                      | 348 kB 11.7 MB/s eta 0:00:01\r\u001b[K     |██████████▏                     | 358 kB 11.7 MB/s eta 0:00:01\r\u001b[K     |██████████▌                     | 368 kB 11.7 MB/s eta 0:00:01\r\u001b[K     |██████████▉                     | 378 kB 11.7 MB/s eta 0:00:01\r\u001b[K     |███████████                     | 389 kB 11.7 MB/s eta 0:00:01\r\u001b[K     |███████████▍                    | 399 kB 11.7 MB/s eta 0:00:01\r\u001b[K     |███████████▊                    | 409 kB 11.7 MB/s eta 0:00:01\r\u001b[K     |████████████                    | 419 kB 11.7 MB/s eta 0:00:01\r\u001b[K     |████████████▎                   | 430 kB 11.7 MB/s eta 0:00:01\r\u001b[K     |████████████▌                   | 440 kB 11.7 MB/s eta 0:00:01\r\u001b[K     |████████████▉                   | 450 kB 11.7 MB/s eta 0:00:01\r\u001b[K     |█████████████▏                  | 460 kB 11.7 MB/s eta 0:00:01\r\u001b[K     |█████████████▍                  | 471 kB 11.7 MB/s eta 0:00:01\r\u001b[K     |█████████████▊                  | 481 kB 11.7 MB/s eta 0:00:01\r\u001b[K     |██████████████                  | 491 kB 11.7 MB/s eta 0:00:01\r\u001b[K     |██████████████▎                 | 501 kB 11.7 MB/s eta 0:00:01\r\u001b[K     |██████████████▋                 | 512 kB 11.7 MB/s eta 0:00:01\r\u001b[K     |██████████████▉                 | 522 kB 11.7 MB/s eta 0:00:01\r\u001b[K     |███████████████▏                | 532 kB 11.7 MB/s eta 0:00:01\r\u001b[K     |███████████████▌                | 542 kB 11.7 MB/s eta 0:00:01\r\u001b[K     |███████████████▊                | 552 kB 11.7 MB/s eta 0:00:01\r\u001b[K     |████████████████                | 563 kB 11.7 MB/s eta 0:00:01\r\u001b[K     |████████████████▍               | 573 kB 11.7 MB/s eta 0:00:01\r\u001b[K     |████████████████▋               | 583 kB 11.7 MB/s eta 0:00:01\r\u001b[K     |█████████████████               | 593 kB 11.7 MB/s eta 0:00:01\r\u001b[K     |█████████████████▏              | 604 kB 11.7 MB/s eta 0:00:01\r\u001b[K     |█████████████████▌              | 614 kB 11.7 MB/s eta 0:00:01\r\u001b[K     |█████████████████▉              | 624 kB 11.7 MB/s eta 0:00:01\r\u001b[K     |██████████████████              | 634 kB 11.7 MB/s eta 0:00:01\r\u001b[K     |██████████████████▍             | 645 kB 11.7 MB/s eta 0:00:01\r\u001b[K     |██████████████████▊             | 655 kB 11.7 MB/s eta 0:00:01\r\u001b[K     |███████████████████             | 665 kB 11.7 MB/s eta 0:00:01\r\u001b[K     |███████████████████▎            | 675 kB 11.7 MB/s eta 0:00:01\r\u001b[K     |███████████████████▌            | 686 kB 11.7 MB/s eta 0:00:01\r\u001b[K     |███████████████████▉            | 696 kB 11.7 MB/s eta 0:00:01\r\u001b[K     |████████████████████▏           | 706 kB 11.7 MB/s eta 0:00:01\r\u001b[K     |████████████████████▍           | 716 kB 11.7 MB/s eta 0:00:01\r\u001b[K     |████████████████████▊           | 727 kB 11.7 MB/s eta 0:00:01\r\u001b[K     |█████████████████████           | 737 kB 11.7 MB/s eta 0:00:01\r\u001b[K     |█████████████████████▎          | 747 kB 11.7 MB/s eta 0:00:01\r\u001b[K     |█████████████████████▋          | 757 kB 11.7 MB/s eta 0:00:01\r\u001b[K     |█████████████████████▉          | 768 kB 11.7 MB/s eta 0:00:01\r\u001b[K     |██████████████████████▏         | 778 kB 11.7 MB/s eta 0:00:01\r\u001b[K     |██████████████████████▌         | 788 kB 11.7 MB/s eta 0:00:01\r\u001b[K     |██████████████████████▊         | 798 kB 11.7 MB/s eta 0:00:01\r\u001b[K     |███████████████████████         | 808 kB 11.7 MB/s eta 0:00:01\r\u001b[K     |███████████████████████▍        | 819 kB 11.7 MB/s eta 0:00:01\r\u001b[K     |███████████████████████▋        | 829 kB 11.7 MB/s eta 0:00:01\r\u001b[K     |████████████████████████        | 839 kB 11.7 MB/s eta 0:00:01\r\u001b[K     |████████████████████████▏       | 849 kB 11.7 MB/s eta 0:00:01\r\u001b[K     |████████████████████████▌       | 860 kB 11.7 MB/s eta 0:00:01\r\u001b[K     |████████████████████████▉       | 870 kB 11.7 MB/s eta 0:00:01\r\u001b[K     |█████████████████████████       | 880 kB 11.7 MB/s eta 0:00:01\r\u001b[K     |█████████████████████████▍      | 890 kB 11.7 MB/s eta 0:00:01\r\u001b[K     |█████████████████████████▊      | 901 kB 11.7 MB/s eta 0:00:01\r\u001b[K     |██████████████████████████      | 911 kB 11.7 MB/s eta 0:00:01\r\u001b[K     |██████████████████████████▎     | 921 kB 11.7 MB/s eta 0:00:01\r\u001b[K     |██████████████████████████▌     | 931 kB 11.7 MB/s eta 0:00:01\r\u001b[K     |██████████████████████████▉     | 942 kB 11.7 MB/s eta 0:00:01\r\u001b[K     |███████████████████████████▏    | 952 kB 11.7 MB/s eta 0:00:01\r\u001b[K     |███████████████████████████▍    | 962 kB 11.7 MB/s eta 0:00:01\r\u001b[K     |███████████████████████████▊    | 972 kB 11.7 MB/s eta 0:00:01\r\u001b[K     |████████████████████████████    | 983 kB 11.7 MB/s eta 0:00:01\r\u001b[K     |████████████████████████████▎   | 993 kB 11.7 MB/s eta 0:00:01\r\u001b[K     |████████████████████████████▋   | 1.0 MB 11.7 MB/s eta 0:00:01\r\u001b[K     |████████████████████████████▉   | 1.0 MB 11.7 MB/s eta 0:00:01\r\u001b[K     |█████████████████████████████▏  | 1.0 MB 11.7 MB/s eta 0:00:01\r\u001b[K     |█████████████████████████████▌  | 1.0 MB 11.7 MB/s eta 0:00:01\r\u001b[K     |█████████████████████████████▊  | 1.0 MB 11.7 MB/s eta 0:00:01\r\u001b[K     |██████████████████████████████  | 1.1 MB 11.7 MB/s eta 0:00:01\r\u001b[K     |██████████████████████████████▍ | 1.1 MB 11.7 MB/s eta 0:00:01\r\u001b[K     |██████████████████████████████▋ | 1.1 MB 11.7 MB/s eta 0:00:01\r\u001b[K     |███████████████████████████████ | 1.1 MB 11.7 MB/s eta 0:00:01\r\u001b[K     |███████████████████████████████▏| 1.1 MB 11.7 MB/s eta 0:00:01\r\u001b[K     |███████████████████████████████▌| 1.1 MB 11.7 MB/s eta 0:00:01\r\u001b[K     |███████████████████████████████▉| 1.1 MB 11.7 MB/s eta 0:00:01\r\u001b[K     |████████████████████████████████| 1.1 MB 11.7 MB/s \n",
            "\u001b[?25h"
          ]
        }
      ],
      "source": [
        "# ViT\n",
        "!pip install -qq -U tensorflow-addons\n",
        "\n",
        "import tensorflow_addons as tfa\n",
        "import math\n",
        "\n",
        "# Setting seed for reproducibiltiy\n",
        "SEED = 42\n",
        "keras.utils.set_random_seed(SEED)"
      ]
    },
    {
      "attachments": {},
      "cell_type": "markdown",
      "metadata": {
        "id": "3SLMlYqtgUep"
      },
      "source": [
        "Rescale the data to match RGB images"
      ]
    },
    {
      "cell_type": "code",
      "execution_count": null,
      "metadata": {
        "id": "IajZz5fx3iIz",
        "vscode": {
          "languageId": "python"
        }
      },
      "outputs": [],
      "source": [
        "# Scale spectrogram values to match cv image sizes\n",
        "max_val = np.max([np.max(S_DB), np.max(S_DB_val), np.max(S_DB_test)])\n",
        "\n",
        "S_DB = 255/max_val*S_DB\n",
        "S_DB_val = 255/max_val*S_DB_val\n",
        "S_DB_test = 255/max_val*S_DB_test"
      ]
    },
    {
      "attachments": {},
      "cell_type": "markdown",
      "metadata": {
        "id": "iTVS6XnggZQX"
      },
      "source": [
        "Retrieve only the non augmented data"
      ]
    },
    {
      "cell_type": "code",
      "execution_count": null,
      "metadata": {
        "id": "ScTE7gqb5n91",
        "vscode": {
          "languageId": "python"
        }
      },
      "outputs": [],
      "source": [
        "fuse_id = []\n",
        "for i in range(S_DB.shape[0]):\n",
        "  fuse_id.append(i%3 == 0)\n",
        "S_DB_fuse = S_DB[fuse_id]\n"
      ]
    },
    {
      "cell_type": "code",
      "execution_count": null,
      "metadata": {
        "colab": {
          "base_uri": "https://localhost:8080/"
        },
        "id": "pBG8cATpvC7l",
        "outputId": "ddddafd3-a10b-449a-c866-18f41ee1170e",
        "vscode": {
          "languageId": "python"
        }
      },
      "outputs": [
        {
          "name": "stdout",
          "output_type": "stream",
          "text": [
            "Person :\n",
            "(950,)\n",
            "(8550,)\n",
            "Frame :\n",
            "(950, 224, 224, 3)\n",
            "(2850, 224, 224, 3)\n"
          ]
        }
      ],
      "source": [
        "## Data adaptation for transformers\n",
        "\n",
        "# Downsampling\n",
        "import cv2\n",
        "def downsample_image(dataset, chosen_input_size):\n",
        "  # INTER_LINEAR or INTER_AREA\n",
        "  return [cv2.resize(image, (chosen_input_size, chosen_input_size), interpolation=cv2.INTER_AREA) for image in dataset]\n",
        "\n",
        "down_sample=True  # True to downsample dataset\n",
        "down_sampled=False\n",
        "fuse = False\n",
        "\n",
        "if down_sample and not down_sampled:\n",
        "  if not fuse:\n",
        "    chosen_input_size=S_DB[0].shape[1]\n",
        "\n",
        "    imgFrames_train=np.array(downsample_image(S_DB, chosen_input_size))\n",
        "    imgFrames_val=np.array(downsample_image(S_DB_val, chosen_input_size))\n",
        "    INPUT_SHAPE = (chosen_input_size, chosen_input_size, nb_channel)\n",
        "\n",
        "  else:\n",
        "    chosen_input_size=32\n",
        "    INPUT_SHAPE_IMG = (chosen_input_size, chosen_input_size, nb_channel)\n",
        "    imgFrames_train_img=np.array(downsample_image(imgFrames_train, chosen_input_size))\n",
        "    imgFrames_val_img=np.array(downsample_image(imgFrames_val, chosen_input_size))\n",
        "\n",
        "    chosen_input_size=S_DB[0].shape[1]\n",
        "    INPUT_SHAPE_AUDIO = (chosen_input_size, chosen_input_size, nb_channel)\n",
        "\n",
        "    imgFrames_train_audio=np.array(downsample_image(S_DB_fuse, chosen_input_size))\n",
        "    imgFrames_val_audio=np.array(downsample_image(S_DB_val, chosen_input_size))\n",
        "\n",
        "  down_sampled=True\n",
        "elif  not down_sample and not down_sampled:\n",
        "  if not fuse:\n",
        "    INPUT_SHAPE = (input_size, input_size, nb_channel)\n",
        "  else:\n",
        "    chosen_input_size=S_DB[0].shape[1]\n",
        "    INPUT_SHAPE_AUDIO = (chosen_input_size, chosen_input_size, nb_channel)\n",
        "    chosen_input_size=32\n",
        "    INPUT_SHAPE_IMG = (chosen_input_size, chosen_input_size, nb_channel)\n",
        "else :\n",
        "  print(\"Already downsampled\")\n",
        "\n",
        "print('Person :')\n",
        "print(np.shape(person_val_GT)) \n",
        "print(np.shape(train_aug_GT)) \n",
        "\n",
        "print('Frame :')\n",
        "print(np.shape(imgFrames_val)) \n",
        "print(np.shape(imgFrames_train)) \n",
        "\n",
        "NUM_CLASSES = nb_class\n",
        "\n",
        "\n",
        "# Normalization and shuffle\n",
        "norm=1 # already performed in data-augmentation\n",
        "\n",
        "if fuse:\n",
        "  x_train_img=imgFrames_train_img/norm\n",
        "  r=random.sample(range(len(x_train_img)), len(x_train_img)) # shuffle data\n",
        "  x_train_img=x_train_img[r]\n",
        "  y_train_fuse=person_train_GT[r]\n",
        "\n",
        "  x_train_audio=imgFrames_train_audio/norm\n",
        "  x_train_audio=x_train_audio[r]\n",
        "\n",
        "  x_val_img=imgFrames_val_img/norm\n",
        "  r=random.sample(range(len(x_val_img)), len(x_val_img))\n",
        "  x_val_img=x_val_img[r]\n",
        "  y_val_fuse=person_val_GT[r]\n",
        "\n",
        "  x_val_audio=imgFrames_val_audio/norm\n",
        "  x_val_audio=x_val_audio[r]\n",
        "\n",
        "\n",
        "else:\n",
        "  x_train=imgFrames_train/norm\n",
        "  r=random.sample(range(len(x_train)), len(x_train)) # shuffle data\n",
        "  x_train=x_train[r]\n",
        "  y_train=train_aug_GT[r]\n",
        "\n",
        "  x_val=imgFrames_val/norm\n",
        "  r=random.sample(range(len(x_val)), len(x_val))\n",
        "  x_val=x_val[r]\n",
        "  y_val=person_val_GT[r]"
      ]
    },
    {
      "cell_type": "code",
      "execution_count": null,
      "metadata": {
        "id": "zQz1rLQ7vC7l",
        "vscode": {
          "languageId": "python"
        }
      },
      "outputs": [],
      "source": [
        "# Dataset augmentation\n",
        "\n",
        "from keras.preprocessing.image import ImageDataGenerator\n",
        "\n",
        "datagen = ImageDataGenerator(rotation_range=30)\n",
        "PREFIX = 'Rotated'\n",
        "\n",
        "imGen = datagen.flow(x_train, y_train, batch_size=1)\n",
        "for i in range(6):\n",
        "    batch = imGen.next()\n"
      ]
    },
    {
      "attachments": {},
      "cell_type": "markdown",
      "metadata": {},
      "source": [
        "## Parameters definition"
      ]
    },
    {
      "cell_type": "code",
      "execution_count": null,
      "metadata": {
        "id": "I4_BgU-cvC7m",
        "vscode": {
          "languageId": "python"
        }
      },
      "outputs": [],
      "source": [
        "# DATA\n",
        "BUFFER_SIZE = 64 #512\n",
        "BATCH_SIZE = 32 #256\n",
        "\n",
        "# AUGMENTATION\n",
        "IMAGE_SIZE = 72 #72\n",
        "PATCH_SIZE = 6 #6\n",
        "NUM_PATCHES = (IMAGE_SIZE // PATCH_SIZE) ** 2\n",
        "\n",
        "# OPTIMIZER\n",
        "LEARNING_RATE = 0.001\n",
        "WEIGHT_DECAY = 0.0001\n",
        "\n",
        "# TRAINING\n",
        "EPOCHS = 50\n",
        "\n",
        "# ARCHITECTURE\n",
        "LAYER_NORM_EPS = 1e-6#1e-6\n",
        "TRANSFORMER_LAYERS = 8 #8\n",
        "PROJECTION_DIM = 64\n",
        "NUM_HEADS = 4\n",
        "TRANSFORMER_UNITS = [\n",
        "    PROJECTION_DIM * 2,\n",
        "    PROJECTION_DIM,\n",
        "]\n",
        "\n",
        "MLP_LS = [2048, 1024]\n",
        "\n",
        "MLP_HEAD_UNITS = [2048, 1024] #[2048, 1024]"
      ]
    },
    {
      "cell_type": "code",
      "execution_count": null,
      "metadata": {
        "id": "Xbu_uFeJvC7m",
        "vscode": {
          "languageId": "python"
        }
      },
      "outputs": [],
      "source": [
        "# Data augmentation\n",
        "data_augmentation = keras.Sequential(\n",
        "    [\n",
        "        layers.Normalization(),\n",
        "        layers.Resizing(IMAGE_SIZE, IMAGE_SIZE),\n",
        "        layers.RandomFlip(\"horizontal\"),\n",
        "        layers.RandomRotation(factor=0.02),\n",
        "        layers.RandomZoom(height_factor=0.2, width_factor=0.2),\n",
        "    ],\n",
        "    name=\"data_augmentation\",\n",
        ")\n",
        "# Compute the mean and the variance of the training data for normalization.\n",
        "if fuse:\n",
        "  data_augmentation.layers[0].adapt(x_train_img)\n",
        "else:\n",
        "  data_augmentation.layers[0].adapt(x_train)\n",
        "\n"
      ]
    },
    {
      "attachments": {},
      "cell_type": "markdown",
      "metadata": {},
      "source": [
        "## Model parts definition"
      ]
    },
    {
      "cell_type": "code",
      "execution_count": null,
      "metadata": {
        "id": "k7dkAb7bvC7m",
        "vscode": {
          "languageId": "python"
        }
      },
      "outputs": [],
      "source": [
        "class ShiftedPatchTokenization(layers.Layer):\n",
        "    def __init__(\n",
        "        self,\n",
        "        image_size=IMAGE_SIZE,\n",
        "        patch_size=PATCH_SIZE,\n",
        "        num_patches=NUM_PATCHES,\n",
        "        projection_dim=PROJECTION_DIM,\n",
        "        vanilla=False,\n",
        "        **kwargs,\n",
        "    ):\n",
        "        super().__init__(**kwargs)\n",
        "        self.vanilla = vanilla  # Flag to swtich to vanilla patch extractor\n",
        "        self.image_size = image_size\n",
        "        self.patch_size = patch_size\n",
        "        self.half_patch = patch_size // 2\n",
        "        self.flatten_patches = layers.Reshape((num_patches, -1))\n",
        "        self.projection = layers.Dense(units=projection_dim)\n",
        "        self.layer_norm = layers.LayerNormalization(epsilon=LAYER_NORM_EPS)\n",
        "\n",
        "    def crop_shift_pad(self, images, mode):\n",
        "        # Build the diagonally shifted images\n",
        "        if mode == \"left-up\":\n",
        "            crop_height = self.half_patch\n",
        "            crop_width = self.half_patch\n",
        "            shift_height = 0\n",
        "            shift_width = 0\n",
        "        elif mode == \"left-down\":\n",
        "            crop_height = 0\n",
        "            crop_width = self.half_patch\n",
        "            shift_height = self.half_patch\n",
        "            shift_width = 0\n",
        "        elif mode == \"right-up\":\n",
        "            crop_height = self.half_patch\n",
        "            crop_width = 0\n",
        "            shift_height = 0\n",
        "            shift_width = self.half_patch\n",
        "        else:\n",
        "            crop_height = 0\n",
        "            crop_width = 0\n",
        "            shift_height = self.half_patch\n",
        "            shift_width = self.half_patch\n",
        "\n",
        "        # Crop the shifted images and pad them\n",
        "        crop = tf.image.crop_to_bounding_box(\n",
        "            images,\n",
        "            offset_height=crop_height,\n",
        "            offset_width=crop_width,\n",
        "            target_height=self.image_size - self.half_patch,\n",
        "            target_width=self.image_size - self.half_patch,\n",
        "        )\n",
        "        shift_pad = tf.image.pad_to_bounding_box(\n",
        "            crop,\n",
        "            offset_height=shift_height,\n",
        "            offset_width=shift_width,\n",
        "            target_height=self.image_size,\n",
        "            target_width=self.image_size,\n",
        "        )\n",
        "        return shift_pad\n",
        "\n",
        "    def call(self, images):\n",
        "        if not self.vanilla:\n",
        "            # Concat the shifted images with the original image\n",
        "            images = tf.concat(\n",
        "                [\n",
        "                    images,\n",
        "                    self.crop_shift_pad(images, mode=\"left-up\"),\n",
        "                    self.crop_shift_pad(images, mode=\"left-down\"),\n",
        "                    self.crop_shift_pad(images, mode=\"right-up\"),\n",
        "                    self.crop_shift_pad(images, mode=\"right-down\"),\n",
        "                ],\n",
        "                axis=-1,\n",
        "            )\n",
        "        # Patchify the images and flatten it\n",
        "        patches = tf.image.extract_patches(\n",
        "            images=images,\n",
        "            sizes=[1, self.patch_size, self.patch_size, 1],\n",
        "            strides=[1, self.patch_size, self.patch_size, 1],\n",
        "            rates=[1, 1, 1, 1],\n",
        "            padding=\"VALID\",\n",
        "        )\n",
        "        flat_patches = self.flatten_patches(patches)\n",
        "        if not self.vanilla:\n",
        "            # Layer normalize the flat patches and linearly project it\n",
        "            tokens = self.layer_norm(flat_patches)\n",
        "            tokens = self.projection(tokens)\n",
        "        else:\n",
        "            # Linearly project the flat patches\n",
        "            tokens = self.projection(flat_patches)\n",
        "        return (tokens, patches)"
      ]
    },
    {
      "cell_type": "code",
      "execution_count": null,
      "metadata": {
        "id": "k5O4tzFpvC7n",
        "vscode": {
          "languageId": "python"
        }
      },
      "outputs": [],
      "source": [
        "if not fuse: \n",
        "  # Get a random image from the training dataset\n",
        "  # and resize the image\n",
        "  image = x_train[np.random.choice(range(x_train.shape[0]))]\n",
        "  resized_image = tf.image.resize(\n",
        "      tf.convert_to_tensor([image]), size=(IMAGE_SIZE, IMAGE_SIZE)\n",
        "  )\n",
        "  plt.figure()\n",
        "  plt.imshow(resized_image[0].numpy().astype(int))\n",
        "  plt.axis(\"off\")\n",
        "  # Vanilla patch maker: This takes an image and divides into\n",
        "  # patches as in the original ViT paper\n",
        "  (token, patch) = ShiftedPatchTokenization(vanilla=True)(resized_image / 255.0)\n",
        "  (token, patch) = (token[0], patch[0])\n",
        "  n = patch.shape[0]\n",
        "  count = 1\n",
        "  plt.figure(figsize=(4, 4))\n",
        "  for row in range(n):\n",
        "      for col in range(n):\n",
        "          plt.subplot(n, n, count)\n",
        "          count = count + 1\n",
        "          image = tf.reshape(patch[row][col], (PATCH_SIZE, PATCH_SIZE, 3))\n",
        "          plt.imshow(image)\n",
        "          plt.axis(\"off\")\n",
        "  plt.show()\n",
        "\n",
        "  # Shifted Patch Tokenization: This layer takes the image, shifts it\n",
        "  # diagonally and then extracts patches from the concatinated images\n",
        "  (token, patch) = ShiftedPatchTokenization(vanilla=False)(resized_image / 255.0)\n",
        "  (token, patch) = (token[0], patch[0])\n",
        "  n = patch.shape[0]\n",
        "  shifted_images = [\"ORIGINAL\", \"LEFT-UP\", \"LEFT-DOWN\", \"RIGHT-UP\", \"RIGHT-DOWN\"]\n",
        "  for index, name in enumerate(shifted_images):\n",
        "      print(name)\n",
        "      count = 1\n",
        "      plt.figure(figsize=(4, 4))\n",
        "      for row in range(n):\n",
        "          for col in range(n):\n",
        "              plt.subplot(n, n, count)\n",
        "              count = count + 1\n",
        "              image = tf.reshape(patch[row][col], (PATCH_SIZE, PATCH_SIZE, 5 * 3))\n",
        "              plt.imshow(image[..., 3 * index : 3 * index + 3])\n",
        "              plt.axis(\"off\")\n",
        "      plt.show()"
      ]
    },
    {
      "cell_type": "code",
      "execution_count": null,
      "metadata": {
        "id": "aOcSOSxSvC7o",
        "vscode": {
          "languageId": "python"
        }
      },
      "outputs": [],
      "source": [
        "class PatchEncoder(layers.Layer):\n",
        "    def __init__(\n",
        "        self, num_patches=NUM_PATCHES, projection_dim=PROJECTION_DIM, **kwargs\n",
        "    ):\n",
        "        super().__init__(**kwargs)\n",
        "        self.num_patches = num_patches\n",
        "        self.position_embedding = layers.Embedding(\n",
        "            input_dim=num_patches, output_dim=projection_dim\n",
        "        )\n",
        "        self.positions = tf.range(start=0, limit=self.num_patches, delta=1)\n",
        "\n",
        "    def call(self, encoded_patches):\n",
        "        encoded_positions = self.position_embedding(self.positions)\n",
        "        encoded_patches = encoded_patches + encoded_positions\n",
        "        return encoded_patches"
      ]
    },
    {
      "cell_type": "code",
      "execution_count": null,
      "metadata": {
        "id": "wbMuHN91vC7o",
        "vscode": {
          "languageId": "python"
        }
      },
      "outputs": [],
      "source": [
        "class MultiHeadAttentionLSA(tf.keras.layers.MultiHeadAttention):\n",
        "    def __init__(self, **kwargs):\n",
        "        super().__init__(**kwargs)\n",
        "        # Tandhe trainable temperature term. The initial value is\n",
        "        # the square root of the key dimension.\n",
        "        self.tau = tf.Variable(math.sqrt(float(self._key_dim)), trainable=True)\n",
        "\n",
        "    def _compute_attention(self, query, key, value, attention_mask=None, training=None):\n",
        "        query = tf.multiply(query, 1.0 / self.tau)\n",
        "        attention_scores = tf.einsum(self._dot_product_equation, key, query)\n",
        "\n",
        "        attention_scores = self._masked_softmax(attention_scores, attention_mask)\n",
        "\n",
        "        attention_scores_dropout = self._dropout_layer(\n",
        "            attention_scores, training=training\n",
        "        )\n",
        "\n",
        "        attention_output = tf.einsum(\n",
        "            self._combine_equation, attention_scores_dropout, value\n",
        "        )\n",
        "\n",
        "        return attention_output, attention_scores"
      ]
    },
    {
      "cell_type": "code",
      "execution_count": null,
      "metadata": {
        "id": "GvtRPkfXvC7p",
        "vscode": {
          "languageId": "python"
        }
      },
      "outputs": [],
      "source": [
        "def mlp(x, hidden_units, dropout_rate):\n",
        "    for units in hidden_units:\n",
        "        x = layers.Dense(units, activation=tf.nn.gelu)(x)\n",
        "        x = layers.Dropout(dropout_rate)(x)\n",
        "    return x\n",
        "\n",
        "\n",
        "# Build the diagonal attention mask\n",
        "diag_attn_mask = 1 - tf.eye(NUM_PATCHES)\n",
        "diag_attn_mask = tf.cast([diag_attn_mask], dtype=tf.int8)\n",
        "\n",
        "diag_attn_mask1 = 1 - tf.eye(MLP_LS[-1])\n",
        "diag_attn_mask1 = tf.cast([diag_attn_mask1], dtype=tf.int8)\n"
      ]
    },
    {
      "cell_type": "code",
      "execution_count": null,
      "metadata": {
        "id": "TtmoEQFpvC7p",
        "vscode": {
          "languageId": "python"
        }
      },
      "outputs": [],
      "source": [
        "def create_vit_classifier(vanilla=False):\n",
        "    inputs = layers.Input(shape=INPUT_SHAPE)\n",
        "    # Augment data.\n",
        "    augmented = data_augmentation(inputs)\n",
        "    # Create patches.\n",
        "    (tokens, _) = ShiftedPatchTokenization(vanilla=vanilla)(augmented)\n",
        "    # Encode patches.\n",
        "    encoded_patches = PatchEncoder()(tokens)\n",
        "\n",
        "    # Create multiple layers of the Transformer block.\n",
        "    for _ in range(TRANSFORMER_LAYERS):\n",
        "        # Layer normalization 1.\n",
        "        x1 = layers.LayerNormalization(epsilon=1e-6)(encoded_patches)\n",
        "        # Create a multi-head attention layer.\n",
        "        if not vanilla:\n",
        "            attention_output = MultiHeadAttentionLSA(\n",
        "                num_heads=NUM_HEADS, key_dim=PROJECTION_DIM, dropout=0.1\n",
        "            )(x1, x1, attention_mask=diag_attn_mask)\n",
        "        else:\n",
        "            attention_output = layers.MultiHeadAttention(\n",
        "                num_heads=NUM_HEADS, key_dim=PROJECTION_DIM, dropout=0.1\n",
        "            )(x1, x1)\n",
        "        # Skip connection 1.\n",
        "        x2 = layers.Add()([attention_output, encoded_patches])\n",
        "        # Layer normalization 2.\n",
        "        x3 = layers.LayerNormalization(epsilon=1e-6)(x2)\n",
        "        # MLP.\n",
        "        x3 = mlp(x3, hidden_units=TRANSFORMER_UNITS, dropout_rate=0.1)\n",
        "        # Skip connection 2.\n",
        "        encoded_patches = layers.Add()([x3, x2])\n",
        "\n",
        "    # Create a [batch_size, projection_dim] tensor.\n",
        "    representation = layers.LayerNormalization(epsilon=1e-6)(encoded_patches)\n",
        "    representation = layers.Flatten()(representation)\n",
        "    representation = layers.Dropout(0.5)(representation)\n",
        "    # Add MLP.\n",
        "    features = mlp(representation, hidden_units=MLP_HEAD_UNITS, dropout_rate=0.5)\n",
        "    # Classify outputs.\n",
        "    logits = layers.Dense(NUM_CLASSES)(features)\n",
        "    # Create the Keras model.\n",
        "    model = keras.Model(inputs=inputs, outputs=logits)\n",
        "    return model"
      ]
    },
    {
      "cell_type": "code",
      "execution_count": null,
      "metadata": {
        "colab": {
          "base_uri": "https://localhost:8080/"
        },
        "id": "GuUpsVcPetJP",
        "outputId": "96ad2847-8cba-4f60-b749-d3f004499583",
        "vscode": {
          "languageId": "python"
        }
      },
      "outputs": [
        {
          "data": {
            "text/plain": [
              "(950, 110, 110, 3)"
            ]
          },
          "execution_count": 20,
          "metadata": {},
          "output_type": "execute_result"
        }
      ],
      "source": [
        "x_val.shape"
      ]
    },
    {
      "cell_type": "code",
      "execution_count": null,
      "metadata": {
        "id": "qYGPkkRWlyr-",
        "vscode": {
          "languageId": "python"
        }
      },
      "outputs": [],
      "source": [
        "# Some code is taken from:\n",
        "# https://www.kaggle.com/ashusma/training-rfcx-tensorflow-tpu-effnet-b2.\n",
        "class WarmUpCosine(keras.optimizers.schedules.LearningRateSchedule):\n",
        "    def __init__(\n",
        "        self, learning_rate_base, total_steps, warmup_learning_rate, warmup_steps\n",
        "    ):\n",
        "        super(WarmUpCosine, self).__init__()\n",
        "\n",
        "        self.learning_rate_base = learning_rate_base\n",
        "        self.total_steps = total_steps\n",
        "        self.warmup_learning_rate = warmup_learning_rate\n",
        "        self.warmup_steps = warmup_steps\n",
        "        self.pi = tf.constant(np.pi)\n",
        "\n",
        "    def __call__(self, step):\n",
        "        if self.total_steps < self.warmup_steps:\n",
        "            raise ValueError(\"Total_steps must be larger or equal to warmup_steps.\")\n",
        "\n",
        "        cos_annealed_lr = tf.cos(\n",
        "            self.pi\n",
        "            * (tf.cast(step, tf.float32) - self.warmup_steps)\n",
        "            / float(self.total_steps - self.warmup_steps)\n",
        "        )\n",
        "        learning_rate = 0.5 * self.learning_rate_base * (1 + cos_annealed_lr)\n",
        "\n",
        "        if self.warmup_steps > 0:\n",
        "            if self.learning_rate_base < self.warmup_learning_rate:\n",
        "                raise ValueError(\n",
        "                    \"Learning_rate_base must be larger or equal to \"\n",
        "                    \"warmup_learning_rate.\"\n",
        "                )\n",
        "            slope = (\n",
        "                self.learning_rate_base - self.warmup_learning_rate\n",
        "            ) / self.warmup_steps\n",
        "            warmup_rate = slope * tf.cast(step, tf.float32) + self.warmup_learning_rate\n",
        "            learning_rate = tf.where(\n",
        "                step < self.warmup_steps, warmup_rate, learning_rate\n",
        "            )\n",
        "        return tf.where(\n",
        "            step > self.total_steps, 0.0, learning_rate, name=\"learning_rate\"\n",
        "        )\n",
        "\n",
        "\n",
        "def run_experiment(model):\n",
        "    total_steps = int((len(x_train) / BATCH_SIZE) * EPOCHS)\n",
        "    warmup_epoch_percentage = 0.10\n",
        "    warmup_steps = int(total_steps * warmup_epoch_percentage)\n",
        "    scheduled_lrs = WarmUpCosine(\n",
        "        learning_rate_base=LEARNING_RATE,\n",
        "        total_steps=total_steps,\n",
        "        warmup_learning_rate=0.0,\n",
        "        warmup_steps=warmup_steps,\n",
        "    )\n",
        "\n",
        "    optimizer = tfa.optimizers.AdamW(\n",
        "        learning_rate=LEARNING_RATE, weight_decay=WEIGHT_DECAY\n",
        "    )\n",
        "\n",
        "    model.compile(\n",
        "        optimizer=optimizer,\n",
        "        loss=keras.losses.SparseCategoricalCrossentropy(from_logits=True),\n",
        "        metrics=[\n",
        "            keras.metrics.SparseCategoricalAccuracy(name=\"accuracy\"),\n",
        "            keras.metrics.SparseTopKCategoricalAccuracy(5, name=\"top-5-accuracy\"),\n",
        "        ],\n",
        "    )\n",
        "\n",
        "    history = model.fit(\n",
        "        x=x_train,\n",
        "        y=y_train,\n",
        "        batch_size=BATCH_SIZE,\n",
        "        epochs=EPOCHS,\n",
        "        validation_data=(x_val,y_val)\n",
        "    )\n",
        "\n",
        "\n",
        "    return history"
      ]
    },
    {
      "cell_type": "code",
      "execution_count": null,
      "metadata": {
        "id": "X04QSDmhm2t3",
        "vscode": {
          "languageId": "python"
        }
      },
      "outputs": [],
      "source": [
        "save_models = True"
      ]
    },
    {
      "attachments": {},
      "cell_type": "markdown",
      "metadata": {
        "id": "yVm7ZMU79JAm"
      },
      "source": [
        "## Vanilla ViT classifier using only the melspectrogram"
      ]
    },
    {
      "cell_type": "code",
      "execution_count": null,
      "metadata": {
        "id": "BEjIu_vDvC7q",
        "vscode": {
          "languageId": "python"
        }
      },
      "outputs": [],
      "source": [
        "# Run experiments with the vanilla ViT\n",
        "vit = create_vit_classifier(vanilla=True)\n",
        "history = run_experiment(vit)\n"
      ]
    },
    {
      "cell_type": "code",
      "execution_count": null,
      "metadata": {
        "colab": {
          "base_uri": "https://localhost:8080/"
        },
        "id": "fyjjHZKCNKNQ",
        "outputId": "7bb22a18-0117-4693-bd65-c64845d2d838",
        "vscode": {
          "languageId": "python"
        }
      },
      "outputs": [
        {
          "name": "stdout",
          "output_type": "stream",
          "text": [
            "Model: \"model\"\n",
            "__________________________________________________________________________________________________\n",
            " Layer (type)                   Output Shape         Param #     Connected to                     \n",
            "==================================================================================================\n",
            " input_1 (InputLayer)           [(None, 110, 110, 3  0           []                               \n",
            "                                )]                                                                \n",
            "                                                                                                  \n",
            " data_augmentation (Sequential)  (None, 72, 72, 3)   7           ['input_1[0][0]']                \n",
            "                                                                                                  \n",
            " shifted_patch_tokenization_2 (  ((None, 144, 64),   6976        ['data_augmentation[0][0]']      \n",
            " ShiftedPatchTokenization)       (None, 12, 12, 108                                               \n",
            "                                ))                                                                \n",
            "                                                                                                  \n",
            " patch_encoder (PatchEncoder)   (None, 144, 64)      9216        ['shifted_patch_tokenization_2[0]\n",
            "                                                                 [0]']                            \n",
            "                                                                                                  \n",
            " layer_normalization_3 (LayerNo  (None, 144, 64)     128         ['patch_encoder[0][0]']          \n",
            " rmalization)                                                                                     \n",
            "                                                                                                  \n",
            " multi_head_attention (MultiHea  (None, 144, 64)     66368       ['layer_normalization_3[0][0]',  \n",
            " dAttention)                                                      'layer_normalization_3[0][0]']  \n",
            "                                                                                                  \n",
            " add (Add)                      (None, 144, 64)      0           ['multi_head_attention[0][0]',   \n",
            "                                                                  'patch_encoder[0][0]']          \n",
            "                                                                                                  \n",
            " layer_normalization_4 (LayerNo  (None, 144, 64)     128         ['add[0][0]']                    \n",
            " rmalization)                                                                                     \n",
            "                                                                                                  \n",
            " dense_3 (Dense)                (None, 144, 128)     8320        ['layer_normalization_4[0][0]']  \n",
            "                                                                                                  \n",
            " dropout (Dropout)              (None, 144, 128)     0           ['dense_3[0][0]']                \n",
            "                                                                                                  \n",
            " dense_4 (Dense)                (None, 144, 64)      8256        ['dropout[0][0]']                \n",
            "                                                                                                  \n",
            " dropout_1 (Dropout)            (None, 144, 64)      0           ['dense_4[0][0]']                \n",
            "                                                                                                  \n",
            " add_1 (Add)                    (None, 144, 64)      0           ['dropout_1[0][0]',              \n",
            "                                                                  'add[0][0]']                    \n",
            "                                                                                                  \n",
            " layer_normalization_5 (LayerNo  (None, 144, 64)     128         ['add_1[0][0]']                  \n",
            " rmalization)                                                                                     \n",
            "                                                                                                  \n",
            " multi_head_attention_1 (MultiH  (None, 144, 64)     66368       ['layer_normalization_5[0][0]',  \n",
            " eadAttention)                                                    'layer_normalization_5[0][0]']  \n",
            "                                                                                                  \n",
            " add_2 (Add)                    (None, 144, 64)      0           ['multi_head_attention_1[0][0]', \n",
            "                                                                  'add_1[0][0]']                  \n",
            "                                                                                                  \n",
            " layer_normalization_6 (LayerNo  (None, 144, 64)     128         ['add_2[0][0]']                  \n",
            " rmalization)                                                                                     \n",
            "                                                                                                  \n",
            " dense_5 (Dense)                (None, 144, 128)     8320        ['layer_normalization_6[0][0]']  \n",
            "                                                                                                  \n",
            " dropout_2 (Dropout)            (None, 144, 128)     0           ['dense_5[0][0]']                \n",
            "                                                                                                  \n",
            " dense_6 (Dense)                (None, 144, 64)      8256        ['dropout_2[0][0]']              \n",
            "                                                                                                  \n",
            " dropout_3 (Dropout)            (None, 144, 64)      0           ['dense_6[0][0]']                \n",
            "                                                                                                  \n",
            " add_3 (Add)                    (None, 144, 64)      0           ['dropout_3[0][0]',              \n",
            "                                                                  'add_2[0][0]']                  \n",
            "                                                                                                  \n",
            " layer_normalization_7 (LayerNo  (None, 144, 64)     128         ['add_3[0][0]']                  \n",
            " rmalization)                                                                                     \n",
            "                                                                                                  \n",
            " multi_head_attention_2 (MultiH  (None, 144, 64)     66368       ['layer_normalization_7[0][0]',  \n",
            " eadAttention)                                                    'layer_normalization_7[0][0]']  \n",
            "                                                                                                  \n",
            " add_4 (Add)                    (None, 144, 64)      0           ['multi_head_attention_2[0][0]', \n",
            "                                                                  'add_3[0][0]']                  \n",
            "                                                                                                  \n",
            " layer_normalization_8 (LayerNo  (None, 144, 64)     128         ['add_4[0][0]']                  \n",
            " rmalization)                                                                                     \n",
            "                                                                                                  \n",
            " dense_7 (Dense)                (None, 144, 128)     8320        ['layer_normalization_8[0][0]']  \n",
            "                                                                                                  \n",
            " dropout_4 (Dropout)            (None, 144, 128)     0           ['dense_7[0][0]']                \n",
            "                                                                                                  \n",
            " dense_8 (Dense)                (None, 144, 64)      8256        ['dropout_4[0][0]']              \n",
            "                                                                                                  \n",
            " dropout_5 (Dropout)            (None, 144, 64)      0           ['dense_8[0][0]']                \n",
            "                                                                                                  \n",
            " add_5 (Add)                    (None, 144, 64)      0           ['dropout_5[0][0]',              \n",
            "                                                                  'add_4[0][0]']                  \n",
            "                                                                                                  \n",
            " layer_normalization_9 (LayerNo  (None, 144, 64)     128         ['add_5[0][0]']                  \n",
            " rmalization)                                                                                     \n",
            "                                                                                                  \n",
            " multi_head_attention_3 (MultiH  (None, 144, 64)     66368       ['layer_normalization_9[0][0]',  \n",
            " eadAttention)                                                    'layer_normalization_9[0][0]']  \n",
            "                                                                                                  \n",
            " add_6 (Add)                    (None, 144, 64)      0           ['multi_head_attention_3[0][0]', \n",
            "                                                                  'add_5[0][0]']                  \n",
            "                                                                                                  \n",
            " layer_normalization_10 (LayerN  (None, 144, 64)     128         ['add_6[0][0]']                  \n",
            " ormalization)                                                                                    \n",
            "                                                                                                  \n",
            " dense_9 (Dense)                (None, 144, 128)     8320        ['layer_normalization_10[0][0]'] \n",
            "                                                                                                  \n",
            " dropout_6 (Dropout)            (None, 144, 128)     0           ['dense_9[0][0]']                \n",
            "                                                                                                  \n",
            " dense_10 (Dense)               (None, 144, 64)      8256        ['dropout_6[0][0]']              \n",
            "                                                                                                  \n",
            " dropout_7 (Dropout)            (None, 144, 64)      0           ['dense_10[0][0]']               \n",
            "                                                                                                  \n",
            " add_7 (Add)                    (None, 144, 64)      0           ['dropout_7[0][0]',              \n",
            "                                                                  'add_6[0][0]']                  \n",
            "                                                                                                  \n",
            " layer_normalization_11 (LayerN  (None, 144, 64)     128         ['add_7[0][0]']                  \n",
            " ormalization)                                                                                    \n",
            "                                                                                                  \n",
            " multi_head_attention_4 (MultiH  (None, 144, 64)     66368       ['layer_normalization_11[0][0]', \n",
            " eadAttention)                                                    'layer_normalization_11[0][0]'] \n",
            "                                                                                                  \n",
            " add_8 (Add)                    (None, 144, 64)      0           ['multi_head_attention_4[0][0]', \n",
            "                                                                  'add_7[0][0]']                  \n",
            "                                                                                                  \n",
            " layer_normalization_12 (LayerN  (None, 144, 64)     128         ['add_8[0][0]']                  \n",
            " ormalization)                                                                                    \n",
            "                                                                                                  \n",
            " dense_11 (Dense)               (None, 144, 128)     8320        ['layer_normalization_12[0][0]'] \n",
            "                                                                                                  \n",
            " dropout_8 (Dropout)            (None, 144, 128)     0           ['dense_11[0][0]']               \n",
            "                                                                                                  \n",
            " dense_12 (Dense)               (None, 144, 64)      8256        ['dropout_8[0][0]']              \n",
            "                                                                                                  \n",
            " dropout_9 (Dropout)            (None, 144, 64)      0           ['dense_12[0][0]']               \n",
            "                                                                                                  \n",
            " add_9 (Add)                    (None, 144, 64)      0           ['dropout_9[0][0]',              \n",
            "                                                                  'add_8[0][0]']                  \n",
            "                                                                                                  \n",
            " layer_normalization_13 (LayerN  (None, 144, 64)     128         ['add_9[0][0]']                  \n",
            " ormalization)                                                                                    \n",
            "                                                                                                  \n",
            " multi_head_attention_5 (MultiH  (None, 144, 64)     66368       ['layer_normalization_13[0][0]', \n",
            " eadAttention)                                                    'layer_normalization_13[0][0]'] \n",
            "                                                                                                  \n",
            " add_10 (Add)                   (None, 144, 64)      0           ['multi_head_attention_5[0][0]', \n",
            "                                                                  'add_9[0][0]']                  \n",
            "                                                                                                  \n",
            " layer_normalization_14 (LayerN  (None, 144, 64)     128         ['add_10[0][0]']                 \n",
            " ormalization)                                                                                    \n",
            "                                                                                                  \n",
            " dense_13 (Dense)               (None, 144, 128)     8320        ['layer_normalization_14[0][0]'] \n",
            "                                                                                                  \n",
            " dropout_10 (Dropout)           (None, 144, 128)     0           ['dense_13[0][0]']               \n",
            "                                                                                                  \n",
            " dense_14 (Dense)               (None, 144, 64)      8256        ['dropout_10[0][0]']             \n",
            "                                                                                                  \n",
            " dropout_11 (Dropout)           (None, 144, 64)      0           ['dense_14[0][0]']               \n",
            "                                                                                                  \n",
            " add_11 (Add)                   (None, 144, 64)      0           ['dropout_11[0][0]',             \n",
            "                                                                  'add_10[0][0]']                 \n",
            "                                                                                                  \n",
            " layer_normalization_15 (LayerN  (None, 144, 64)     128         ['add_11[0][0]']                 \n",
            " ormalization)                                                                                    \n",
            "                                                                                                  \n",
            " multi_head_attention_6 (MultiH  (None, 144, 64)     66368       ['layer_normalization_15[0][0]', \n",
            " eadAttention)                                                    'layer_normalization_15[0][0]'] \n",
            "                                                                                                  \n",
            " add_12 (Add)                   (None, 144, 64)      0           ['multi_head_attention_6[0][0]', \n",
            "                                                                  'add_11[0][0]']                 \n",
            "                                                                                                  \n",
            " layer_normalization_16 (LayerN  (None, 144, 64)     128         ['add_12[0][0]']                 \n",
            " ormalization)                                                                                    \n",
            "                                                                                                  \n",
            " dense_15 (Dense)               (None, 144, 128)     8320        ['layer_normalization_16[0][0]'] \n",
            "                                                                                                  \n",
            " dropout_12 (Dropout)           (None, 144, 128)     0           ['dense_15[0][0]']               \n",
            "                                                                                                  \n",
            " dense_16 (Dense)               (None, 144, 64)      8256        ['dropout_12[0][0]']             \n",
            "                                                                                                  \n",
            " dropout_13 (Dropout)           (None, 144, 64)      0           ['dense_16[0][0]']               \n",
            "                                                                                                  \n",
            " add_13 (Add)                   (None, 144, 64)      0           ['dropout_13[0][0]',             \n",
            "                                                                  'add_12[0][0]']                 \n",
            "                                                                                                  \n",
            " layer_normalization_17 (LayerN  (None, 144, 64)     128         ['add_13[0][0]']                 \n",
            " ormalization)                                                                                    \n",
            "                                                                                                  \n",
            " multi_head_attention_7 (MultiH  (None, 144, 64)     66368       ['layer_normalization_17[0][0]', \n",
            " eadAttention)                                                    'layer_normalization_17[0][0]'] \n",
            "                                                                                                  \n",
            " add_14 (Add)                   (None, 144, 64)      0           ['multi_head_attention_7[0][0]', \n",
            "                                                                  'add_13[0][0]']                 \n",
            "                                                                                                  \n",
            " layer_normalization_18 (LayerN  (None, 144, 64)     128         ['add_14[0][0]']                 \n",
            " ormalization)                                                                                    \n",
            "                                                                                                  \n",
            " dense_17 (Dense)               (None, 144, 128)     8320        ['layer_normalization_18[0][0]'] \n",
            "                                                                                                  \n",
            " dropout_14 (Dropout)           (None, 144, 128)     0           ['dense_17[0][0]']               \n",
            "                                                                                                  \n",
            " dense_18 (Dense)               (None, 144, 64)      8256        ['dropout_14[0][0]']             \n",
            "                                                                                                  \n",
            " dropout_15 (Dropout)           (None, 144, 64)      0           ['dense_18[0][0]']               \n",
            "                                                                                                  \n",
            " add_15 (Add)                   (None, 144, 64)      0           ['dropout_15[0][0]',             \n",
            "                                                                  'add_14[0][0]']                 \n",
            "                                                                                                  \n",
            " layer_normalization_19 (LayerN  (None, 144, 64)     128         ['add_15[0][0]']                 \n",
            " ormalization)                                                                                    \n",
            "                                                                                                  \n",
            " flatten (Flatten)              (None, 9216)         0           ['layer_normalization_19[0][0]'] \n",
            "                                                                                                  \n",
            " dropout_16 (Dropout)           (None, 9216)         0           ['flatten[0][0]']                \n",
            "                                                                                                  \n",
            " dense_19 (Dense)               (None, 2048)         18876416    ['dropout_16[0][0]']             \n",
            "                                                                                                  \n",
            " dropout_17 (Dropout)           (None, 2048)         0           ['dense_19[0][0]']               \n",
            "                                                                                                  \n",
            " dense_20 (Dense)               (None, 1024)         2098176     ['dropout_17[0][0]']             \n",
            "                                                                                                  \n",
            " dropout_18 (Dropout)           (None, 1024)         0           ['dense_20[0][0]']               \n",
            "                                                                                                  \n",
            " dense_21 (Dense)               (None, 49)           50225       ['dropout_18[0][0]']             \n",
            "                                                                                                  \n",
            "==================================================================================================\n",
            "Total params: 21,706,744\n",
            "Trainable params: 21,706,737\n",
            "Non-trainable params: 7\n",
            "__________________________________________________________________________________________________\n"
          ]
        }
      ],
      "source": [
        "vit.summary()"
      ]
    },
    {
      "cell_type": "code",
      "execution_count": null,
      "metadata": {
        "colab": {
          "base_uri": "https://localhost:8080/",
          "height": 573
        },
        "id": "fJZtKSHYmGWw",
        "outputId": "12ad80e7-2a4e-4454-f2b5-db2ee2b7bc61",
        "vscode": {
          "languageId": "python"
        }
      },
      "outputs": [
        {
          "data": {
            "image/png": "[encoded data removed]",
            "text/plain": [
              "<Figure size 432x288 with 1 Axes>"
            ]
          },
          "metadata": {
            "needs_background": "light"
          },
          "output_type": "display_data"
        },
        {
          "data": {
            "image/png": "[encoded data removed]",
            "text/plain": [
              "<Figure size 432x288 with 1 Axes>"
            ]
          },
          "metadata": {
            "needs_background": "light"
          },
          "output_type": "display_data"
        }
      ],
      "source": [
        "# model loss\n",
        "loss='categorical_crossentropy'\n",
        "metrics=['accuracy']\n",
        "\n",
        "plt.plot(history.history['loss'])\n",
        "plt.plot(history.history['val_loss'])\n",
        "plt.title('Model loss : ' + loss)\n",
        "plt.ylabel('Loss')\n",
        "plt.xlabel('Epoch')\n",
        "plt.legend(['Training', 'Validation'], loc='best')\n",
        "plt.show()\n",
        "plt.close()\n",
        "\n",
        "# model accuracy metric\n",
        "\n",
        "plt.plot(np.array(history.history[metrics[0]]))\n",
        "plt.plot(np.array(history.history['val_' + metrics[0]]))\n",
        "plt.title('Model accuracy metric : ' + metrics[0])\n",
        "plt.ylabel('Accuracy metric')\n",
        "plt.xlabel('Epoch')\n",
        "plt.legend(['Training', 'Validation'], loc='best')\n",
        "plt.show()\n",
        "plt.close()\n",
        "\n"
      ]
    },
    {
      "cell_type": "code",
      "execution_count": null,
      "metadata": {
        "colab": {
          "base_uri": "https://localhost:8080/"
        },
        "id": "iUeWPei_WF9d",
        "outputId": "4d9e26c0-2f87-4462-c47f-9aec9b59d3f3",
        "vscode": {
          "languageId": "python"
        }
      },
      "outputs": [
        {
          "name": "stdout",
          "output_type": "stream",
          "text": [
            "30/30 [==============================] - 2s 71ms/step - loss: 1.5910 - accuracy: 0.6116 - top-5-accuracy: 0.8705\n",
            "Test accuracy: 61.16%\n",
            "Test top 5 accuracy: 87.05%\n"
          ]
        }
      ],
      "source": [
        "S_DB_test=np.array(downsample_image(S_DB_test, chosen_input_size))\n",
        "_, accuracy, top_5_accuracy = vit.evaluate(S_DB_test, person_test_GT, batch_size=BATCH_SIZE)\n",
        "print(f\"Test accuracy: {round(accuracy * 100, 2)}%\")\n",
        "print(f\"Test top 5 accuracy: {round(top_5_accuracy * 100, 2)}%\")"
      ]
    },
    {
      "cell_type": "code",
      "execution_count": null,
      "metadata": {
        "colab": {
          "base_uri": "https://localhost:8080/"
        },
        "id": "Lag1-f-imkv1",
        "outputId": "a3bb2cec-f2ec-4ede-bf73-244f215234be",
        "vscode": {
          "languageId": "python"
        }
      },
      "outputs": [
        {
          "name": "stdout",
          "output_type": "stream",
          "text": [
            "/content/drive/.shortcut-targets-by-id/1K5OFKaoitJ_c6tsV6UYFW_Ts0E8dqdld/DLOI_Project/trained_models\n",
            "WARNING:tensorflow:Skipping full serialization of Keras layer <keras.layers.normalization.layer_normalization.LayerNormalization object at 0x7f877daf1cd0>, because it is not built.\n"
          ]
        },
        {
          "name": "stderr",
          "output_type": "stream",
          "text": [
            "WARNING:absl:Found untraced functions such as reshape_2_layer_call_fn, reshape_2_layer_call_and_return_conditional_losses, dense_2_layer_call_fn, dense_2_layer_call_and_return_conditional_losses, embedding_layer_call_fn while saving (showing 5 of 102). These functions will not be directly callable after loading.\n"
          ]
        },
        {
          "name": "stdout",
          "output_type": "stream",
          "text": [
            "INFO:tensorflow:Assets written to: TRANSFO_Model_clean/assets\n"
          ]
        },
        {
          "name": "stderr",
          "output_type": "stream",
          "text": [
            "INFO:tensorflow:Assets written to: TRANSFO_Model_clean/assets\n"
          ]
        },
        {
          "name": "stdout",
          "output_type": "stream",
          "text": [
            "/content/drive/.shortcut-targets-by-id/1K5OFKaoitJ_c6tsV6UYFW_Ts0E8dqdld/DLOI_Project\n"
          ]
        }
      ],
      "source": [
        "if save_models:\n",
        "  %cd trained_models/\n",
        "  vit.save('TRANSFO_Model_clean')\n",
        "  %cd ..\n",
        "  # to load back model: keras.models.load_model('mode_folder_name')"
      ]
    },
    {
      "attachments": {},
      "cell_type": "markdown",
      "metadata": {},
      "source": [
        "## ViT using Shifted Patch Tokenization and Locality Self-Attention modified"
      ]
    },
    {
      "attachments": {},
      "cell_type": "markdown",
      "metadata": {},
      "source": [
        "### Augemented audio files"
      ]
    },
    {
      "cell_type": "code",
      "execution_count": null,
      "metadata": {
        "colab": {
          "base_uri": "https://localhost:8080/"
        },
        "id": "wf7KUYhol5Ps",
        "outputId": "213c8cc3-e246-4622-d76f-00022cadee73",
        "vscode": {
          "languageId": "python"
        }
      },
      "outputs": [
        {
          "name": "stdout",
          "output_type": "stream",
          "text": [
            "Epoch 1/50\n",
            "268/268 [==============================] - 75s 227ms/step - loss: 3.9585 - accuracy: 0.0896 - top-5-accuracy: 0.2813 - val_loss: 2.9981 - val_accuracy: 0.2505 - val_top-5-accuracy: 0.5547\n",
            "Epoch 2/50\n",
            "268/268 [==============================] - 59s 220ms/step - loss: 3.2349 - accuracy: 0.1716 - top-5-accuracy: 0.4516 - val_loss: 2.7054 - val_accuracy: 0.3084 - val_top-5-accuracy: 0.5895\n",
            "Epoch 3/50\n",
            "268/268 [==============================] - 59s 220ms/step - loss: 2.9290 - accuracy: 0.2339 - top-5-accuracy: 0.5333 - val_loss: 2.4253 - val_accuracy: 0.3568 - val_top-5-accuracy: 0.6821\n",
            "Epoch 4/50\n",
            "268/268 [==============================] - 59s 220ms/step - loss: 2.7276 - accuracy: 0.2651 - top-5-accuracy: 0.5945 - val_loss: 2.5634 - val_accuracy: 0.3137 - val_top-5-accuracy: 0.6432\n",
            "Epoch 5/50\n",
            "268/268 [==============================] - 59s 220ms/step - loss: 2.5928 - accuracy: 0.3025 - top-5-accuracy: 0.6313 - val_loss: 2.1951 - val_accuracy: 0.4137 - val_top-5-accuracy: 0.7316\n",
            "Epoch 6/50\n",
            "268/268 [==============================] - 59s 220ms/step - loss: 2.4386 - accuracy: 0.3311 - top-5-accuracy: 0.6665 - val_loss: 2.0542 - val_accuracy: 0.4263 - val_top-5-accuracy: 0.7695\n",
            "Epoch 7/50\n",
            "268/268 [==============================] - 59s 220ms/step - loss: 2.2614 - accuracy: 0.3689 - top-5-accuracy: 0.7104 - val_loss: 1.9489 - val_accuracy: 0.4632 - val_top-5-accuracy: 0.7737\n",
            "Epoch 8/50\n",
            "268/268 [==============================] - 59s 220ms/step - loss: 2.1341 - accuracy: 0.4019 - top-5-accuracy: 0.7373 - val_loss: 1.8322 - val_accuracy: 0.4695 - val_top-5-accuracy: 0.8147\n",
            "Epoch 9/50\n",
            "268/268 [==============================] - 59s 220ms/step - loss: 1.9956 - accuracy: 0.4299 - top-5-accuracy: 0.7651 - val_loss: 1.9479 - val_accuracy: 0.4453 - val_top-5-accuracy: 0.7779\n",
            "Epoch 10/50\n",
            "268/268 [==============================] - 59s 220ms/step - loss: 1.8855 - accuracy: 0.4520 - top-5-accuracy: 0.7937 - val_loss: 1.6894 - val_accuracy: 0.5179 - val_top-5-accuracy: 0.8316\n",
            "Epoch 11/50\n",
            "268/268 [==============================] - 59s 220ms/step - loss: 1.7629 - accuracy: 0.4864 - top-5-accuracy: 0.8221 - val_loss: 1.7619 - val_accuracy: 0.4905 - val_top-5-accuracy: 0.8105\n",
            "Epoch 12/50\n",
            "268/268 [==============================] - 59s 220ms/step - loss: 1.6900 - accuracy: 0.5030 - top-5-accuracy: 0.8344 - val_loss: 1.7093 - val_accuracy: 0.5095 - val_top-5-accuracy: 0.8284\n",
            "Epoch 13/50\n",
            "268/268 [==============================] - 59s 220ms/step - loss: 1.5670 - accuracy: 0.5289 - top-5-accuracy: 0.8567 - val_loss: 1.6033 - val_accuracy: 0.5379 - val_top-5-accuracy: 0.8505\n",
            "Epoch 14/50\n",
            "268/268 [==============================] - 59s 220ms/step - loss: 1.4896 - accuracy: 0.5560 - top-5-accuracy: 0.8683 - val_loss: 1.4744 - val_accuracy: 0.5684 - val_top-5-accuracy: 0.8811\n",
            "Epoch 15/50\n",
            "268/268 [==============================] - 59s 220ms/step - loss: 1.3799 - accuracy: 0.5897 - top-5-accuracy: 0.8869 - val_loss: 1.4315 - val_accuracy: 0.5832 - val_top-5-accuracy: 0.8811\n",
            "Epoch 16/50\n",
            "268/268 [==============================] - 59s 220ms/step - loss: 1.3111 - accuracy: 0.6081 - top-5-accuracy: 0.8959 - val_loss: 1.4753 - val_accuracy: 0.5632 - val_top-5-accuracy: 0.8884\n",
            "Epoch 17/50\n",
            "268/268 [==============================] - 59s 220ms/step - loss: 1.2117 - accuracy: 0.6305 - top-5-accuracy: 0.9105 - val_loss: 1.3804 - val_accuracy: 0.6032 - val_top-5-accuracy: 0.8800\n",
            "Epoch 18/50\n",
            "268/268 [==============================] - 59s 220ms/step - loss: 1.1549 - accuracy: 0.6513 - top-5-accuracy: 0.9195 - val_loss: 1.4455 - val_accuracy: 0.5811 - val_top-5-accuracy: 0.8853\n",
            "Epoch 19/50\n",
            "268/268 [==============================] - 59s 220ms/step - loss: 1.0895 - accuracy: 0.6665 - top-5-accuracy: 0.9308 - val_loss: 1.3547 - val_accuracy: 0.6189 - val_top-5-accuracy: 0.8916\n",
            "Epoch 20/50\n",
            "268/268 [==============================] - 59s 220ms/step - loss: 1.0328 - accuracy: 0.6873 - top-5-accuracy: 0.9412 - val_loss: 1.3705 - val_accuracy: 0.6063 - val_top-5-accuracy: 0.8958\n",
            "Epoch 21/50\n",
            "268/268 [==============================] - 59s 220ms/step - loss: 0.9852 - accuracy: 0.6998 - top-5-accuracy: 0.9447 - val_loss: 1.2450 - val_accuracy: 0.6379 - val_top-5-accuracy: 0.9074\n",
            "Epoch 22/50\n",
            "268/268 [==============================] - 59s 220ms/step - loss: 0.9182 - accuracy: 0.7180 - top-5-accuracy: 0.9492 - val_loss: 1.4508 - val_accuracy: 0.6126 - val_top-5-accuracy: 0.8811\n",
            "Epoch 23/50\n",
            "268/268 [==============================] - 59s 220ms/step - loss: 0.8640 - accuracy: 0.7358 - top-5-accuracy: 0.9560 - val_loss: 1.3929 - val_accuracy: 0.6126 - val_top-5-accuracy: 0.8958\n",
            "Epoch 24/50\n",
            "268/268 [==============================] - 59s 219ms/step - loss: 0.8213 - accuracy: 0.7461 - top-5-accuracy: 0.9593 - val_loss: 1.3348 - val_accuracy: 0.6295 - val_top-5-accuracy: 0.8863\n",
            "Epoch 25/50\n",
            "268/268 [==============================] - 59s 220ms/step - loss: 0.8036 - accuracy: 0.7529 - top-5-accuracy: 0.9629 - val_loss: 1.3779 - val_accuracy: 0.6263 - val_top-5-accuracy: 0.8905\n",
            "Epoch 26/50\n",
            "268/268 [==============================] - 59s 220ms/step - loss: 0.7365 - accuracy: 0.7730 - top-5-accuracy: 0.9687 - val_loss: 1.4634 - val_accuracy: 0.6232 - val_top-5-accuracy: 0.8884\n",
            "Epoch 27/50\n",
            "268/268 [==============================] - 59s 220ms/step - loss: 0.6957 - accuracy: 0.7856 - top-5-accuracy: 0.9722 - val_loss: 1.3761 - val_accuracy: 0.6368 - val_top-5-accuracy: 0.8853\n",
            "Epoch 28/50\n",
            "268/268 [==============================] - 59s 220ms/step - loss: 0.6766 - accuracy: 0.7905 - top-5-accuracy: 0.9724 - val_loss: 1.4194 - val_accuracy: 0.6295 - val_top-5-accuracy: 0.9000\n",
            "Epoch 29/50\n",
            "268/268 [==============================] - 59s 220ms/step - loss: 0.6633 - accuracy: 0.7966 - top-5-accuracy: 0.9729 - val_loss: 1.3776 - val_accuracy: 0.6463 - val_top-5-accuracy: 0.9053\n",
            "Epoch 30/50\n",
            "268/268 [==============================] - 59s 220ms/step - loss: 0.6388 - accuracy: 0.8005 - top-5-accuracy: 0.9763 - val_loss: 1.3413 - val_accuracy: 0.6547 - val_top-5-accuracy: 0.9074\n",
            "Epoch 31/50\n",
            "268/268 [==============================] - 59s 220ms/step - loss: 0.6137 - accuracy: 0.8099 - top-5-accuracy: 0.9796 - val_loss: 1.3050 - val_accuracy: 0.6474 - val_top-5-accuracy: 0.9032\n",
            "Epoch 32/50\n",
            "268/268 [==============================] - 59s 220ms/step - loss: 0.5662 - accuracy: 0.8220 - top-5-accuracy: 0.9816 - val_loss: 1.3429 - val_accuracy: 0.6632 - val_top-5-accuracy: 0.9084\n",
            "Epoch 33/50\n",
            "268/268 [==============================] - 59s 220ms/step - loss: 0.5821 - accuracy: 0.8188 - top-5-accuracy: 0.9798 - val_loss: 1.4078 - val_accuracy: 0.6421 - val_top-5-accuracy: 0.9074\n",
            "Epoch 34/50\n",
            "268/268 [==============================] - 59s 219ms/step - loss: 0.5554 - accuracy: 0.8244 - top-5-accuracy: 0.9829 - val_loss: 1.2992 - val_accuracy: 0.6663 - val_top-5-accuracy: 0.9063\n",
            "Epoch 35/50\n",
            "268/268 [==============================] - 59s 220ms/step - loss: 0.5315 - accuracy: 0.8344 - top-5-accuracy: 0.9841 - val_loss: 1.3754 - val_accuracy: 0.6558 - val_top-5-accuracy: 0.9032\n",
            "Epoch 36/50\n",
            "268/268 [==============================] - 59s 219ms/step - loss: 0.5451 - accuracy: 0.8296 - top-5-accuracy: 0.9827 - val_loss: 1.4050 - val_accuracy: 0.6442 - val_top-5-accuracy: 0.8989\n",
            "Epoch 37/50\n",
            "268/268 [==============================] - 59s 220ms/step - loss: 0.5238 - accuracy: 0.8358 - top-5-accuracy: 0.9858 - val_loss: 1.3932 - val_accuracy: 0.6600 - val_top-5-accuracy: 0.8895\n",
            "Epoch 38/50\n",
            "268/268 [==============================] - 59s 219ms/step - loss: 0.4811 - accuracy: 0.8508 - top-5-accuracy: 0.9857 - val_loss: 1.3558 - val_accuracy: 0.6537 - val_top-5-accuracy: 0.9074\n",
            "Epoch 39/50\n",
            "268/268 [==============================] - 59s 220ms/step - loss: 0.4932 - accuracy: 0.8434 - top-5-accuracy: 0.9842 - val_loss: 1.5289 - val_accuracy: 0.6189 - val_top-5-accuracy: 0.8863\n",
            "Epoch 40/50\n",
            "268/268 [==============================] - 59s 221ms/step - loss: 0.4847 - accuracy: 0.8522 - top-5-accuracy: 0.9837 - val_loss: 1.2426 - val_accuracy: 0.6874 - val_top-5-accuracy: 0.9137\n",
            "Epoch 41/50\n",
            "268/268 [==============================] - 59s 220ms/step - loss: 0.4409 - accuracy: 0.8625 - top-5-accuracy: 0.9882 - val_loss: 1.4106 - val_accuracy: 0.6695 - val_top-5-accuracy: 0.9032\n",
            "Epoch 42/50\n",
            "268/268 [==============================] - 59s 220ms/step - loss: 0.4365 - accuracy: 0.8621 - top-5-accuracy: 0.9897 - val_loss: 1.4521 - val_accuracy: 0.6558 - val_top-5-accuracy: 0.8926\n",
            "Epoch 43/50\n",
            "268/268 [==============================] - 59s 220ms/step - loss: 0.4493 - accuracy: 0.8598 - top-5-accuracy: 0.9888 - val_loss: 1.4277 - val_accuracy: 0.6432 - val_top-5-accuracy: 0.8895\n",
            "Epoch 44/50\n",
            "268/268 [==============================] - 60s 223ms/step - loss: 0.4263 - accuracy: 0.8667 - top-5-accuracy: 0.9887 - val_loss: 1.4658 - val_accuracy: 0.6589 - val_top-5-accuracy: 0.8926\n",
            "Epoch 45/50\n",
            "268/268 [==============================] - 60s 224ms/step - loss: 0.4134 - accuracy: 0.8733 - top-5-accuracy: 0.9892 - val_loss: 1.6375 - val_accuracy: 0.5863 - val_top-5-accuracy: 0.8737\n",
            "Epoch 46/50\n",
            "268/268 [==============================] - 59s 220ms/step - loss: 0.4327 - accuracy: 0.8662 - top-5-accuracy: 0.9871 - val_loss: 1.4861 - val_accuracy: 0.6663 - val_top-5-accuracy: 0.8926\n",
            "Epoch 47/50\n",
            "268/268 [==============================] - 59s 221ms/step - loss: 0.4453 - accuracy: 0.8601 - top-5-accuracy: 0.9881 - val_loss: 1.5767 - val_accuracy: 0.6358 - val_top-5-accuracy: 0.8884\n",
            "Epoch 48/50\n",
            "268/268 [==============================] - 59s 220ms/step - loss: 0.4211 - accuracy: 0.8640 - top-5-accuracy: 0.9891 - val_loss: 1.4999 - val_accuracy: 0.6400 - val_top-5-accuracy: 0.8905\n",
            "Epoch 49/50\n",
            "268/268 [==============================] - 59s 220ms/step - loss: 0.4005 - accuracy: 0.8729 - top-5-accuracy: 0.9927 - val_loss: 1.4729 - val_accuracy: 0.6579 - val_top-5-accuracy: 0.8926\n",
            "Epoch 50/50\n",
            "268/268 [==============================] - 59s 220ms/step - loss: 0.3960 - accuracy: 0.8764 - top-5-accuracy: 0.9912 - val_loss: 1.4565 - val_accuracy: 0.6463 - val_top-5-accuracy: 0.8916\n"
          ]
        }
      ],
      "source": [
        "# Run experiments with the Shifted Patch Tokenization and\n",
        "# Locality Self Attention modified ViT\n",
        "vit_sl = create_vit_classifier(vanilla=False)\n",
        "history_sl = run_experiment(vit_sl)\n"
      ]
    },
    {
      "cell_type": "code",
      "execution_count": null,
      "metadata": {
        "colab": {
          "base_uri": "https://localhost:8080/"
        },
        "id": "sTe7nIrcSDpM",
        "outputId": "a5ded1fa-e806-4e45-9bec-7af84d0f83bd",
        "vscode": {
          "languageId": "python"
        }
      },
      "outputs": [
        {
          "name": "stdout",
          "output_type": "stream",
          "text": [
            "Model: \"model_1\"\n",
            "__________________________________________________________________________________________________\n",
            " Layer (type)                   Output Shape         Param #     Connected to                     \n",
            "==================================================================================================\n",
            " input_2 (InputLayer)           [(None, 110, 110, 3  0           []                               \n",
            "                                )]                                                                \n",
            "                                                                                                  \n",
            " data_augmentation (Sequential)  (None, 72, 72, 3)   7           ['input_2[0][0]']                \n",
            "                                                                                                  \n",
            " shifted_patch_tokenization_3 (  ((None, 144, 64),   35704       ['data_augmentation[1][0]']      \n",
            " ShiftedPatchTokenization)       (None, 12, 12, 540                                               \n",
            "                                ))                                                                \n",
            "                                                                                                  \n",
            " patch_encoder_1 (PatchEncoder)  (None, 144, 64)     9216        ['shifted_patch_tokenization_3[0]\n",
            "                                                                 [0]']                            \n",
            "                                                                                                  \n",
            " layer_normalization_21 (LayerN  (None, 144, 64)     128         ['patch_encoder_1[0][0]']        \n",
            " ormalization)                                                                                    \n",
            "                                                                                                  \n",
            " multi_head_attention_lsa (Mult  (None, 144, 64)     66369       ['layer_normalization_21[0][0]', \n",
            " iHeadAttentionLSA)                                               'layer_normalization_21[0][0]'] \n",
            "                                                                                                  \n",
            " add_16 (Add)                   (None, 144, 64)      0           ['multi_head_attention_lsa[0][0]'\n",
            "                                                                 , 'patch_encoder_1[0][0]']       \n",
            "                                                                                                  \n",
            " layer_normalization_22 (LayerN  (None, 144, 64)     128         ['add_16[0][0]']                 \n",
            " ormalization)                                                                                    \n",
            "                                                                                                  \n",
            " dense_23 (Dense)               (None, 144, 128)     8320        ['layer_normalization_22[0][0]'] \n",
            "                                                                                                  \n",
            " dropout_19 (Dropout)           (None, 144, 128)     0           ['dense_23[0][0]']               \n",
            "                                                                                                  \n",
            " dense_24 (Dense)               (None, 144, 64)      8256        ['dropout_19[0][0]']             \n",
            "                                                                                                  \n",
            " dropout_20 (Dropout)           (None, 144, 64)      0           ['dense_24[0][0]']               \n",
            "                                                                                                  \n",
            " add_17 (Add)                   (None, 144, 64)      0           ['dropout_20[0][0]',             \n",
            "                                                                  'add_16[0][0]']                 \n",
            "                                                                                                  \n",
            " layer_normalization_23 (LayerN  (None, 144, 64)     128         ['add_17[0][0]']                 \n",
            " ormalization)                                                                                    \n",
            "                                                                                                  \n",
            " multi_head_attention_lsa_1 (Mu  (None, 144, 64)     66369       ['layer_normalization_23[0][0]', \n",
            " ltiHeadAttentionLSA)                                             'layer_normalization_23[0][0]'] \n",
            "                                                                                                  \n",
            " add_18 (Add)                   (None, 144, 64)      0           ['multi_head_attention_lsa_1[0][0\n",
            "                                                                 ]',                              \n",
            "                                                                  'add_17[0][0]']                 \n",
            "                                                                                                  \n",
            " layer_normalization_24 (LayerN  (None, 144, 64)     128         ['add_18[0][0]']                 \n",
            " ormalization)                                                                                    \n",
            "                                                                                                  \n",
            " dense_25 (Dense)               (None, 144, 128)     8320        ['layer_normalization_24[0][0]'] \n",
            "                                                                                                  \n",
            " dropout_21 (Dropout)           (None, 144, 128)     0           ['dense_25[0][0]']               \n",
            "                                                                                                  \n",
            " dense_26 (Dense)               (None, 144, 64)      8256        ['dropout_21[0][0]']             \n",
            "                                                                                                  \n",
            " dropout_22 (Dropout)           (None, 144, 64)      0           ['dense_26[0][0]']               \n",
            "                                                                                                  \n",
            " add_19 (Add)                   (None, 144, 64)      0           ['dropout_22[0][0]',             \n",
            "                                                                  'add_18[0][0]']                 \n",
            "                                                                                                  \n",
            " layer_normalization_25 (LayerN  (None, 144, 64)     128         ['add_19[0][0]']                 \n",
            " ormalization)                                                                                    \n",
            "                                                                                                  \n",
            " multi_head_attention_lsa_2 (Mu  (None, 144, 64)     66369       ['layer_normalization_25[0][0]', \n",
            " ltiHeadAttentionLSA)                                             'layer_normalization_25[0][0]'] \n",
            "                                                                                                  \n",
            " add_20 (Add)                   (None, 144, 64)      0           ['multi_head_attention_lsa_2[0][0\n",
            "                                                                 ]',                              \n",
            "                                                                  'add_19[0][0]']                 \n",
            "                                                                                                  \n",
            " layer_normalization_26 (LayerN  (None, 144, 64)     128         ['add_20[0][0]']                 \n",
            " ormalization)                                                                                    \n",
            "                                                                                                  \n",
            " dense_27 (Dense)               (None, 144, 128)     8320        ['layer_normalization_26[0][0]'] \n",
            "                                                                                                  \n",
            " dropout_23 (Dropout)           (None, 144, 128)     0           ['dense_27[0][0]']               \n",
            "                                                                                                  \n",
            " dense_28 (Dense)               (None, 144, 64)      8256        ['dropout_23[0][0]']             \n",
            "                                                                                                  \n",
            " dropout_24 (Dropout)           (None, 144, 64)      0           ['dense_28[0][0]']               \n",
            "                                                                                                  \n",
            " add_21 (Add)                   (None, 144, 64)      0           ['dropout_24[0][0]',             \n",
            "                                                                  'add_20[0][0]']                 \n",
            "                                                                                                  \n",
            " layer_normalization_27 (LayerN  (None, 144, 64)     128         ['add_21[0][0]']                 \n",
            " ormalization)                                                                                    \n",
            "                                                                                                  \n",
            " multi_head_attention_lsa_3 (Mu  (None, 144, 64)     66369       ['layer_normalization_27[0][0]', \n",
            " ltiHeadAttentionLSA)                                             'layer_normalization_27[0][0]'] \n",
            "                                                                                                  \n",
            " add_22 (Add)                   (None, 144, 64)      0           ['multi_head_attention_lsa_3[0][0\n",
            "                                                                 ]',                              \n",
            "                                                                  'add_21[0][0]']                 \n",
            "                                                                                                  \n",
            " layer_normalization_28 (LayerN  (None, 144, 64)     128         ['add_22[0][0]']                 \n",
            " ormalization)                                                                                    \n",
            "                                                                                                  \n",
            " dense_29 (Dense)               (None, 144, 128)     8320        ['layer_normalization_28[0][0]'] \n",
            "                                                                                                  \n",
            " dropout_25 (Dropout)           (None, 144, 128)     0           ['dense_29[0][0]']               \n",
            "                                                                                                  \n",
            " dense_30 (Dense)               (None, 144, 64)      8256        ['dropout_25[0][0]']             \n",
            "                                                                                                  \n",
            " dropout_26 (Dropout)           (None, 144, 64)      0           ['dense_30[0][0]']               \n",
            "                                                                                                  \n",
            " add_23 (Add)                   (None, 144, 64)      0           ['dropout_26[0][0]',             \n",
            "                                                                  'add_22[0][0]']                 \n",
            "                                                                                                  \n",
            " layer_normalization_29 (LayerN  (None, 144, 64)     128         ['add_23[0][0]']                 \n",
            " ormalization)                                                                                    \n",
            "                                                                                                  \n",
            " multi_head_attention_lsa_4 (Mu  (None, 144, 64)     66369       ['layer_normalization_29[0][0]', \n",
            " ltiHeadAttentionLSA)                                             'layer_normalization_29[0][0]'] \n",
            "                                                                                                  \n",
            " add_24 (Add)                   (None, 144, 64)      0           ['multi_head_attention_lsa_4[0][0\n",
            "                                                                 ]',                              \n",
            "                                                                  'add_23[0][0]']                 \n",
            "                                                                                                  \n",
            " layer_normalization_30 (LayerN  (None, 144, 64)     128         ['add_24[0][0]']                 \n",
            " ormalization)                                                                                    \n",
            "                                                                                                  \n",
            " dense_31 (Dense)               (None, 144, 128)     8320        ['layer_normalization_30[0][0]'] \n",
            "                                                                                                  \n",
            " dropout_27 (Dropout)           (None, 144, 128)     0           ['dense_31[0][0]']               \n",
            "                                                                                                  \n",
            " dense_32 (Dense)               (None, 144, 64)      8256        ['dropout_27[0][0]']             \n",
            "                                                                                                  \n",
            " dropout_28 (Dropout)           (None, 144, 64)      0           ['dense_32[0][0]']               \n",
            "                                                                                                  \n",
            " add_25 (Add)                   (None, 144, 64)      0           ['dropout_28[0][0]',             \n",
            "                                                                  'add_24[0][0]']                 \n",
            "                                                                                                  \n",
            " layer_normalization_31 (LayerN  (None, 144, 64)     128         ['add_25[0][0]']                 \n",
            " ormalization)                                                                                    \n",
            "                                                                                                  \n",
            " multi_head_attention_lsa_5 (Mu  (None, 144, 64)     66369       ['layer_normalization_31[0][0]', \n",
            " ltiHeadAttentionLSA)                                             'layer_normalization_31[0][0]'] \n",
            "                                                                                                  \n",
            " add_26 (Add)                   (None, 144, 64)      0           ['multi_head_attention_lsa_5[0][0\n",
            "                                                                 ]',                              \n",
            "                                                                  'add_25[0][0]']                 \n",
            "                                                                                                  \n",
            " layer_normalization_32 (LayerN  (None, 144, 64)     128         ['add_26[0][0]']                 \n",
            " ormalization)                                                                                    \n",
            "                                                                                                  \n",
            " dense_33 (Dense)               (None, 144, 128)     8320        ['layer_normalization_32[0][0]'] \n",
            "                                                                                                  \n",
            " dropout_29 (Dropout)           (None, 144, 128)     0           ['dense_33[0][0]']               \n",
            "                                                                                                  \n",
            " dense_34 (Dense)               (None, 144, 64)      8256        ['dropout_29[0][0]']             \n",
            "                                                                                                  \n",
            " dropout_30 (Dropout)           (None, 144, 64)      0           ['dense_34[0][0]']               \n",
            "                                                                                                  \n",
            " add_27 (Add)                   (None, 144, 64)      0           ['dropout_30[0][0]',             \n",
            "                                                                  'add_26[0][0]']                 \n",
            "                                                                                                  \n",
            " layer_normalization_33 (LayerN  (None, 144, 64)     128         ['add_27[0][0]']                 \n",
            " ormalization)                                                                                    \n",
            "                                                                                                  \n",
            " multi_head_attention_lsa_6 (Mu  (None, 144, 64)     66369       ['layer_normalization_33[0][0]', \n",
            " ltiHeadAttentionLSA)                                             'layer_normalization_33[0][0]'] \n",
            "                                                                                                  \n",
            " add_28 (Add)                   (None, 144, 64)      0           ['multi_head_attention_lsa_6[0][0\n",
            "                                                                 ]',                              \n",
            "                                                                  'add_27[0][0]']                 \n",
            "                                                                                                  \n",
            " layer_normalization_34 (LayerN  (None, 144, 64)     128         ['add_28[0][0]']                 \n",
            " ormalization)                                                                                    \n",
            "                                                                                                  \n",
            " dense_35 (Dense)               (None, 144, 128)     8320        ['layer_normalization_34[0][0]'] \n",
            "                                                                                                  \n",
            " dropout_31 (Dropout)           (None, 144, 128)     0           ['dense_35[0][0]']               \n",
            "                                                                                                  \n",
            " dense_36 (Dense)               (None, 144, 64)      8256        ['dropout_31[0][0]']             \n",
            "                                                                                                  \n",
            " dropout_32 (Dropout)           (None, 144, 64)      0           ['dense_36[0][0]']               \n",
            "                                                                                                  \n",
            " add_29 (Add)                   (None, 144, 64)      0           ['dropout_32[0][0]',             \n",
            "                                                                  'add_28[0][0]']                 \n",
            "                                                                                                  \n",
            " layer_normalization_35 (LayerN  (None, 144, 64)     128         ['add_29[0][0]']                 \n",
            " ormalization)                                                                                    \n",
            "                                                                                                  \n",
            " multi_head_attention_lsa_7 (Mu  (None, 144, 64)     66369       ['layer_normalization_35[0][0]', \n",
            " ltiHeadAttentionLSA)                                             'layer_normalization_35[0][0]'] \n",
            "                                                                                                  \n",
            " add_30 (Add)                   (None, 144, 64)      0           ['multi_head_attention_lsa_7[0][0\n",
            "                                                                 ]',                              \n",
            "                                                                  'add_29[0][0]']                 \n",
            "                                                                                                  \n",
            " layer_normalization_36 (LayerN  (None, 144, 64)     128         ['add_30[0][0]']                 \n",
            " ormalization)                                                                                    \n",
            "                                                                                                  \n",
            " dense_37 (Dense)               (None, 144, 128)     8320        ['layer_normalization_36[0][0]'] \n",
            "                                                                                                  \n",
            " dropout_33 (Dropout)           (None, 144, 128)     0           ['dense_37[0][0]']               \n",
            "                                                                                                  \n",
            " dense_38 (Dense)               (None, 144, 64)      8256        ['dropout_33[0][0]']             \n",
            "                                                                                                  \n",
            " dropout_34 (Dropout)           (None, 144, 64)      0           ['dense_38[0][0]']               \n",
            "                                                                                                  \n",
            " add_31 (Add)                   (None, 144, 64)      0           ['dropout_34[0][0]',             \n",
            "                                                                  'add_30[0][0]']                 \n",
            "                                                                                                  \n",
            " layer_normalization_37 (LayerN  (None, 144, 64)     128         ['add_31[0][0]']                 \n",
            " ormalization)                                                                                    \n",
            "                                                                                                  \n",
            " flatten_1 (Flatten)            (None, 9216)         0           ['layer_normalization_37[0][0]'] \n",
            "                                                                                                  \n",
            " dropout_35 (Dropout)           (None, 9216)         0           ['flatten_1[0][0]']              \n",
            "                                                                                                  \n",
            " dense_39 (Dense)               (None, 2048)         18876416    ['dropout_35[0][0]']             \n",
            "                                                                                                  \n",
            " dropout_36 (Dropout)           (None, 2048)         0           ['dense_39[0][0]']               \n",
            "                                                                                                  \n",
            " dense_40 (Dense)               (None, 1024)         2098176     ['dropout_36[0][0]']             \n",
            "                                                                                                  \n",
            " dropout_37 (Dropout)           (None, 1024)         0           ['dense_40[0][0]']               \n",
            "                                                                                                  \n",
            " dense_41 (Dense)               (None, 49)           50225       ['dropout_37[0][0]']             \n",
            "                                                                                                  \n",
            "==================================================================================================\n",
            "Total params: 21,735,480\n",
            "Trainable params: 21,735,473\n",
            "Non-trainable params: 7\n",
            "__________________________________________________________________________________________________\n"
          ]
        }
      ],
      "source": [
        "vit_sl.summary()"
      ]
    },
    {
      "attachments": {},
      "cell_type": "markdown",
      "metadata": {},
      "source": [
        "### Results"
      ]
    },
    {
      "cell_type": "code",
      "execution_count": null,
      "metadata": {
        "colab": {
          "base_uri": "https://localhost:8080/",
          "height": 573
        },
        "id": "0nLs9gi6vC7q",
        "outputId": "4d93744b-d8b2-4c39-f3a1-3a4846ebe905",
        "vscode": {
          "languageId": "python"
        }
      },
      "outputs": [
        {
          "data": {
            "image/png": "[encoded data removed]",
            "text/plain": [
              "<Figure size 432x288 with 1 Axes>"
            ]
          },
          "metadata": {
            "needs_background": "light"
          },
          "output_type": "display_data"
        },
        {
          "data": {
            "image/png": "[encoded data removed]",
            "text/plain": [
              "<Figure size 432x288 with 1 Axes>"
            ]
          },
          "metadata": {
            "needs_background": "light"
          },
          "output_type": "display_data"
        }
      ],
      "source": [
        "# model loss\n",
        "loss='categorical_crossentropy'\n",
        "metrics=['accuracy']\n",
        "\n",
        "plt.plot(history_sl.history['loss'])\n",
        "plt.plot(history_sl.history['val_loss'])\n",
        "plt.title('Model loss : ' + loss)\n",
        "plt.ylabel('Loss')\n",
        "plt.xlabel('Epoch')\n",
        "plt.legend(['Training', 'Validation'], loc='best')\n",
        "plt.show()\n",
        "plt.close()\n",
        "\n",
        "# model accuracy metric\n",
        "\n",
        "plt.plot(np.array(history_sl.history[metrics[0]]))\n",
        "plt.plot(np.array(history_sl.history['val_' + metrics[0]]))\n",
        "plt.title('Model accuracy metric : ' + metrics[0])\n",
        "plt.ylabel('Accuracy metric')\n",
        "plt.xlabel('Epoch')\n",
        "plt.legend(['Training', 'Validation'], loc='best')\n",
        "plt.show()\n",
        "plt.close()"
      ]
    },
    {
      "cell_type": "code",
      "execution_count": null,
      "metadata": {
        "colab": {
          "base_uri": "https://localhost:8080/"
        },
        "id": "Km2LVdlzJ4QX",
        "outputId": "540d78f8-68ad-4214-c0be-455be1a2d8d3",
        "vscode": {
          "languageId": "python"
        }
      },
      "outputs": [
        {
          "name": "stdout",
          "output_type": "stream",
          "text": [
            "30/30 [==============================] - 3s 82ms/step - loss: 1.4845 - accuracy: 0.6484 - top-5-accuracy: 0.8789\n",
            "Test accuracy: 64.84%\n",
            "Test top 5 accuracy: 87.89%\n"
          ]
        }
      ],
      "source": [
        "test_model_ViT = True\n",
        "if test_model_ViT:  \n",
        "  S_DB_test=np.array(downsample_image(S_DB_test, chosen_input_size))\n",
        "  _, accuracy, top_5_accuracy = vit_sl.evaluate(S_DB_test, person_test_GT, batch_size=BATCH_SIZE)\n",
        "  print(f\"Test accuracy: {round(accuracy * 100, 2)}%\")\n",
        "  print(f\"Test top 5 accuracy: {round(top_5_accuracy * 100, 2)}%\")"
      ]
    },
    {
      "cell_type": "code",
      "execution_count": null,
      "metadata": {
        "colab": {
          "base_uri": "https://localhost:8080/"
        },
        "id": "2Z_Lyg0ZGmpA",
        "outputId": "28ab7f19-2192-4a0d-a270-a794d3215dac",
        "vscode": {
          "languageId": "python"
        }
      },
      "outputs": [
        {
          "name": "stdout",
          "output_type": "stream",
          "text": [
            "/content/drive/.shortcut-targets-by-id/1K5OFKaoitJ_c6tsV6UYFW_Ts0E8dqdld/DLOI_Project/trained_models\n"
          ]
        },
        {
          "name": "stderr",
          "output_type": "stream",
          "text": [
            "WARNING:absl:Found untraced functions such as reshape_3_layer_call_fn, reshape_3_layer_call_and_return_conditional_losses, dense_22_layer_call_fn, dense_22_layer_call_and_return_conditional_losses, layer_normalization_20_layer_call_fn while saving (showing 5 of 104). These functions will not be directly callable after loading.\n"
          ]
        },
        {
          "name": "stdout",
          "output_type": "stream",
          "text": [
            "INFO:tensorflow:Assets written to: TRANSFO_Model_sl_clean/assets\n"
          ]
        },
        {
          "name": "stderr",
          "output_type": "stream",
          "text": [
            "INFO:tensorflow:Assets written to: TRANSFO_Model_sl_clean/assets\n"
          ]
        },
        {
          "name": "stdout",
          "output_type": "stream",
          "text": [
            "/content/drive/.shortcut-targets-by-id/1K5OFKaoitJ_c6tsV6UYFW_Ts0E8dqdld/DLOI_Project\n"
          ]
        }
      ],
      "source": [
        "if save_models:\n",
        "  %cd trained_models/\n",
        "  vit_sl.save('TRANSFO_Model_sl_clean')\n",
        "  %cd ..\n",
        "  # to load back model: keras.models.load_model('MS_Model')"
      ]
    },
    {
      "attachments": {},
      "cell_type": "markdown",
      "metadata": {
        "id": "kdmxB1EmhAUU"
      },
      "source": [
        "### Non-Augemented audio files"
      ]
    },
    {
      "cell_type": "code",
      "execution_count": null,
      "metadata": {
        "colab": {
          "base_uri": "https://localhost:8080/"
        },
        "id": "wxTUIMUiKoKv",
        "outputId": "3fdd6ee2-1c0a-4249-ad62-750b95ac3f69",
        "vscode": {
          "languageId": "python"
        }
      },
      "outputs": [
        {
          "name": "stdout",
          "output_type": "stream",
          "text": [
            "Epoch 1/50\n",
            "90/90 [==============================] - 27s 129ms/step - loss: 4.6546 - accuracy: 0.0435 - top-5-accuracy: 0.1596 - val_loss: 3.7312 - val_accuracy: 0.0811 - val_top-5-accuracy: 0.2905\n",
            "Epoch 2/50\n",
            "90/90 [==============================] - 9s 105ms/step - loss: 3.7719 - accuracy: 0.0895 - top-5-accuracy: 0.2789 - val_loss: 3.3043 - val_accuracy: 0.2032 - val_top-5-accuracy: 0.4621\n",
            "Epoch 3/50\n",
            "90/90 [==============================] - 9s 95ms/step - loss: 3.5070 - accuracy: 0.1323 - top-5-accuracy: 0.3726 - val_loss: 3.1161 - val_accuracy: 0.2242 - val_top-5-accuracy: 0.5000\n",
            "Epoch 4/50\n",
            "90/90 [==============================] - 9s 96ms/step - loss: 3.3772 - accuracy: 0.1505 - top-5-accuracy: 0.4144 - val_loss: 2.9427 - val_accuracy: 0.2368 - val_top-5-accuracy: 0.5611\n",
            "Epoch 5/50\n",
            "90/90 [==============================] - 8s 88ms/step - loss: 3.2439 - accuracy: 0.1733 - top-5-accuracy: 0.4530 - val_loss: 2.7334 - val_accuracy: 0.3032 - val_top-5-accuracy: 0.6168\n",
            "Epoch 6/50\n",
            "90/90 [==============================] - 7s 80ms/step - loss: 3.0782 - accuracy: 0.2049 - top-5-accuracy: 0.5028 - val_loss: 2.6962 - val_accuracy: 0.2800 - val_top-5-accuracy: 0.5947\n",
            "Epoch 7/50\n",
            "90/90 [==============================] - 7s 80ms/step - loss: 3.0045 - accuracy: 0.2147 - top-5-accuracy: 0.5207 - val_loss: 2.6729 - val_accuracy: 0.2684 - val_top-5-accuracy: 0.6042\n",
            "Epoch 8/50\n",
            "90/90 [==============================] - 7s 81ms/step - loss: 2.9346 - accuracy: 0.2288 - top-5-accuracy: 0.5512 - val_loss: 2.5745 - val_accuracy: 0.3232 - val_top-5-accuracy: 0.6463\n",
            "Epoch 9/50\n",
            "90/90 [==============================] - 7s 81ms/step - loss: 2.8854 - accuracy: 0.2312 - top-5-accuracy: 0.5537 - val_loss: 2.3921 - val_accuracy: 0.3526 - val_top-5-accuracy: 0.6768\n",
            "Epoch 10/50\n",
            "90/90 [==============================] - 8s 85ms/step - loss: 2.7980 - accuracy: 0.2544 - top-5-accuracy: 0.5642 - val_loss: 2.3726 - val_accuracy: 0.3758 - val_top-5-accuracy: 0.6811\n",
            "Epoch 11/50\n",
            "90/90 [==============================] - 7s 82ms/step - loss: 2.7047 - accuracy: 0.2786 - top-5-accuracy: 0.5947 - val_loss: 2.3215 - val_accuracy: 0.3737 - val_top-5-accuracy: 0.6926\n",
            "Epoch 12/50\n",
            "90/90 [==============================] - 7s 82ms/step - loss: 2.7089 - accuracy: 0.2716 - top-5-accuracy: 0.6102 - val_loss: 2.2873 - val_accuracy: 0.3863 - val_top-5-accuracy: 0.7011\n",
            "Epoch 13/50\n",
            "90/90 [==============================] - 7s 83ms/step - loss: 2.6287 - accuracy: 0.2951 - top-5-accuracy: 0.6263 - val_loss: 2.3098 - val_accuracy: 0.3811 - val_top-5-accuracy: 0.6884\n",
            "Epoch 14/50\n",
            "90/90 [==============================] - 7s 83ms/step - loss: 2.5839 - accuracy: 0.2937 - top-5-accuracy: 0.6337 - val_loss: 2.2471 - val_accuracy: 0.4000 - val_top-5-accuracy: 0.7389\n",
            "Epoch 15/50\n",
            "90/90 [==============================] - 7s 83ms/step - loss: 2.5082 - accuracy: 0.3112 - top-5-accuracy: 0.6558 - val_loss: 2.1763 - val_accuracy: 0.3789 - val_top-5-accuracy: 0.7358\n",
            "Epoch 16/50\n",
            "90/90 [==============================] - 7s 82ms/step - loss: 2.5055 - accuracy: 0.3242 - top-5-accuracy: 0.6519 - val_loss: 2.2682 - val_accuracy: 0.3821 - val_top-5-accuracy: 0.7305\n",
            "Epoch 17/50\n",
            "90/90 [==============================] - 7s 82ms/step - loss: 2.4101 - accuracy: 0.3365 - top-5-accuracy: 0.6702 - val_loss: 2.0808 - val_accuracy: 0.4347 - val_top-5-accuracy: 0.7274\n",
            "Epoch 18/50\n",
            "90/90 [==============================] - 7s 82ms/step - loss: 2.3832 - accuracy: 0.3382 - top-5-accuracy: 0.6782 - val_loss: 2.0327 - val_accuracy: 0.4463 - val_top-5-accuracy: 0.7642\n",
            "Epoch 19/50\n",
            "90/90 [==============================] - 8s 87ms/step - loss: 2.3246 - accuracy: 0.3554 - top-5-accuracy: 0.6979 - val_loss: 2.0737 - val_accuracy: 0.4095 - val_top-5-accuracy: 0.7611\n",
            "Epoch 20/50\n",
            "90/90 [==============================] - 7s 83ms/step - loss: 2.3424 - accuracy: 0.3530 - top-5-accuracy: 0.6968 - val_loss: 2.0532 - val_accuracy: 0.4326 - val_top-5-accuracy: 0.7558\n",
            "Epoch 21/50\n",
            "90/90 [==============================] - 7s 82ms/step - loss: 2.2515 - accuracy: 0.3705 - top-5-accuracy: 0.7116 - val_loss: 1.9362 - val_accuracy: 0.4400 - val_top-5-accuracy: 0.7674\n",
            "Epoch 22/50\n",
            "90/90 [==============================] - 7s 82ms/step - loss: 2.2320 - accuracy: 0.3786 - top-5-accuracy: 0.7179 - val_loss: 2.0564 - val_accuracy: 0.4232 - val_top-5-accuracy: 0.7526\n",
            "Epoch 23/50\n",
            "90/90 [==============================] - 8s 86ms/step - loss: 2.3034 - accuracy: 0.3660 - top-5-accuracy: 0.7018 - val_loss: 2.0640 - val_accuracy: 0.4211 - val_top-5-accuracy: 0.7505\n",
            "Epoch 24/50\n",
            "90/90 [==============================] - 8s 87ms/step - loss: 2.2018 - accuracy: 0.3874 - top-5-accuracy: 0.7186 - val_loss: 2.0360 - val_accuracy: 0.4421 - val_top-5-accuracy: 0.7547\n",
            "Epoch 25/50\n",
            "90/90 [==============================] - 7s 83ms/step - loss: 2.2129 - accuracy: 0.3835 - top-5-accuracy: 0.7102 - val_loss: 1.9922 - val_accuracy: 0.4621 - val_top-5-accuracy: 0.7737\n",
            "Epoch 26/50\n",
            "90/90 [==============================] - 7s 82ms/step - loss: 2.2568 - accuracy: 0.3726 - top-5-accuracy: 0.7228 - val_loss: 1.9504 - val_accuracy: 0.4726 - val_top-5-accuracy: 0.7968\n",
            "Epoch 27/50\n",
            "90/90 [==============================] - 7s 82ms/step - loss: 2.3543 - accuracy: 0.3505 - top-5-accuracy: 0.6863 - val_loss: 2.0577 - val_accuracy: 0.4326 - val_top-5-accuracy: 0.7674\n",
            "Epoch 28/50\n",
            "90/90 [==============================] - 7s 82ms/step - loss: 2.2260 - accuracy: 0.3912 - top-5-accuracy: 0.7235 - val_loss: 2.0338 - val_accuracy: 0.4284 - val_top-5-accuracy: 0.7537\n",
            "Epoch 29/50\n",
            "90/90 [==============================] - 7s 82ms/step - loss: 2.4042 - accuracy: 0.3470 - top-5-accuracy: 0.6705 - val_loss: 2.2140 - val_accuracy: 0.3937 - val_top-5-accuracy: 0.7232\n",
            "Epoch 30/50\n",
            "90/90 [==============================] - 7s 82ms/step - loss: 2.3593 - accuracy: 0.3509 - top-5-accuracy: 0.6842 - val_loss: 2.2366 - val_accuracy: 0.3811 - val_top-5-accuracy: 0.7347\n",
            "Epoch 31/50\n",
            "90/90 [==============================] - 7s 82ms/step - loss: 2.2861 - accuracy: 0.3712 - top-5-accuracy: 0.7014 - val_loss: 1.9679 - val_accuracy: 0.4389 - val_top-5-accuracy: 0.7800\n",
            "Epoch 32/50\n",
            "90/90 [==============================] - 7s 82ms/step - loss: 2.2175 - accuracy: 0.3744 - top-5-accuracy: 0.7281 - val_loss: 1.9468 - val_accuracy: 0.4642 - val_top-5-accuracy: 0.7863\n",
            "Epoch 33/50\n",
            "90/90 [==============================] - 8s 87ms/step - loss: 2.2216 - accuracy: 0.3849 - top-5-accuracy: 0.7284 - val_loss: 2.1271 - val_accuracy: 0.4189 - val_top-5-accuracy: 0.7484\n",
            "Epoch 34/50\n",
            "90/90 [==============================] - 7s 82ms/step - loss: 2.2744 - accuracy: 0.3582 - top-5-accuracy: 0.7211 - val_loss: 2.0989 - val_accuracy: 0.4263 - val_top-5-accuracy: 0.7463\n",
            "Epoch 35/50\n",
            "90/90 [==============================] - 7s 82ms/step - loss: 2.1441 - accuracy: 0.4004 - top-5-accuracy: 0.7456 - val_loss: 1.9347 - val_accuracy: 0.4653 - val_top-5-accuracy: 0.7737\n",
            "Epoch 36/50\n",
            "90/90 [==============================] - 7s 82ms/step - loss: 2.1200 - accuracy: 0.4088 - top-5-accuracy: 0.7547 - val_loss: 1.8733 - val_accuracy: 0.4611 - val_top-5-accuracy: 0.7884\n",
            "Epoch 37/50\n",
            "90/90 [==============================] - 7s 81ms/step - loss: 2.0410 - accuracy: 0.4260 - top-5-accuracy: 0.7575 - val_loss: 1.8403 - val_accuracy: 0.4937 - val_top-5-accuracy: 0.8021\n",
            "Epoch 38/50\n",
            "90/90 [==============================] - 7s 81ms/step - loss: 1.9964 - accuracy: 0.4365 - top-5-accuracy: 0.7804 - val_loss: 1.8638 - val_accuracy: 0.4695 - val_top-5-accuracy: 0.8042\n",
            "Epoch 39/50\n",
            "90/90 [==============================] - 7s 82ms/step - loss: 1.9886 - accuracy: 0.4449 - top-5-accuracy: 0.7751 - val_loss: 2.1166 - val_accuracy: 0.4158 - val_top-5-accuracy: 0.7411\n",
            "Epoch 40/50\n",
            "90/90 [==============================] - 7s 81ms/step - loss: 1.9370 - accuracy: 0.4596 - top-5-accuracy: 0.7839 - val_loss: 1.8257 - val_accuracy: 0.4979 - val_top-5-accuracy: 0.8053\n",
            "Epoch 41/50\n",
            "90/90 [==============================] - 7s 81ms/step - loss: 1.8575 - accuracy: 0.4621 - top-5-accuracy: 0.7940 - val_loss: 1.8000 - val_accuracy: 0.5021 - val_top-5-accuracy: 0.8074\n",
            "Epoch 42/50\n",
            "90/90 [==============================] - 7s 82ms/step - loss: 1.8031 - accuracy: 0.4804 - top-5-accuracy: 0.8284 - val_loss: 1.7076 - val_accuracy: 0.5232 - val_top-5-accuracy: 0.8326\n",
            "Epoch 43/50\n",
            "90/90 [==============================] - 7s 82ms/step - loss: 1.7334 - accuracy: 0.4881 - top-5-accuracy: 0.8326 - val_loss: 1.8598 - val_accuracy: 0.4726 - val_top-5-accuracy: 0.8032\n",
            "Epoch 44/50\n",
            "90/90 [==============================] - 7s 82ms/step - loss: 1.7035 - accuracy: 0.5032 - top-5-accuracy: 0.8323 - val_loss: 1.6920 - val_accuracy: 0.5095 - val_top-5-accuracy: 0.8389\n",
            "Epoch 45/50\n",
            "90/90 [==============================] - 7s 82ms/step - loss: 1.7454 - accuracy: 0.4870 - top-5-accuracy: 0.8460 - val_loss: 1.8921 - val_accuracy: 0.4621 - val_top-5-accuracy: 0.7905\n",
            "Epoch 46/50\n",
            "90/90 [==============================] - 7s 82ms/step - loss: 1.7073 - accuracy: 0.4989 - top-5-accuracy: 0.8386 - val_loss: 1.6682 - val_accuracy: 0.5168 - val_top-5-accuracy: 0.8442\n",
            "Epoch 47/50\n",
            "90/90 [==============================] - 7s 81ms/step - loss: 1.6421 - accuracy: 0.5277 - top-5-accuracy: 0.8470 - val_loss: 1.8416 - val_accuracy: 0.4811 - val_top-5-accuracy: 0.8158\n",
            "Epoch 48/50\n",
            "90/90 [==============================] - 7s 81ms/step - loss: 1.6306 - accuracy: 0.5267 - top-5-accuracy: 0.8442 - val_loss: 1.8169 - val_accuracy: 0.4832 - val_top-5-accuracy: 0.8158\n",
            "Epoch 49/50\n",
            "90/90 [==============================] - 7s 81ms/step - loss: 1.6005 - accuracy: 0.5323 - top-5-accuracy: 0.8547 - val_loss: 1.6280 - val_accuracy: 0.5358 - val_top-5-accuracy: 0.8463\n",
            "Epoch 50/50\n",
            "90/90 [==============================] - 7s 81ms/step - loss: 1.5461 - accuracy: 0.5428 - top-5-accuracy: 0.8642 - val_loss: 1.5809 - val_accuracy: 0.5421 - val_top-5-accuracy: 0.8589\n"
          ]
        }
      ],
      "source": [
        "# Run experiments with the Shifted Patch Tokenization and\n",
        "# Locality Self Attention modified ViT\n",
        "vit_na_sl = create_vit_classifier(vanilla=False)\n",
        "history_na_sl = run_experiment(vit_na_sl)\n"
      ]
    },
    {
      "attachments": {},
      "cell_type": "markdown",
      "metadata": {},
      "source": [
        "### Results"
      ]
    },
    {
      "cell_type": "code",
      "execution_count": null,
      "metadata": {
        "colab": {
          "base_uri": "https://localhost:8080/",
          "height": 573
        },
        "id": "JJJxUySUKuac",
        "outputId": "006c0219-08ae-4c8e-dc2c-76fab62d9ae5",
        "vscode": {
          "languageId": "python"
        }
      },
      "outputs": [
        {
          "data": {
            "image/png": "[encoded data removed]",
            "text/plain": [
              "<Figure size 432x288 with 1 Axes>"
            ]
          },
          "metadata": {
            "needs_background": "light"
          },
          "output_type": "display_data"
        },
        {
          "data": {
            "image/png": "[encoded data removed]",
            "text/plain": [
              "<Figure size 432x288 with 1 Axes>"
            ]
          },
          "metadata": {
            "needs_background": "light"
          },
          "output_type": "display_data"
        }
      ],
      "source": [
        "# model loss\n",
        "loss='categorical_crossentropy'\n",
        "metrics=['accuracy']\n",
        "\n",
        "plt.plot(history_na_sl.history['loss'])\n",
        "plt.plot(history_na_sl.history['val_loss'])\n",
        "plt.title('Model loss : ' + loss)\n",
        "plt.ylabel('Loss')\n",
        "plt.xlabel('Epoch')\n",
        "plt.legend(['Training', 'Validation'], loc='best')\n",
        "plt.show()\n",
        "plt.close()\n",
        "\n",
        "# model accuracy metric\n",
        "\n",
        "plt.plot(np.array(history_na_sl.history[metrics[0]]))\n",
        "plt.plot(np.array(history_na_sl.history['val_' + metrics[0]]))\n",
        "plt.title('Model accuracy metric : ' + metrics[0])\n",
        "plt.ylabel('Accuracy metric')\n",
        "plt.xlabel('Epoch')\n",
        "plt.legend(['Training', 'Validation'], loc='best')\n",
        "plt.show()\n",
        "plt.close()"
      ]
    },
    {
      "cell_type": "code",
      "execution_count": null,
      "metadata": {
        "colab": {
          "base_uri": "https://localhost:8080/"
        },
        "id": "nuYaM00GK0Sv",
        "outputId": "8fb5ee80-cd1c-4ee5-8a1f-3cbc29944b3e",
        "vscode": {
          "languageId": "python"
        }
      },
      "outputs": [
        {
          "name": "stdout",
          "output_type": "stream",
          "text": [
            "30/30 [==============================] - 1s 32ms/step - loss: 1.5660 - accuracy: 0.5432 - top-5-accuracy: 0.8589\n",
            "Test accuracy: 54.32%\n",
            "Test top 5 accuracy: 85.89%\n"
          ]
        }
      ],
      "source": [
        "test_model_ViT = True\n",
        "if test_model_ViT:  \n",
        "  S_DB_test=np.array(downsample_image(S_DB_test, chosen_input_size))\n",
        "  _, accuracy, top_5_accuracy = vit_na_sl.evaluate(S_DB_test, person_test_GT, batch_size=BATCH_SIZE)\n",
        "  print(f\"Test accuracy: {round(accuracy * 100, 2)}%\")\n",
        "  print(f\"Test top 5 accuracy: {round(top_5_accuracy * 100, 2)}%\")"
      ]
    }
  ],
  "metadata": {
    "accelerator": "GPU",
    "colab": {
      "collapsed_sections": [
        "UbCjUDVUuF3d",
        "yVm7ZMU79JAm",
        "PwBU7WTfQrZV",
        "GF-eiIS-RfcK",
        "JwYTokrsIJNT"
      ],
      "machine_shape": "hm",
      "name": "Week_1_audio_part.ipynb",
      "provenance": []
    },
    "kernelspec": {
      "display_name": "Python 3",
      "name": "python3"
    }
  },
  "nbformat": 4,
  "nbformat_minor": 0
}
